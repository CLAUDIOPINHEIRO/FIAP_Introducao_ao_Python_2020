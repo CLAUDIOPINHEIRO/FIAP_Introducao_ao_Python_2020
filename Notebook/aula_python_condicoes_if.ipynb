{
 "cells": [
  {
   "cell_type": "code",
   "execution_count": null,
   "metadata": {},
   "outputs": [],
   "source": []
  },
  {
   "cell_type": "markdown",
   "metadata": {},
   "source": [
    "<a id=\"ref1\"></a>\n",
    "<center><h2>Operadores de comparação e IF </h2></center>"
   ]
  },
  {
   "cell_type": "markdown",
   "metadata": {},
   "source": [
    "As operações de comparação comparam algum valor ou operando e, com base em uma condição, produzem um booleano. Ao comparar dois valores, você pode usar estes operadores:\n",
    "\n",
    "<ul>\n",
    "<li> igual: `==`\n",
    "<li> diferente: `! =`\n",
    "<li> maior que: `>` </li>\n",
    "<li> menor que: `<` </li>\n",
    "<li> maior ou igual a: `> =` </li>\n",
    "<li> menor ou igual a: `<=` </li>\n",
    "</ul>\n",
    "\n",
    "\n",
    "\n"
   ]
  },
  {
   "cell_type": "markdown",
   "metadata": {},
   "source": [
    "Digamos que atribuamos **a** um valor de 6. Podemos usar o operador de igualdade indicado com dois sinais de igual (**==**) para determinar se dois valores são iguais.\n",
    "\n"
   ]
  },
  {
   "cell_type": "code",
   "execution_count": 1,
   "metadata": {
    "collapsed": false,
    "jupyter": {
     "outputs_hidden": false
    }
   },
   "outputs": [
    {
     "data": {
      "text/plain": [
       "False"
      ]
     },
     "execution_count": 1,
     "metadata": {},
     "output_type": "execute_result"
    }
   ],
   "source": [
    "a=5\n",
    "\n",
    "a==6"
   ]
  },
  {
   "cell_type": "markdown",
   "metadata": {},
   "source": [
    "O resultado é falso, pois 5 não é igual a 6."
   ]
  },
  {
   "cell_type": "markdown",
   "metadata": {},
   "source": [
    "Considere o seguinte operador de comparação de igualdade **i> 5**. Se o valor do operando esquerdo, neste caso a variável **i**, for maior que o valor do operando direito, neste caso 5, a condição se tornará **True** ou obteremos **Falso**. Se definirmos **i** igual a 6, veremos que 6 é maior que 5 e, como resultado, obtemos **Verdadeiro**. \n"
   ]
  },
  {
   "cell_type": "code",
   "execution_count": 2,
   "metadata": {
    "collapsed": false,
    "jupyter": {
     "outputs_hidden": false
    }
   },
   "outputs": [
    {
     "data": {
      "text/plain": [
       "True"
      ]
     },
     "execution_count": 2,
     "metadata": {},
     "output_type": "execute_result"
    }
   ],
   "source": [
    "i=6\n",
    "i>5"
   ]
  },
  {
   "cell_type": "markdown",
   "metadata": {},
   "source": [
    "\n",
    "Se nós definirmos **i=2** a condição será **falsa** pois 2 é menor que 5:"
   ]
  },
  {
   "cell_type": "code",
   "execution_count": 1,
   "metadata": {
    "collapsed": false,
    "jupyter": {
     "outputs_hidden": false
    }
   },
   "outputs": [
    {
     "data": {
      "text/plain": [
       "False"
      ]
     },
     "execution_count": 1,
     "metadata": {},
     "output_type": "execute_result"
    }
   ],
   "source": [
    "i=2\n",
    "i>5"
   ]
  },
  {
   "cell_type": "markdown",
   "metadata": {},
   "source": [
    "Vamos exibir alguns valores para ** i ** na figura. Defina os valores maiores que 5 em verde e o restante em vermelho. A região verde representa onde a condição é **Verdadeiro**, o vermelho em que a declaração é falsa. Se o valor de **i** for 2, obtemos **False** quando os 2 caem na região vermelha. Da mesma forma, se o valor de **i** for 6, obtemos um **True**, pois a condição cai na região verde."
   ]
  },
  {
   "cell_type": "markdown",
   "metadata": {},
   "source": [
    "<a ><img src = \"https://ibm.box.com/shared/static/xr028o5qcvxgdn3i1rqsjbxwaq5gb4ki.gif\" width = 500, align = \"center\"></a>\n",
    "  <h4 align=center> \n",
    "  </h4>\n"
   ]
  },
  {
   "cell_type": "markdown",
   "metadata": {},
   "source": [
    "\n",
    "O teste de desigualdade usa um ponto de exclamação precedendo o sinal de igual, se dois operandos não forem iguais, a condição se torna **Verdadeira**. Por exemplo, a seguinte condição produzirá **True** desde que o valor de **i** não seja igual a 6:"
   ]
  },
  {
   "cell_type": "code",
   "execution_count": 2,
   "metadata": {
    "collapsed": false,
    "jupyter": {
     "outputs_hidden": false
    }
   },
   "outputs": [
    {
     "data": {
      "text/plain": [
       "True"
      ]
     },
     "execution_count": 2,
     "metadata": {},
     "output_type": "execute_result"
    }
   ],
   "source": [
    "i=2\n",
    "i!=6"
   ]
  },
  {
   "cell_type": "markdown",
   "metadata": {},
   "source": [
    "Quando **i** é igual a seis, a expressão produz **False**."
   ]
  },
  {
   "cell_type": "code",
   "execution_count": 3,
   "metadata": {
    "collapsed": false,
    "jupyter": {
     "outputs_hidden": false
    }
   },
   "outputs": [
    {
     "data": {
      "text/plain": [
       "False"
      ]
     },
     "execution_count": 3,
     "metadata": {},
     "output_type": "execute_result"
    }
   ],
   "source": [
    "i=6\n",
    "i!=6"
   ]
  },
  {
   "cell_type": "markdown",
   "metadata": {},
   "source": [
    "Podemos usar uma linha numérica como antes, quando a condição é **Verdadeira**, os números correspondentes são marcados em verde e para onde a condição é **Falso**, o número correspondente é marcado em vermelho. Se definirmos **i** igual a 2, o operador será verdadeiro como 2 na região verde. Se definirmos **i** igual a 6, obtemos um **Falso**, pois a condição cai na região vermelha."
   ]
  },
  {
   "cell_type": "markdown",
   "metadata": {},
   "source": [
    " <a ><img src = \"https://ibm.box.com/shared/static/pf6rvks8eh4e1riwki59gx7s9rvmidu4.gif\" width = 500, align = \"center\"></a>\n",
    "  <h4 align=center> \n",
    "  </h4>\n"
   ]
  },
  {
   "cell_type": "markdown",
   "metadata": {},
   "source": [
    "Podemos usar os mesmos métodos em cadeias, por exemplo, se usarmos um operador de igualdade em duas cadeias diferentes. Como as strings não são iguais, obtemos um **False**."
   ]
  },
  {
   "cell_type": "code",
   "execution_count": 4,
   "metadata": {
    "collapsed": false,
    "jupyter": {
     "outputs_hidden": false
    }
   },
   "outputs": [
    {
     "data": {
      "text/plain": [
       "False"
      ]
     },
     "execution_count": 4,
     "metadata": {},
     "output_type": "execute_result"
    }
   ],
   "source": [
    "\"ACDC\"==\"Michael Jackson\""
   ]
  },
  {
   "cell_type": "markdown",
   "metadata": {},
   "source": [
    "Se usarmos o operador de desigualdade, obtemos um **True**, pois as strings não são iguais."
   ]
  },
  {
   "cell_type": "code",
   "execution_count": 5,
   "metadata": {
    "collapsed": false,
    "jupyter": {
     "outputs_hidden": false
    }
   },
   "outputs": [
    {
     "data": {
      "text/plain": [
       "True"
      ]
     },
     "execution_count": 5,
     "metadata": {},
     "output_type": "execute_result"
    }
   ],
   "source": [
    "\"ACDC\"!=\"Michael Jackson\""
   ]
  },
  {
   "cell_type": "markdown",
   "metadata": {},
   "source": [
    "\n",
    "Também podemos realizar operações de desigualdade, a ordem da letra depende do valor ASCII. O valor decimal mostrado na tabela a seguir representa a ordem do caractere:"
   ]
  },
  {
   "cell_type": "markdown",
   "metadata": {},
   "source": [
    "Por exemplo, o equivalente decimal de **!** é 21, enquanto o equivalente decimal de **+** é 43. Portanto, **+** é maior que **!**."
   ]
  },
  {
   "cell_type": "markdown",
   "metadata": {},
   "source": [
    " <a ><img src = \"https://ibm.box.com/shared/static/pf6rvks8eh4e1riwki59gx7s9rvmidu4.gif\" width = 500, align = \"center\"></a>\n",
    "  <h4 align=center> \n",
    "  </h4>"
   ]
  },
  {
   "cell_type": "markdown",
   "metadata": {},
   "source": [
    "\n",
    " Da mesma forma, o valor para **A** é 101, e o valor para **B** é 102, portanto:"
   ]
  },
  {
   "cell_type": "code",
   "execution_count": 24,
   "metadata": {
    "collapsed": false,
    "jupyter": {
     "outputs_hidden": false
    }
   },
   "outputs": [
    {
     "data": {
      "text/plain": [
       "True"
      ]
     },
     "execution_count": 24,
     "metadata": {},
     "output_type": "execute_result"
    }
   ],
   "source": [
    "'B'>'A'"
   ]
  },
  {
   "cell_type": "markdown",
   "metadata": {},
   "source": [
    "Quando há várias letras, a primeira letra tem precedência na ordem:"
   ]
  },
  {
   "cell_type": "code",
   "execution_count": 25,
   "metadata": {
    "collapsed": false,
    "jupyter": {
     "outputs_hidden": false
    }
   },
   "outputs": [
    {
     "data": {
      "text/plain": [
       "True"
      ]
     },
     "execution_count": 25,
     "metadata": {},
     "output_type": "execute_result"
    }
   ],
   "source": [
    "'BA'>'AB'"
   ]
  },
  {
   "cell_type": "markdown",
   "metadata": {},
   "source": [
    "<a id=\"ref2\"></a>\n",
    "<center><h2>Ramificação</h2></center>\n",
    "\n",
    "\n"
   ]
  },
  {
   "cell_type": "markdown",
   "metadata": {},
   "source": [
    "\n",
    " A ramificação nos permite executar diferentes instruções para diferentes entradas. É útil pensar em uma declaração **if** como uma sala trancada; se a declaração for verdadeira, você poderá entrar na sala e seu programa executará alguma tarefa predefinida, mas se a declaração for falsa, o programa ignorará a tarefa.\n"
   ]
  },
  {
   "cell_type": "markdown",
   "metadata": {},
   "source": [
    " \n",
    " Por exemplo, considere o retângulo azul que representa um concerto do ACDC. Se o indivíduo tiver 18 anos ou mais, eles podem entrar no concerto do ACDC. Se tiverem menos de 18 anos, não poderão entrar no concerto. Temos a instrução **if** e temos a expressão que pode ser **Verdadeiro** ou **Falso**, os colchetes não são necessários. Temos dois pontos dentro de um recuo; então temos a expressão que é executada se a condição for **True**. As instruções após a instrução **if** serão executadas independentemente de a condição ser verdadeira ou falsa.\n",
    "\n"
   ]
  },
  {
   "cell_type": "code",
   "execution_count": 26,
   "metadata": {
    "collapsed": false,
    "jupyter": {
     "outputs_hidden": false
    }
   },
   "outputs": [
    {
     "name": "stdout",
     "output_type": "stream",
     "text": [
      "Voce pode entrar\n",
      "Em frente\n"
     ]
    }
   ],
   "source": [
    "idade=19\n",
    "#idade=18\n",
    "\n",
    "#a expressão pode ser verdadeiro ou falso\n",
    "if idade>18:\n",
    "    \n",
    "    #dentro de um recuo, temos a expressão que é executada se a condição for verdadeira\n",
    "    print(\"Voce pode entrar\" )\n",
    "\n",
    "\n",
    "#As instruções após a instrução if serão executadas independentemente de a condição ser verdadeira ou falsa\n",
    "print(\"Em frente\")\n"
   ]
  },
  {
   "cell_type": "markdown",
   "metadata": {},
   "source": [
    "\n",
    "\n",
    "**descomentar a variável idade**.\n",
    "\n",
    "É útil usar o diagrama a seguir para ilustrar o processo. No lado esquerdo, vemos o que acontece quando a condição é **Verdadeira**. A pessoa entra no concerto do ACDC representando o código no travessão que está sendo executado; eles então seguem em frente. No lado direito, vemos o que acontece quando a condição é **False**; a pessoa não recebe acesso e segue em frente. Nesse caso, o segmento de código no recuo não é executado, mas o restante das instruções é executado.\n",
    "\n",
    "\n",
    " \n"
   ]
  },
  {
   "cell_type": "markdown",
   "metadata": {},
   "source": [
    "<a ><img src =\"https://ibm.box.com/shared/static/l7y2t7evi5gy5n5qry718gyejkha2azk.gif\" width = 1000, align = \"center\"></a>\n",
    "  <h4 align=center> \n",
    "  </h4>\n",
    "  \n"
   ]
  },
  {
   "cell_type": "markdown",
   "metadata": {},
   "source": [
    "\n",
    "A instrução **else** executará um bloco de código diferente se a mesma condição for falsa. Vamos usar a analogia do concerto do ACDC novamente. Se o usuário tiver 17 anos, ele não poderá ir ao show do ACDC, mas poderá ir ao show do Meatloaf.\n",
    "A sintaxe da instrução **else** é semelhante; simplesmente anexamos a declaração **else** com a nova condição.\n",
    "Tente alterar os valores de **idade** para ver o que acontece:"
   ]
  },
  {
   "cell_type": "code",
   "execution_count": 27,
   "metadata": {
    "collapsed": false,
    "jupyter": {
     "outputs_hidden": false
    }
   },
   "outputs": [
    {
     "name": "stdout",
     "output_type": "stream",
     "text": [
      "Vá para área de adolescentes\n",
      "Em frente\n"
     ]
    }
   ],
   "source": [
    "idade=18\n",
    "#idade=19\n",
    "if idade>18:\n",
    "    \n",
    "    print(\"Voce pode entrar\" )\n",
    " \n",
    "else:\n",
    "    print(\"Vá para área de adolescentes\" )\n",
    "    \n",
    "\n",
    "print(\"Em frente\")\n",
    "\n"
   ]
  },
  {
   "cell_type": "code",
   "execution_count": null,
   "metadata": {},
   "outputs": [],
   "source": []
  },
  {
   "cell_type": "code",
   "execution_count": 28,
   "metadata": {},
   "outputs": [
    {
     "name": "stdout",
     "output_type": "stream",
     "text": [
      "Entrada permitida para praça de alimentação\n",
      "Fim de evento: Muito Obrigado! Bom Retorno\n"
     ]
    }
   ],
   "source": [
    "idade=19\n",
    "\n",
    "if idade>19:\n",
    "    print(\"Entrada Permitida para o show\")\n",
    "else:\n",
    "    print(\"Entrada permitida para praça de alimentação\")\n",
    "\n",
    "print(\"Fim de evento: Muito Obrigado! Bom Retorno\")"
   ]
  },
  {
   "cell_type": "code",
   "execution_count": null,
   "metadata": {},
   "outputs": [],
   "source": []
  },
  {
   "cell_type": "markdown",
   "metadata": {},
   "source": [
    "O processo é demonstrado abaixo, onde cada uma das possibilidades é ilustrada em cada lado da imagem. À esquerda, é o caso em que a idade tem 17 anos, definimos o valor da variável idade como 17, e isso corresponde ao indivíduo que assiste ao show do Meatloaf. A parte correta mostra o que acontece quando o indivíduo tem mais de 18 anos e o indivíduo recebe acesso ao concerto."
   ]
  },
  {
   "cell_type": "markdown",
   "metadata": {},
   "source": [
    " <a ><img src =\"https://ibm.box.com/shared/static/hkf892cpt2tx7vrt072jdp4khne0mv00.gif\" width = 1000, align = \"center\"></a>\n",
    "  <h4 align=center> \n",
    "  </h4>"
   ]
  },
  {
   "cell_type": "markdown",
   "metadata": {},
   "source": [
    "\n",
    "\n",
    "\n",
    "A instrução **elif**, abreviação de else if, permite verificar condições adicionais se a condição de procedimento for falsa. Se a condição for **True**, as expressões alternativas serão executadas. Considere o exemplo do concerto, onde, se o indivíduo tiver 18 anos, irá ao show do Pink Floyd em vez de assistir ao ACDC ou ao outra banda. A pessoa de 18 anos entra na área e, como não tem mais de 19 anos, não pode ver o ACDC, mas como tem 18 anos, frequenta o Pink Floyd. Depois de ver o Pink Floyd, eles seguem em frente. A sintaxe da instrução **elif** é semelhante, pois apenas adicionamos a instrução **elif** à condição. Em seguida, adicionamos a expressão que gostaríamos de executá-la. A declaração é **True** com um recuo."
   ]
  },
  {
   "cell_type": "code",
   "execution_count": 29,
   "metadata": {
    "collapsed": false,
    "jupyter": {
     "outputs_hidden": false
    }
   },
   "outputs": [
    {
     "name": "stdout",
     "output_type": "stream",
     "text": [
      "para ver o filme do Elthon John\n",
      "Adiante\n"
     ]
    }
   ],
   "source": [
    "idade=18\n",
    "if idade>18:\n",
    "    print(\"Você pode entrar\" )\n",
    "    \n",
    "elif idade==18:\n",
    "    print(\"para ver o filme do Elthon John\")\n",
    "    \n",
    "else:\n",
    "    print(\"Para ver o show de adolescentes\" )\n",
    "    \n",
    "\n",
    "print(\"Adiante\")"
   ]
  },
  {
   "cell_type": "code",
   "execution_count": 30,
   "metadata": {},
   "outputs": [
    {
     "name": "stdout",
     "output_type": "stream",
     "text": [
      "Você tem 19 anos! Entrada Permitida para o Show\n",
      "Fim de evento: Muito Obrigado! Bom Retorno\n"
     ]
    }
   ],
   "source": [
    "idade=19\n",
    "\n",
    "if idade>19:\n",
    "    print(\"Entrada Permitida para o show\")\n",
    "elif idade==19:\n",
    "    print(\"Você tem 19 anos! Entrada Permitida para o Show\")\n",
    "else:\n",
    "    print(\"Entrada permitida para praça de alimentação\")\n",
    "\n",
    "print(\"Fim de evento: Muito Obrigado! Bom Retorno\")"
   ]
  },
  {
   "cell_type": "markdown",
   "metadata": {},
   "source": [
    "As três combinações são mostradas na figura abaixo. A região mais à esquerda mostra o que acontece quando o indivíduo tem menos de 18 anos de idade. O componente central mostra quando o indivíduo tem 18 anos. O mais à direita mostra quando o indivíduo tem mais de 18 anos."
   ]
  },
  {
   "cell_type": "markdown",
   "metadata": {},
   "source": [
    " <a ><img src =\"https://ibm.box.com/shared/static/bfdcim06oly4u5t3x9dthskr0chxwyys.gif\"  width = 1000, align = \"center\"></a>\n",
    "  <h4 align=center> \n",
    "  </h4>"
   ]
  },
  {
   "cell_type": "markdown",
   "metadata": {},
   "source": [
    "\n",
    "Veja o seguinte código:"
   ]
  },
  {
   "cell_type": "code",
   "execution_count": 31,
   "metadata": {
    "collapsed": false,
    "jupyter": {
     "outputs_hidden": false
    }
   },
   "outputs": [
    {
     "name": "stdout",
     "output_type": "stream",
     "text": [
      "\n",
      "Faça algo ..\n"
     ]
    }
   ],
   "source": [
    "album_year = 1983\n",
    "album_year=1970\n",
    "if album_year > 1980:\n",
    "    print(\"Ano do disco maior que 1980\")\n",
    "    \n",
    "print(\"\")\n",
    "print('Faça algo ..')"
   ]
  },
  {
   "cell_type": "markdown",
   "metadata": {},
   "source": [
    "Sinta-se à vontade para alterar o valor **`album_year`** para outros valores - você verá que o resultado muda!"
   ]
  },
  {
   "cell_type": "markdown",
   "metadata": {},
   "source": [
    "Observe que o código no bloco **recusado** acima será executado apenas se os resultados forem **Verdadeiro**.\n"
   ]
  },
  {
   "cell_type": "code",
   "execution_count": null,
   "metadata": {
    "collapsed": false,
    "jupyter": {
     "outputs_hidden": false
    }
   },
   "outputs": [],
   "source": [
    "\n",
    "    \n",
    "    "
   ]
  },
  {
   "cell_type": "markdown",
   "metadata": {},
   "source": [
    "duplo clique __aqui__ para a rsposta.\n",
    "\n",
    "<!-- \n",
    "album_rate =8.5\n",
    "if album_rate >8:\n",
    "    print(\"Este disco é maravilhoso\")\n",
    " -->"
   ]
  },
  {
   "cell_type": "markdown",
   "metadata": {},
   "source": [
    "<div class=\"rt\" style=\"margin-top: 20px\">\n",
    "**Tip**: Observe que o código no bloco **retornado** acima será executado apenas nos resultados principais **Verdadeiro**.\n",
    "</div>"
   ]
  },
  {
   "cell_type": "markdown",
   "metadata": {},
   "source": [
    "Como antes, podemos adicionar um bloco **else** ao bloco **if**. O código no bloco **else** somente será executado se o resultado for **False**.\n",
    "\n",
    "\n",
    "**Sintaxe:** \n",
    "\n",
    "if (condição):\n",
    "    # Faça algo\n",
    "else:\n",
    "    # faça outra coisa"
   ]
  },
  {
   "cell_type": "markdown",
   "metadata": {},
   "source": [
    "Se a condição na instrução **if** for falsa, a instrução após o bloco else será executada. Isso é demonstrado na figura:\n",
    "\n"
   ]
  },
  {
   "cell_type": "markdown",
   "metadata": {},
   "source": [
    " <a ><img src = \"https://ibm.box.com/shared/static/zygha3mwjwrcfok2jrivu7z5iirt4xgt.png\" width = 500, align = \"center\"></a>\n",
    "  <h4 align=center> \n",
    "  </h4>\n",
    "\n",
    "\n"
   ]
  },
  {
   "cell_type": "code",
   "execution_count": 32,
   "metadata": {
    "collapsed": false,
    "jupyter": {
     "outputs_hidden": false
    }
   },
   "outputs": [
    {
     "name": "stdout",
     "output_type": "stream",
     "text": [
      "O ano de lançamento deste album é posterior a 1980\n",
      "\n",
      "Faça algo..\n"
     ]
    }
   ],
   "source": [
    "album_year = 1970\n",
    "#album_year=1970\n",
    "if album_year > 1980:\n",
    "    print(\"O ano de lançamento deste album é anterior a 1980\")\n",
    "else:\n",
    "    print(\"O ano de lançamento deste album é posterior a 1980\")\n",
    "print(\"\")\n",
    "print('Faça algo..')"
   ]
  },
  {
   "cell_type": "markdown",
   "metadata": {},
   "source": [
    "Sinta-se à vontade para alterar o valor **`album_year`** para outros valores - você verá que o resultado muda com base nele!"
   ]
  },
  {
   "cell_type": "markdown",
   "metadata": {},
   "source": [
    "#### Escreva uma instrução if-else que execute o seguinte. Se a classificação for maior, oito imprimem “este álbum é incrível”. Se a classificação for menor, ou igual a 8, imprima “este álbum está ok”.\n"
   ]
  },
  {
   "cell_type": "code",
   "execution_count": null,
   "metadata": {},
   "outputs": [],
   "source": []
  },
  {
   "cell_type": "markdown",
   "metadata": {},
   "source": [
    "duplo clique __aqui__ para a rsposta.\n",
    "<!-- \n",
    "classificacao = 8.5\n",
    "if classificacao > 8:\n",
    "    print \"este album é maravilhoso\"\n",
    "else:\n",
    "    print \"Este album é normal\"\n",
    "-->\n"
   ]
  },
  {
   "cell_type": "markdown",
   "metadata": {},
   "source": [
    " <a id=\"ref3\"></a>\n",
    "<center><h2>Logical operators</h2></center>"
   ]
  },
  {
   "cell_type": "markdown",
   "metadata": {},
   "source": [
    "Às vezes, você deseja verificar mais de uma condição ao mesmo tempo. Por exemplo, convém verificar se uma condição e outra é verdadeira. Operadores lógicos permitem combinar ou modificar condições.\n",
    "<ul>\n",
    "<li> `and`\n",
    "<li> `or`\n",
    "<li> `not` \n",
    "</ul>\n",
    "\n",
    "Esses operadores são resumidos para duas variáveis ​​usando as seguintes tabelas de verdade:"
   ]
  },
  {
   "cell_type": "markdown",
   "metadata": {},
   "source": [
    " <a ><img src = \"https://ibm.box.com/shared/static/kbkqfu6apx9wczu79j6ug8xs9c6tt3d3.png\" width = 500, align = \"center\"></a>\n",
    "  <h4 align=center> \n",
    "  </h4>\n"
   ]
  },
  {
   "cell_type": "markdown",
   "metadata": {},
   "source": [
    "As declarações **and** são apenas **Verdadeiras** quando ambas as condições são verdadeiras. A declaração **or** é verdadeira se uma condição for **Verdadeira**. Finalmente, a declaração **not** gera o valor oposto da verdade."
   ]
  },
  {
   "cell_type": "markdown",
   "metadata": {},
   "source": [
    "Gostaríamos de determinar se um álbum foi lançado depois de 1980 e antes de 1990. Ambos os períodos entre 1981 e 1989 atendem a essa condição. Isso é demonstrado na figura abaixo. O verde nas linhas **a** e **b** representa períodos em que a declaração é **Verdadeira**. O verde na linha **c** representa onde as duas condições são **True**, isso corresponde a onde as regiões verdes se sobrepõem.\n",
    "\n"
   ]
  },
  {
   "cell_type": "markdown",
   "metadata": {},
   "source": [
    " <a ><img src = \"https://ibm.box.com/shared/static/mtvdx315p1a2bp6e1vqv3uppnzp3wu2i.png\" width = 500, align = \"center\"></a>\n",
    "  <h4 align=center> Exemplo de IF\n",
    "  </h4>\n"
   ]
  },
  {
   "cell_type": "markdown",
   "metadata": {},
   "source": [
    "O bloco de código para executar esta verificação é dado por:"
   ]
  },
  {
   "cell_type": "code",
   "execution_count": 33,
   "metadata": {
    "collapsed": false,
    "jupyter": {
     "outputs_hidden": false
    }
   },
   "outputs": [
    {
     "name": "stdout",
     "output_type": "stream",
     "text": [
      "Ano de lançamento do Album entre 1980 e 1989\n",
      "\n",
      " Faça algo..\n"
     ]
    }
   ],
   "source": [
    "album_year = 1981\n",
    "\n",
    "if(album_year > 1979) and (album_year < 1990):\n",
    "    print (\"Ano de lançamento do Album entre 1980 e 1989\")\n",
    "    \n",
    "print(\"\")\n",
    "print(\" Faça algo..\")"
   ]
  },
  {
   "cell_type": "markdown",
   "metadata": {},
   "source": [
    "Para determinar se um álbum foi lançado antes de 1980 ou depois de 1990, podemos usar uma declaração **ou**. Períodos anteriores a 1981 ou após 1989 atendem a essa condição. Isso é demonstrado na figura a seguir, a cor verde em **a** e **b** representa períodos em que a afirmação é verdadeira. A cor verde em **c** representa onde pelo menos uma das condições\n",
    "são verdadeiras. \n"
   ]
  },
  {
   "cell_type": "markdown",
   "metadata": {},
   "source": [
    " <a ><img src = \"https://ibm.box.com/shared/static/lw0zehvs2rrs9yjit5i0mf2zgtfe6rl1.png\" width = 500, align = \"center\"></a>\n",
    "  <h4 align=center>  Outro exemplo\n",
    "  </h4>\n"
   ]
  },
  {
   "cell_type": "markdown",
   "metadata": {},
   "source": [
    "O bloco de código fica assim"
   ]
  },
  {
   "cell_type": "code",
   "execution_count": 34,
   "metadata": {
    "collapsed": false,
    "jupyter": {
     "outputs_hidden": false
    }
   },
   "outputs": [
    {
     "name": "stdout",
     "output_type": "stream",
     "text": [
      "Album/disco não foi feito na década de 1980\n"
     ]
    }
   ],
   "source": [
    "album_year = 1990\n",
    "\n",
    "if(album_year < 1980) or (album_year > 1989):\n",
    "    print (\"Album/disco não foi feito na década de 1980\")\n",
    "else:\n",
    "    print(\"Album/disco foi feito na década de 1980\")"
   ]
  },
  {
   "cell_type": "markdown",
   "metadata": {},
   "source": [
    "A instrução **not** verifica se a instrução é falsa:"
   ]
  },
  {
   "cell_type": "code",
   "execution_count": 35,
   "metadata": {
    "collapsed": false,
    "jupyter": {
     "outputs_hidden": false
    }
   },
   "outputs": [
    {
     "name": "stdout",
     "output_type": "stream",
     "text": [
      "O Album não é de 1984\n"
     ]
    }
   ],
   "source": [
    "album_year = 1983\n",
    "\n",
    "if not (album_year == '1984'):\n",
    "    print (\"O Album não é de 1984\")"
   ]
  },
  {
   "cell_type": "code",
   "execution_count": null,
   "metadata": {},
   "outputs": [],
   "source": []
  },
  {
   "cell_type": "markdown",
   "metadata": {},
   "source": [
    "### Exercício "
   ]
  },
  {
   "cell_type": "markdown",
   "metadata": {},
   "source": [
    "Escreva uma declaração if para determinar se um álbum foi lançado antes de 1980 ou nos anos: 1991 ou 1993. Se a condição for verdadeira, imprima o ano em que o álbum foi lançado.\n"
   ]
  },
  {
   "cell_type": "code",
   "execution_count": null,
   "metadata": {},
   "outputs": [],
   "source": []
  },
  {
   "cell_type": "code",
   "execution_count": null,
   "metadata": {},
   "outputs": [],
   "source": []
  },
  {
   "cell_type": "code",
   "execution_count": null,
   "metadata": {},
   "outputs": [],
   "source": []
  },
  {
   "cell_type": "markdown",
   "metadata": {},
   "source": [
    "Duplo clique __aqui__ para uma solução\n",
    "<!-- \n",
    "ano_album=1979\n",
    "\n",
    "if ano_album<1980 or ano_album==1991 or ano_album==1993 :\n",
    "    print(\"O ano do album é\",ano_album)\n",
    "else:\n",
    "    print(\"Não é de antes de 1980\")\n",
    "    print(ano_album)\n",
    "print(\"OK\") \n",
    "-->"
   ]
  },
  {
   "cell_type": "markdown",
   "metadata": {},
   "source": [
    "### ELIF"
   ]
  },
  {
   "cell_type": "markdown",
   "metadata": {},
   "source": [
    "Atribuindo um valor de x"
   ]
  },
  {
   "cell_type": "code",
   "execution_count": 37,
   "metadata": {},
   "outputs": [],
   "source": [
    "\n",
    "x=1"
   ]
  },
  {
   "cell_type": "markdown",
   "metadata": {},
   "source": [
    "podemos criar um código para testar algumas condições deste valor como este"
   ]
  },
  {
   "cell_type": "code",
   "execution_count": 38,
   "metadata": {},
   "outputs": [
    {
     "name": "stdout",
     "output_type": "stream",
     "text": [
      "a\n"
     ]
    }
   ],
   "source": [
    "if x < 3:\n",
    "    print(\"a\")\n",
    "else:\n",
    "    if x < 7:\n",
    "        print(\"b\")\n",
    "    else:\n",
    "        if x < 20:\n",
    "            print(\"c\")\n",
    "        else:\n",
    "            if x < 35:\n",
    "                print(\"d\")\n",
    "            else:\n",
    "                print(\"e\")"
   ]
  },
  {
   "cell_type": "code",
   "execution_count": 40,
   "metadata": {},
   "outputs": [
    {
     "name": "stdout",
     "output_type": "stream",
     "text": [
      "a\n"
     ]
    }
   ],
   "source": [
    "if x < 3:\n",
    "    print(\"a\")\n",
    "elif x < 7:\n",
    "    print(\"b\")\n",
    "elif x < 20:\n",
    "    print(\"c\")\n",
    "elif x < 35:\n",
    "    print(\"d\")\n",
    "else:\n",
    "    print(\"e\")"
   ]
  },
  {
   "cell_type": "code",
   "execution_count": null,
   "metadata": {},
   "outputs": [],
   "source": []
  }
 ],
 "metadata": {
  "kernelspec": {
   "display_name": "Python 3",
   "language": "python",
   "name": "python3"
  },
  "language_info": {
   "codemirror_mode": {
    "name": "ipython",
    "version": 3
   },
   "file_extension": ".py",
   "mimetype": "text/x-python",
   "name": "python",
   "nbconvert_exporter": "python",
   "pygments_lexer": "ipython3",
   "version": "3.7.4"
  }
 },
 "nbformat": 4,
 "nbformat_minor": 4
}
