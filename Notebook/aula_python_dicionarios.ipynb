{
  "nbformat": 4,
  "nbformat_minor": 0,
  "metadata": {
    "kernelspec": {
      "display_name": "Python 3",
      "language": "python",
      "name": "python3"
    },
    "language_info": {
      "codemirror_mode": {
        "name": "ipython",
        "version": 3
      },
      "file_extension": ".py",
      "mimetype": "text/x-python",
      "name": "python",
      "nbconvert_exporter": "python",
      "pygments_lexer": "ipython3",
      "version": "3.7.4"
    },
    "colab": {
      "name": "aula_python_dicionarios.ipynb",
      "provenance": [],
      "collapsed_sections": [
        "tNGtT8DPYpsv"
      ]
    }
  },
  "cells": [
    {
      "cell_type": "markdown",
      "metadata": {
        "id": "kdCFc2sKYyPk"
      },
      "source": [
        "<div class=\"alert alert-block alert-info\" style=\"margin-top: 20px\">\n",
        "<img src = \"https://www.fiap.com.br/wp-content/themes/fiap2016/images/sharing/fiap.png\" width = 750, align = \"center\"></a>\n",
        "  <h1 align=center>"
      ]
    },
    {
      "cell_type": "markdown",
      "metadata": {
        "id": "hWP-lwOOYpst"
      },
      "source": [
        "\n",
        "\n",
        "<h1 align=center><font size = 5>Sets e Dicionários</font></h1>"
      ]
    },
    {
      "cell_type": "markdown",
      "metadata": {
        "id": "saMNHa6YYpst"
      },
      "source": [
        "<a id=\"ref2\"></a>\n",
        "<h2 align=center> Dicionários no Python </h2>\n"
      ]
    },
    {
      "cell_type": "markdown",
      "metadata": {
        "id": "QInJlELCYpst"
      },
      "source": [
        "Um dicionário consiste em chaves e valores. É útil comparar um dicionário com uma lista. Em vez dos índices numéricos, como uma lista, os dicionários possuem chaves. Essas chaves são etiquetas usadas para acessar valores dentro de um dicionário."
      ]
    },
    {
      "cell_type": "markdown",
      "metadata": {
        "id": "8jfmEdkRYpst"
      },
      "source": [
        "<a ><img src = \"https://ibm.box.com/shared/static/6tyznuwydogmtuv73o8l5g7xsb8o92h2.png\" width = 650, align = \"center\"></a>\n",
        "  <h4 align=center> Uma comparação de um dicionário com uma lista: em vez de índices numéricos como uma lista, os dicionários possuem chaves.\n",
        "  </h4> \n"
      ]
    },
    {
      "cell_type": "markdown",
      "metadata": {
        "id": "TI83dcQwYpst"
      },
      "source": [
        "Um exemplo de dicionário **Dict**:"
      ]
    },
    {
      "cell_type": "code",
      "metadata": {
        "jupyter": {
          "outputs_hidden": false
        },
        "id": "0brcmV2TYpst"
      },
      "source": [
        "Dict={\"key1\":1,\"key2\":\"2\",\"key3\":[3,3,3],\"key4\":(4,4,4),('key5'):5,(0,1):6}\n",
        "Dict\n",
        "\n"
      ],
      "execution_count": null,
      "outputs": []
    },
    {
      "cell_type": "markdown",
      "metadata": {
        "id": "b2FiT6WBYpsv"
      },
      "source": [
        "As chaves podem ser cadeias de caracteres strings:"
      ]
    },
    {
      "cell_type": "code",
      "metadata": {
        "id": "1gitGgKJYpsv"
      },
      "source": [
        "Dicionario={\"chave1\":23,\"chave2\":33,\"chave3\":343,\"chave4\":(11,23),\"chave5\":(1,\"termos\")}\n",
        "Dicionario"
      ],
      "execution_count": null,
      "outputs": []
    },
    {
      "cell_type": "code",
      "metadata": {
        "jupyter": {
          "outputs_hidden": false
        },
        "id": "sJH7mvhzYpsv"
      },
      "source": [
        "Dict[\"key1\"]"
      ],
      "execution_count": null,
      "outputs": []
    },
    {
      "cell_type": "markdown",
      "metadata": {
        "id": "MkzjWsfPYpsv"
      },
      "source": [
        "As chaves também podem ser qualquer objeto imutável, como uma tupla:"
      ]
    },
    {
      "cell_type": "code",
      "metadata": {
        "jupyter": {
          "outputs_hidden": false
        },
        "id": "MeUnr1DYYpsv"
      },
      "source": [
        "Dict[(0,1)]"
      ],
      "execution_count": null,
      "outputs": []
    },
    {
      "cell_type": "markdown",
      "metadata": {
        "id": "jcKHkbD1Ypsv"
      },
      "source": [
        "Cada chave é separada do seu valor por dois pontos \"**:**\". As vírgulas separam os itens e o dicionário inteiro é colocado entre chaves. Um dicionário vazio sem itens é escrito com apenas duas chaves, como este \"**{}**\"."
      ]
    },
    {
      "cell_type": "code",
      "metadata": {
        "jupyter": {
          "outputs_hidden": false
        },
        "id": "qWudLI3QYpsv"
      },
      "source": [
        "release_year_dict = {\"Thriller\":\"1982\", \"Back in Black\":\"1980\", \\\n",
        "                    \"The Dark Side of the Moon\":\"1973\", \"The Bodyguard\":\"1992\", \\\n",
        "                    \"Bat Out of Hell\":\"1977\", \"Their Greatest Hits (1971-1975)\":\"1976\", \\\n",
        "                    \"Saturday Night Fever\":\"1977\", \"Rumours\":\"1977\"}\n",
        "release_year_dict"
      ],
      "execution_count": null,
      "outputs": []
    },
    {
      "cell_type": "markdown",
      "metadata": {
        "id": "GLwg9hJqYpsv"
      },
      "source": [
        "Em resumo, como uma lista, um dicionário contém uma sequência de elementos. Cada elemento é representado por uma chave e seu valor correspondente. Os dicionários são criados com dois chavetas contendo chaves e valores separados por dois pontos. Para cada chave, só pode haver um único valor; no entanto, várias chaves podem conter o mesmo valor. As chaves podem ser apenas cadeias, números ou tuplas, mas os valores podem ser de qualquer tipo de dados."
      ]
    },
    {
      "cell_type": "markdown",
      "metadata": {
        "id": "EbLnzeHMYpsv"
      },
      "source": [
        "É útil visualizar o dicionário como uma tabela, como na figura. A primeira coluna representa as chaves, a segunda coluna representa os valores.\n"
      ]
    },
    {
      "cell_type": "markdown",
      "metadata": {
        "id": "W9YgXTJeYpsv"
      },
      "source": [
        " <a ><img src = \"https://ibm.box.com/shared/static/i45fppou18c3t0fuf2ikks48tod7chbl.png\" width = 650, align = \"center\"></a>\n",
        "  <h4 align=center> Tabela representando um dicionário \n",
        "\n",
        "  </h4> \n"
      ]
    },
    {
      "cell_type": "markdown",
      "metadata": {
        "id": "GXDfSYMpYpsv"
      },
      "source": [
        "Você precisará deste dicionário para as próximas duas perguntas:"
      ]
    },
    {
      "cell_type": "code",
      "metadata": {
        "jupyter": {
          "outputs_hidden": false
        },
        "id": "SX6IMz5jYpsv"
      },
      "source": [
        "soundtrack_dic = { \"The Bodyguard\":\"1992\", \"Saturday Night Fever\":\"1977\"}\n",
        "soundtrack_dic "
      ],
      "execution_count": null,
      "outputs": []
    },
    {
      "cell_type": "markdown",
      "metadata": {
        "id": "tNGtT8DPYpsv"
      },
      "source": [
        "#### No dicionário \"soundtrack_dict\", quais são as chaves (keys)?"
      ]
    },
    {
      "cell_type": "code",
      "metadata": {
        "jupyter": {
          "outputs_hidden": true
        },
        "id": "taRE3jw2Ypsv"
      },
      "source": [
        "\n"
      ],
      "execution_count": null,
      "outputs": []
    },
    {
      "cell_type": "markdown",
      "metadata": {
        "id": "vf9wy8N7Ypsv"
      },
      "source": [
        "Duplo clique __aqui__ para a solução.\n",
        "<!-- resposta abaixo\n",
        "soundtrack_dic.keys()\n",
        "ou\n",
        "print(\"As chaves são The Bodyguard e Saturday Night Fever\")\n",
        "-->"
      ]
    },
    {
      "cell_type": "markdown",
      "metadata": {
        "id": "3_Z16y4OYpsv"
      },
      "source": [
        "### No dicionário \"soundtrack_dict\" quais são os valores?"
      ]
    },
    {
      "cell_type": "code",
      "metadata": {
        "id": "bFnVK4dUYpsv"
      },
      "source": [
        ""
      ],
      "execution_count": null,
      "outputs": []
    },
    {
      "cell_type": "markdown",
      "metadata": {
        "id": "YA0X-3jRYpsv"
      },
      "source": [
        "\n",
        "Duplo clique __aqui__ para a solução.\n",
        "<!-- resposta abaixo\n",
        "soundtrack_dic.values()\n",
        "-->"
      ]
    },
    {
      "cell_type": "markdown",
      "metadata": {
        "id": "kLEcLPoRYpsv"
      },
      "source": [
        "Você pode extrair os valores com base nos nomes:"
      ]
    },
    {
      "cell_type": "code",
      "metadata": {
        "jupyter": {
          "outputs_hidden": false
        },
        "id": "13QFNR4EYpsv"
      },
      "source": [
        "release_year_dict['Thriller'] "
      ],
      "execution_count": null,
      "outputs": []
    },
    {
      "cell_type": "markdown",
      "metadata": {
        "id": "BAP4d1cqYpsv"
      },
      "source": [
        "Isto corresponde a:\n"
      ]
    },
    {
      "cell_type": "markdown",
      "metadata": {
        "id": "D2svviXNYpsv"
      },
      "source": [
        " <a ><img src = \"https://ibm.box.com/shared/static/glbwz23cgjjxqi7rjxn7me5i16gan7h7.png\" width = 500, align = \"center\"></a>\n",
        "  <h4 align=center> \n",
        "Tabela usada para representar o acesso ao valor  de \"Thriller\"   \n",
        "\n",
        "  </h4> \n"
      ]
    },
    {
      "cell_type": "markdown",
      "metadata": {
        "id": "3vXxmnYNYpsv"
      },
      "source": [
        "Da mesma forma para The Bodyguard     \n"
      ]
    },
    {
      "cell_type": "code",
      "metadata": {
        "jupyter": {
          "outputs_hidden": false
        },
        "id": "JjaaoePtYpsv"
      },
      "source": [
        "release_year_dict['The Bodyguard'] "
      ],
      "execution_count": null,
      "outputs": []
    },
    {
      "cell_type": "markdown",
      "metadata": {
        "id": "gM_H7HrsYpsw"
      },
      "source": [
        " <a ><img src = \"https://ibm.box.com/shared/static/6t7bu8jusckaskukwq1k0a3im5ltcpsn.png  \" width = 500, align = \"center\"></a>\n",
        "  <h4 align=center> \n",
        "Tabela usada para representar o acesso ao valor  de \"The Bodyguard\"\n",
        "\n",
        "  </h4> \n",
        "\n",
        "\n"
      ]
    },
    {
      "cell_type": "markdown",
      "metadata": {
        "id": "TKZ9uK6EYpsw"
      },
      "source": [
        "Agora vamos recuperar as chaves do dicionário usando o método **release_year_dict()**:"
      ]
    },
    {
      "cell_type": "code",
      "metadata": {
        "jupyter": {
          "outputs_hidden": false
        },
        "id": "Su262rjAYpsw"
      },
      "source": [
        "release_year_dict.keys() "
      ],
      "execution_count": null,
      "outputs": []
    },
    {
      "cell_type": "markdown",
      "metadata": {
        "id": "h9lQxvq7Ypsw"
      },
      "source": [
        "Você pode recuperar os valores do dicionário usando o método  **`values()`**:"
      ]
    },
    {
      "cell_type": "code",
      "metadata": {
        "jupyter": {
          "outputs_hidden": false
        },
        "id": "9d0ewsPjYpsw"
      },
      "source": [
        "release_year_dict.values() "
      ],
      "execution_count": null,
      "outputs": []
    },
    {
      "cell_type": "markdown",
      "metadata": {
        "id": "ZUgZfxHSYpsw"
      },
      "source": [
        "Podemos adicionar uma entrada:"
      ]
    },
    {
      "cell_type": "code",
      "metadata": {
        "jupyter": {
          "outputs_hidden": false
        },
        "id": "NXv0ea-6Ypsw"
      },
      "source": [
        "release_year_dict['Graduation']='2007'\n",
        "release_year_dict"
      ],
      "execution_count": null,
      "outputs": []
    },
    {
      "cell_type": "markdown",
      "metadata": {
        "id": "bcEwjJm8Ypsw"
      },
      "source": [
        "Podemos apagar esta entrada:   "
      ]
    },
    {
      "cell_type": "code",
      "metadata": {
        "jupyter": {
          "outputs_hidden": false
        },
        "id": "uHXDnkcsYpsw"
      },
      "source": [
        "del(release_year_dict['Thriller'])\n",
        "del(release_year_dict['Graduation'])\n",
        "release_year_dict"
      ],
      "execution_count": null,
      "outputs": []
    },
    {
      "cell_type": "markdown",
      "metadata": {
        "id": "zRXZQQsUYpsw"
      },
      "source": [
        "Podemos verificar se um elemento está no dicionário:"
      ]
    },
    {
      "cell_type": "code",
      "metadata": {
        "jupyter": {
          "outputs_hidden": false
        },
        "id": "FykxHGLSYpsw"
      },
      "source": [
        "'The Bodyguard' in release_year_dict"
      ],
      "execution_count": null,
      "outputs": []
    },
    {
      "cell_type": "markdown",
      "metadata": {
        "id": "mzvlqB1_Ypsw"
      },
      "source": [
        "### Os álbuns 'Back in Black', 'The Bodyguard' e 'Thriller' têm as seguintes vendas de discos em milhões 50, 50 e 65, respectivamente:"
      ]
    },
    {
      "cell_type": "markdown",
      "metadata": {
        "id": "I7JkWFeDYpsw"
      },
      "source": [
        "##### a) Crie um dicionário “album_sales_dict” em que as chaves sejam o nome do álbum e as vendas em milhões sejam os valores."
      ]
    },
    {
      "cell_type": "code",
      "metadata": {
        "jupyter": {
          "outputs_hidden": true
        },
        "id": "wisfEoilYpsw"
      },
      "source": [
        ""
      ],
      "execution_count": null,
      "outputs": []
    },
    {
      "cell_type": "markdown",
      "metadata": {
        "id": "tQVH8yd6Ypsw"
      },
      "source": [
        "\n",
        "Duplo clique __aqui__ para a solução.\n",
        "<!-- resposta abaixo\n",
        "album_sales_dict= { \"The Bodyguard\":50, \"Back in Black\":50,\"Thriller\":65}\n",
        "-->"
      ]
    },
    {
      "cell_type": "markdown",
      "metadata": {
        "id": "B81Gw1kJYpsw"
      },
      "source": [
        "#### b) Use o dicionário para encontrar as vendas totais de \"Thriller\":"
      ]
    },
    {
      "cell_type": "code",
      "metadata": {
        "jupyter": {
          "outputs_hidden": false
        },
        "id": "vew87fE4Ypsw"
      },
      "source": [
        ""
      ],
      "execution_count": null,
      "outputs": []
    },
    {
      "cell_type": "markdown",
      "metadata": {
        "id": "r6a3dk-SYpsw"
      },
      "source": [
        "\n",
        "Duplo clique __aqui__ para a solução.\n",
        "<!-- resposta abaixo\n",
        "album_sales_dict[\"Thriller\"]\n",
        "-->\n",
        "\n"
      ]
    },
    {
      "cell_type": "markdown",
      "metadata": {
        "id": "7rIVjnVpYpsw"
      },
      "source": [
        "#### c) Encontre os nomes dos álbuns do dicionário usando o método \"keys\":"
      ]
    },
    {
      "cell_type": "code",
      "metadata": {
        "jupyter": {
          "outputs_hidden": false
        },
        "id": "J3t_IYKQYpsw"
      },
      "source": [
        ""
      ],
      "execution_count": null,
      "outputs": []
    },
    {
      "cell_type": "markdown",
      "metadata": {
        "id": "VttMnbPPYpsw"
      },
      "source": [
        "Duplo clique __aqui__ para a solução.\n",
        "<!-- resposta abaixo\n",
        "album_sales_dict.keys()\n",
        "-->"
      ]
    },
    {
      "cell_type": "markdown",
      "metadata": {
        "id": "0XpKT2APYpsw"
      },
      "source": [
        "#### d) Encontre os nomes das vendas de gravação do dicionário usando o método \"values\":"
      ]
    },
    {
      "cell_type": "code",
      "metadata": {
        "id": "4hT3reLYYpsw"
      },
      "source": [
        ""
      ],
      "execution_count": null,
      "outputs": []
    },
    {
      "cell_type": "markdown",
      "metadata": {
        "id": "m-ofOLxnYpsw"
      },
      "source": [
        "\n",
        "Duplo clique __aqui__ para a solução.\n",
        "<!-- resposta abaixo\n",
        "album_sales_dict.values()\n",
        "-->"
      ]
    },
    {
      "cell_type": "code",
      "metadata": {
        "id": "YjGfK8EoYpsw"
      },
      "source": [
        ""
      ],
      "execution_count": null,
      "outputs": []
    },
    {
      "cell_type": "markdown",
      "metadata": {
        "id": "PY9qbsApYpsw"
      },
      "source": [
        "Agora é só praticar"
      ]
    },
    {
      "cell_type": "code",
      "metadata": {
        "id": "FHoaAk31Ypsw"
      },
      "source": [
        ""
      ],
      "execution_count": null,
      "outputs": []
    },
    {
      "cell_type": "code",
      "metadata": {
        "id": "ndRM0s8sYpsw"
      },
      "source": [
        "A=(\"oi\",1,5,([3,4]),7,\"tchau\")"
      ],
      "execution_count": null,
      "outputs": []
    },
    {
      "cell_type": "code",
      "metadata": {
        "id": "v6UeYXqfYpsw"
      },
      "source": [
        "A"
      ],
      "execution_count": null,
      "outputs": []
    },
    {
      "cell_type": "code",
      "metadata": {
        "id": "SUKnKK21Ypsw"
      },
      "source": [
        "B=('a','b','c')\n"
      ],
      "execution_count": null,
      "outputs": []
    },
    {
      "cell_type": "code",
      "metadata": {
        "id": "FExJzBUTYpsw"
      },
      "source": [
        "B"
      ],
      "execution_count": null,
      "outputs": []
    },
    {
      "cell_type": "code",
      "metadata": {
        "id": "M28vsB2RYpsw"
      },
      "source": [
        "# A.append(\"d\")"
      ],
      "execution_count": null,
      "outputs": []
    },
    {
      "cell_type": "code",
      "metadata": {
        "id": "VgJjdLVCYpsw"
      },
      "source": [
        "print(type(A))"
      ],
      "execution_count": null,
      "outputs": []
    },
    {
      "cell_type": "code",
      "metadata": {
        "id": "L7gVoDOQYpsw"
      },
      "source": [
        "Dict={\"A\":1,\"B\":\"2\",\"C\":[3,3,3],\"D\":(4,4,4),'E':5,'F':6}"
      ],
      "execution_count": null,
      "outputs": []
    },
    {
      "cell_type": "code",
      "metadata": {
        "id": "YxTKRifyYpsw"
      },
      "source": [
        "Dict[\"D\"]"
      ],
      "execution_count": null,
      "outputs": []
    },
    {
      "cell_type": "code",
      "metadata": {
        "id": "QU5FZsGxYpsw"
      },
      "source": [
        ""
      ],
      "execution_count": null,
      "outputs": []
    },
    {
      "cell_type": "code",
      "metadata": {
        "id": "G6spgvTVYpsw"
      },
      "source": [
        ""
      ],
      "execution_count": null,
      "outputs": []
    },
    {
      "cell_type": "code",
      "metadata": {
        "id": "P5eNCdWAYpsx"
      },
      "source": [
        ""
      ],
      "execution_count": null,
      "outputs": []
    }
  ]
}