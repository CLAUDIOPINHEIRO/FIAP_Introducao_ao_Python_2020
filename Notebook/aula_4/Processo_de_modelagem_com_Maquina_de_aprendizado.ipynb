{
  "nbformat": 4,
  "nbformat_minor": 0,
  "metadata": {
    "kernelspec": {
      "display_name": "Python 3",
      "language": "python",
      "name": "python3"
    },
    "language_info": {
      "codemirror_mode": {
        "name": "ipython",
        "version": 3
      },
      "file_extension": ".py",
      "mimetype": "text/x-python",
      "name": "python",
      "nbconvert_exporter": "python",
      "pygments_lexer": "ipython3",
      "version": "3.7.4"
    },
    "colab": {
      "name": "Conteudo 6 - Processo de modelagem com Maquina de aprendizado.ipynb",
      "provenance": [],
      "toc_visible": true
    }
  },
  "cells": [
    {
      "cell_type": "markdown",
      "metadata": {
        "id": "1yF1axJWKH84"
      },
      "source": [
        "# Processo de modelagem com Machine Learning "
      ]
    },
    {
      "cell_type": "markdown",
      "metadata": {
        "id": "VO8kdg6RKH86"
      },
      "source": [
        "<img src = 'https://frnsys.com/assets/hosny/disparity.gif' width =600>"
      ]
    },
    {
      "cell_type": "markdown",
      "metadata": {
        "id": "mnjGPdjXKH88"
      },
      "source": [
        "\n",
        "Neste notebook vamos apresentar conceitos e códigos referentes a um processo de modelagem do inicio ao fim, testando o modelo desenvolvido. \n",
        "\n",
        "Ainda que simples serve como uma referência para modelagens futuras.\n",
        "\n",
        "O processo mais adequado e completo será apresentado durante as aulas e trata-se do CRISP-DM\n"
      ]
    },
    {
      "cell_type": "markdown",
      "metadata": {
        "id": "3KQCk9xrKH8-"
      },
      "source": [
        "## Processo básico de modelagem\n",
        "\n",
        "É composto por 5 passos:\n",
        "\n",
        "* Fazer a pergunta certa\n",
        "* Preparar os dados\n",
        "* Selecionar o algoritmo\n",
        "* Treinar o modelo\n",
        "* Testar o modelo"
      ]
    },
    {
      "cell_type": "markdown",
      "metadata": {
        "id": "jPTpVrHUKH8-"
      },
      "source": [
        "### Preparando os dados"
      ]
    },
    {
      "cell_type": "markdown",
      "metadata": {
        "id": "6vpFT4QnKH8-"
      },
      "source": [
        "\n",
        "Antes de iniciar a preparação dos dados necessitamos importar um conjunto de bibliotecas referente a criação de estruturas de dados, entendimento numérico dos tipos de dados além de bibliotecas gráficas.\n"
      ]
    },
    {
      "cell_type": "code",
      "metadata": {
        "id": "Wk7WdGvAKH8_"
      },
      "source": [
        "import numpy as np\n",
        "import pandas as pd\n",
        "import seaborn as sns\n",
        "import matplotlib.pyplot as plt\n",
        "%matplotlib inline\n",
        "\n",
        "plt.style.use('seaborn')"
      ],
      "execution_count": 1,
      "outputs": []
    },
    {
      "cell_type": "markdown",
      "metadata": {
        "id": "ws3Da4NpKH9A"
      },
      "source": [
        "Agora vamos carregar uma base de dados sobre consumo de cerveja e analisar o quanto o clima impacta nisto"
      ]
    },
    {
      "cell_type": "markdown",
      "metadata": {
        "id": "nR1s7yJ7KH9B"
      },
      "source": [
        "<img src = 'https://media.giphy.com/media/42dsvcMDP3diU/giphy.gif' width=500>"
      ]
    },
    {
      "cell_type": "code",
      "metadata": {
        "colab": {
          "base_uri": "https://localhost:8080/",
          "height": 363
        },
        "id": "XTTBiVa8KH9B",
        "outputId": "649eaa66-4ad2-4959-d97e-4ce1aca61cbb"
      },
      "source": [
        "cerveja = pd.read_excel(\"beer_consumption.xlsx\")\n",
        "cerveja.head(10)"
      ],
      "execution_count": 3,
      "outputs": [
        {
          "output_type": "execute_result",
          "data": {
            "text/html": [
              "<div>\n",
              "<style scoped>\n",
              "    .dataframe tbody tr th:only-of-type {\n",
              "        vertical-align: middle;\n",
              "    }\n",
              "\n",
              "    .dataframe tbody tr th {\n",
              "        vertical-align: top;\n",
              "    }\n",
              "\n",
              "    .dataframe thead th {\n",
              "        text-align: right;\n",
              "    }\n",
              "</style>\n",
              "<table border=\"1\" class=\"dataframe\">\n",
              "  <thead>\n",
              "    <tr style=\"text-align: right;\">\n",
              "      <th></th>\n",
              "      <th>data</th>\n",
              "      <th>temp_avg</th>\n",
              "      <th>temp_min</th>\n",
              "      <th>temp_max</th>\n",
              "      <th>precip</th>\n",
              "      <th>weekend</th>\n",
              "      <th>beer_consumption</th>\n",
              "    </tr>\n",
              "  </thead>\n",
              "  <tbody>\n",
              "    <tr>\n",
              "      <th>0</th>\n",
              "      <td>2015-01-01</td>\n",
              "      <td>27.30</td>\n",
              "      <td>23.9</td>\n",
              "      <td>32.5</td>\n",
              "      <td>0.0</td>\n",
              "      <td>False</td>\n",
              "      <td>25461</td>\n",
              "    </tr>\n",
              "    <tr>\n",
              "      <th>1</th>\n",
              "      <td>2015-01-02</td>\n",
              "      <td>27.02</td>\n",
              "      <td>24.5</td>\n",
              "      <td>33.5</td>\n",
              "      <td>0.0</td>\n",
              "      <td>False</td>\n",
              "      <td>28972</td>\n",
              "    </tr>\n",
              "    <tr>\n",
              "      <th>2</th>\n",
              "      <td>2015-01-03</td>\n",
              "      <td>24.82</td>\n",
              "      <td>22.4</td>\n",
              "      <td>29.9</td>\n",
              "      <td>0.0</td>\n",
              "      <td>True</td>\n",
              "      <td>30814</td>\n",
              "    </tr>\n",
              "    <tr>\n",
              "      <th>3</th>\n",
              "      <td>2015-01-04</td>\n",
              "      <td>23.98</td>\n",
              "      <td>21.5</td>\n",
              "      <td>28.6</td>\n",
              "      <td>1.2</td>\n",
              "      <td>True</td>\n",
              "      <td>29799</td>\n",
              "    </tr>\n",
              "    <tr>\n",
              "      <th>4</th>\n",
              "      <td>2015-01-05</td>\n",
              "      <td>23.82</td>\n",
              "      <td>21.0</td>\n",
              "      <td>28.3</td>\n",
              "      <td>0.0</td>\n",
              "      <td>False</td>\n",
              "      <td>28900</td>\n",
              "    </tr>\n",
              "    <tr>\n",
              "      <th>5</th>\n",
              "      <td>2015-01-06</td>\n",
              "      <td>23.78</td>\n",
              "      <td>20.1</td>\n",
              "      <td>30.5</td>\n",
              "      <td>12.2</td>\n",
              "      <td>False</td>\n",
              "      <td>28218</td>\n",
              "    </tr>\n",
              "    <tr>\n",
              "      <th>6</th>\n",
              "      <td>2015-01-07</td>\n",
              "      <td>24.00</td>\n",
              "      <td>19.5</td>\n",
              "      <td>33.7</td>\n",
              "      <td>0.0</td>\n",
              "      <td>False</td>\n",
              "      <td>29732</td>\n",
              "    </tr>\n",
              "    <tr>\n",
              "      <th>7</th>\n",
              "      <td>2015-01-08</td>\n",
              "      <td>24.90</td>\n",
              "      <td>NaN</td>\n",
              "      <td>32.8</td>\n",
              "      <td>48.6</td>\n",
              "      <td>False</td>\n",
              "      <td>28397</td>\n",
              "    </tr>\n",
              "    <tr>\n",
              "      <th>8</th>\n",
              "      <td>2015-01-09</td>\n",
              "      <td>28.20</td>\n",
              "      <td>21.9</td>\n",
              "      <td>34.0</td>\n",
              "      <td>4.4</td>\n",
              "      <td>False</td>\n",
              "      <td>24886</td>\n",
              "    </tr>\n",
              "    <tr>\n",
              "      <th>9</th>\n",
              "      <td>2015-01-10</td>\n",
              "      <td>26.76</td>\n",
              "      <td>22.1</td>\n",
              "      <td>34.2</td>\n",
              "      <td>0.0</td>\n",
              "      <td>True</td>\n",
              "      <td>37937</td>\n",
              "    </tr>\n",
              "  </tbody>\n",
              "</table>\n",
              "</div>"
            ],
            "text/plain": [
              "        data  temp_avg  temp_min  temp_max  precip weekend  beer_consumption\n",
              "0 2015-01-01     27.30      23.9      32.5     0.0   False             25461\n",
              "1 2015-01-02     27.02      24.5      33.5     0.0   False             28972\n",
              "2 2015-01-03     24.82      22.4      29.9     0.0    True             30814\n",
              "3 2015-01-04     23.98      21.5      28.6     1.2    True             29799\n",
              "4 2015-01-05     23.82      21.0      28.3     0.0   False             28900\n",
              "5 2015-01-06     23.78      20.1      30.5    12.2   False             28218\n",
              "6 2015-01-07     24.00      19.5      33.7     0.0   False             29732\n",
              "7 2015-01-08     24.90       NaN      32.8    48.6   False             28397\n",
              "8 2015-01-09     28.20      21.9      34.0     4.4   False             24886\n",
              "9 2015-01-10     26.76      22.1      34.2     0.0    True             37937"
            ]
          },
          "metadata": {
            "tags": []
          },
          "execution_count": 3
        }
      ]
    },
    {
      "cell_type": "code",
      "metadata": {
        "colab": {
          "base_uri": "https://localhost:8080/",
          "height": 300
        },
        "id": "HKnOplgUKH9C",
        "outputId": "19c6b039-b895-438e-fe3f-c765531e4814"
      },
      "source": [
        "cerveja.describe()"
      ],
      "execution_count": 4,
      "outputs": [
        {
          "output_type": "execute_result",
          "data": {
            "text/html": [
              "<div>\n",
              "<style scoped>\n",
              "    .dataframe tbody tr th:only-of-type {\n",
              "        vertical-align: middle;\n",
              "    }\n",
              "\n",
              "    .dataframe tbody tr th {\n",
              "        vertical-align: top;\n",
              "    }\n",
              "\n",
              "    .dataframe thead th {\n",
              "        text-align: right;\n",
              "    }\n",
              "</style>\n",
              "<table border=\"1\" class=\"dataframe\">\n",
              "  <thead>\n",
              "    <tr style=\"text-align: right;\">\n",
              "      <th></th>\n",
              "      <th>temp_avg</th>\n",
              "      <th>temp_min</th>\n",
              "      <th>temp_max</th>\n",
              "      <th>precip</th>\n",
              "      <th>beer_consumption</th>\n",
              "    </tr>\n",
              "  </thead>\n",
              "  <tbody>\n",
              "    <tr>\n",
              "      <th>count</th>\n",
              "      <td>361.000000</td>\n",
              "      <td>363.000000</td>\n",
              "      <td>362.000000</td>\n",
              "      <td>365.000000</td>\n",
              "      <td>365.000000</td>\n",
              "    </tr>\n",
              "    <tr>\n",
              "      <th>mean</th>\n",
              "      <td>21.101385</td>\n",
              "      <td>17.396970</td>\n",
              "      <td>26.480663</td>\n",
              "      <td>5.196712</td>\n",
              "      <td>25401.367123</td>\n",
              "    </tr>\n",
              "    <tr>\n",
              "      <th>std</th>\n",
              "      <td>3.546618</td>\n",
              "      <td>2.969405</td>\n",
              "      <td>4.758531</td>\n",
              "      <td>12.417844</td>\n",
              "      <td>4399.142703</td>\n",
              "    </tr>\n",
              "    <tr>\n",
              "      <th>min</th>\n",
              "      <td>0.000000</td>\n",
              "      <td>0.000000</td>\n",
              "      <td>0.000000</td>\n",
              "      <td>0.000000</td>\n",
              "      <td>14343.000000</td>\n",
              "    </tr>\n",
              "    <tr>\n",
              "      <th>25%</th>\n",
              "      <td>18.920000</td>\n",
              "      <td>15.200000</td>\n",
              "      <td>23.725000</td>\n",
              "      <td>0.000000</td>\n",
              "      <td>22008.000000</td>\n",
              "    </tr>\n",
              "    <tr>\n",
              "      <th>50%</th>\n",
              "      <td>21.360000</td>\n",
              "      <td>17.900000</td>\n",
              "      <td>26.900000</td>\n",
              "      <td>0.000000</td>\n",
              "      <td>24867.000000</td>\n",
              "    </tr>\n",
              "    <tr>\n",
              "      <th>75%</th>\n",
              "      <td>23.280000</td>\n",
              "      <td>19.550000</td>\n",
              "      <td>29.400000</td>\n",
              "      <td>3.200000</td>\n",
              "      <td>28631.000000</td>\n",
              "    </tr>\n",
              "    <tr>\n",
              "      <th>max</th>\n",
              "      <td>28.860000</td>\n",
              "      <td>24.500000</td>\n",
              "      <td>36.500000</td>\n",
              "      <td>94.800000</td>\n",
              "      <td>37937.000000</td>\n",
              "    </tr>\n",
              "  </tbody>\n",
              "</table>\n",
              "</div>"
            ],
            "text/plain": [
              "         temp_avg    temp_min    temp_max      precip  beer_consumption\n",
              "count  361.000000  363.000000  362.000000  365.000000        365.000000\n",
              "mean    21.101385   17.396970   26.480663    5.196712      25401.367123\n",
              "std      3.546618    2.969405    4.758531   12.417844       4399.142703\n",
              "min      0.000000    0.000000    0.000000    0.000000      14343.000000\n",
              "25%     18.920000   15.200000   23.725000    0.000000      22008.000000\n",
              "50%     21.360000   17.900000   26.900000    0.000000      24867.000000\n",
              "75%     23.280000   19.550000   29.400000    3.200000      28631.000000\n",
              "max     28.860000   24.500000   36.500000   94.800000      37937.000000"
            ]
          },
          "metadata": {
            "tags": []
          },
          "execution_count": 4
        }
      ]
    },
    {
      "cell_type": "code",
      "metadata": {
        "colab": {
          "base_uri": "https://localhost:8080/"
        },
        "id": "3gboB5ttKH9F",
        "outputId": "ea8b22b6-1a24-4312-b832-5e5ff2da850b"
      },
      "source": [
        "cerveja.count()"
      ],
      "execution_count": 5,
      "outputs": [
        {
          "output_type": "execute_result",
          "data": {
            "text/plain": [
              "data                365\n",
              "temp_avg            361\n",
              "temp_min            363\n",
              "temp_max            362\n",
              "precip              365\n",
              "weekend             363\n",
              "beer_consumption    365\n",
              "dtype: int64"
            ]
          },
          "metadata": {
            "tags": []
          },
          "execution_count": 5
        }
      ]
    },
    {
      "cell_type": "code",
      "metadata": {
        "colab": {
          "base_uri": "https://localhost:8080/",
          "height": 359
        },
        "id": "RTv1msrjKH9F",
        "outputId": "0a8c08ce-3fa6-41e7-a9ca-119bc286cb23"
      },
      "source": [
        "sns.heatmap(cerveja.corr(), annot=True)"
      ],
      "execution_count": 6,
      "outputs": [
        {
          "output_type": "execute_result",
          "data": {
            "text/plain": [
              "<matplotlib.axes._subplots.AxesSubplot at 0x7f19b1551550>"
            ]
          },
          "metadata": {
            "tags": []
          },
          "execution_count": 6
        },
        {
          "output_type": "display_data",
          "data": {
            "image/png": "[encoded data removed]",
            "text/plain": [
              "<Figure size 432x288 with 2 Axes>"
            ]
          },
          "metadata": {
            "tags": [],
            "needs_background": "light"
          }
        }
      ]
    },
    {
      "cell_type": "code",
      "metadata": {
        "colab": {
          "base_uri": "https://localhost:8080/",
          "height": 206
        },
        "id": "xF50PfDiKH9G",
        "outputId": "a31a288b-dca2-46bf-e381-b95856ef43c2"
      },
      "source": [
        "cerveja.corr()"
      ],
      "execution_count": 7,
      "outputs": [
        {
          "output_type": "execute_result",
          "data": {
            "text/html": [
              "<div>\n",
              "<style scoped>\n",
              "    .dataframe tbody tr th:only-of-type {\n",
              "        vertical-align: middle;\n",
              "    }\n",
              "\n",
              "    .dataframe tbody tr th {\n",
              "        vertical-align: top;\n",
              "    }\n",
              "\n",
              "    .dataframe thead th {\n",
              "        text-align: right;\n",
              "    }\n",
              "</style>\n",
              "<table border=\"1\" class=\"dataframe\">\n",
              "  <thead>\n",
              "    <tr style=\"text-align: right;\">\n",
              "      <th></th>\n",
              "      <th>temp_avg</th>\n",
              "      <th>temp_min</th>\n",
              "      <th>temp_max</th>\n",
              "      <th>precip</th>\n",
              "      <th>beer_consumption</th>\n",
              "    </tr>\n",
              "  </thead>\n",
              "  <tbody>\n",
              "    <tr>\n",
              "      <th>temp_avg</th>\n",
              "      <td>1.000000</td>\n",
              "      <td>0.678633</td>\n",
              "      <td>0.735339</td>\n",
              "      <td>0.026834</td>\n",
              "      <td>0.503227</td>\n",
              "    </tr>\n",
              "    <tr>\n",
              "      <th>temp_min</th>\n",
              "      <td>0.678633</td>\n",
              "      <td>1.000000</td>\n",
              "      <td>0.531704</td>\n",
              "      <td>0.094701</td>\n",
              "      <td>0.345033</td>\n",
              "    </tr>\n",
              "    <tr>\n",
              "      <th>temp_max</th>\n",
              "      <td>0.735339</td>\n",
              "      <td>0.531704</td>\n",
              "      <td>1.000000</td>\n",
              "      <td>-0.071084</td>\n",
              "      <td>0.587027</td>\n",
              "    </tr>\n",
              "    <tr>\n",
              "      <th>precip</th>\n",
              "      <td>0.026834</td>\n",
              "      <td>0.094701</td>\n",
              "      <td>-0.071084</td>\n",
              "      <td>1.000000</td>\n",
              "      <td>-0.193784</td>\n",
              "    </tr>\n",
              "    <tr>\n",
              "      <th>beer_consumption</th>\n",
              "      <td>0.503227</td>\n",
              "      <td>0.345033</td>\n",
              "      <td>0.587027</td>\n",
              "      <td>-0.193784</td>\n",
              "      <td>1.000000</td>\n",
              "    </tr>\n",
              "  </tbody>\n",
              "</table>\n",
              "</div>"
            ],
            "text/plain": [
              "                  temp_avg  temp_min  temp_max    precip  beer_consumption\n",
              "temp_avg          1.000000  0.678633  0.735339  0.026834          0.503227\n",
              "temp_min          0.678633  1.000000  0.531704  0.094701          0.345033\n",
              "temp_max          0.735339  0.531704  1.000000 -0.071084          0.587027\n",
              "precip            0.026834  0.094701 -0.071084  1.000000         -0.193784\n",
              "beer_consumption  0.503227  0.345033  0.587027 -0.193784          1.000000"
            ]
          },
          "metadata": {
            "tags": []
          },
          "execution_count": 7
        }
      ]
    },
    {
      "cell_type": "markdown",
      "metadata": {
        "id": "2xsyajGXKH9G"
      },
      "source": [
        "Não foram encontrados colunas correlacionadas o suficiente para removê-las."
      ]
    },
    {
      "cell_type": "markdown",
      "metadata": {
        "id": "49g-IWm1KH9G"
      },
      "source": [
        "### Compreendendo relações e correlações de variáveis"
      ]
    },
    {
      "cell_type": "markdown",
      "metadata": {
        "id": "2OOY4Y6MKH9H"
      },
      "source": [
        "sns.lmplot()"
      ]
    },
    {
      "cell_type": "code",
      "metadata": {
        "colab": {
          "base_uri": "https://localhost:8080/",
          "height": 458
        },
        "id": "U61ndSIJKH9H",
        "outputId": "4a913850-61c7-4bcf-a801-67d28084aa62"
      },
      "source": [
        "sns.lmplot(\"beer_consumption\", \"temp_avg\", cerveja,\n",
        "          scatter_kws={\"marker\":\"x\", \"color\":\"blue\"},\n",
        "          line_kws={\"linewidth\":1, \"color\": \"orange\"})"
      ],
      "execution_count": 8,
      "outputs": [
        {
          "output_type": "stream",
          "text": [
            "/usr/local/lib/python3.6/dist-packages/seaborn/_decorators.py:43: FutureWarning: Pass the following variables as keyword args: x, y, data. From version 0.12, the only valid positional argument will be `data`, and passing other arguments without an explicit keyword will result in an error or misinterpretation.\n",
            "  FutureWarning\n"
          ],
          "name": "stderr"
        },
        {
          "output_type": "execute_result",
          "data": {
            "text/plain": [
              "<seaborn.axisgrid.FacetGrid at 0x7f19aebc1588>"
            ]
          },
          "metadata": {
            "tags": []
          },
          "execution_count": 8
        },
        {
          "output_type": "display_data",
          "data": {
            "image/png": "[encoded data removed]",
            "text/plain": [
              "<Figure size 360x360 with 1 Axes>"
            ]
          },
          "metadata": {
            "tags": [],
            "needs_background": "light"
          }
        }
      ]
    },
    {
      "cell_type": "code",
      "metadata": {
        "colab": {
          "base_uri": "https://localhost:8080/",
          "height": 458
        },
        "id": "KBr1dxJ3KH9I",
        "outputId": "5957ab16-b64c-4f30-c0a1-a5349bde3dd7"
      },
      "source": [
        "sns.lmplot(\"beer_consumption\", \"temp_max\", cerveja,\n",
        "          scatter_kws={\"marker\":\"x\", \"color\":\"blue\"},\n",
        "          line_kws={\"linewidth\":1, \"color\": \"orange\"})"
      ],
      "execution_count": 9,
      "outputs": [
        {
          "output_type": "stream",
          "text": [
            "/usr/local/lib/python3.6/dist-packages/seaborn/_decorators.py:43: FutureWarning: Pass the following variables as keyword args: x, y, data. From version 0.12, the only valid positional argument will be `data`, and passing other arguments without an explicit keyword will result in an error or misinterpretation.\n",
            "  FutureWarning\n"
          ],
          "name": "stderr"
        },
        {
          "output_type": "execute_result",
          "data": {
            "text/plain": [
              "<seaborn.axisgrid.FacetGrid at 0x7f19aebc1d68>"
            ]
          },
          "metadata": {
            "tags": []
          },
          "execution_count": 9
        },
        {
          "output_type": "display_data",
          "data": {
            "image/png": "[encoded data removed]",
            "text/plain": [
              "<Figure size 360x360 with 1 Axes>"
            ]
          },
          "metadata": {
            "tags": [],
            "needs_background": "light"
          }
        }
      ]
    },
    {
      "cell_type": "code",
      "metadata": {
        "colab": {
          "base_uri": "https://localhost:8080/",
          "height": 458
        },
        "id": "ux_DEsUWKH9I",
        "outputId": "3f83f054-12b5-4107-c2c7-2173cd25eb23"
      },
      "source": [
        "sns.lmplot(\"precip\", \"beer_consumption\", cerveja,\n",
        "          scatter_kws={\"marker\":\"x\", \"color\":\"blue\"},\n",
        "          line_kws={\"linewidth\":1, \"color\": \"orange\"})"
      ],
      "execution_count": 10,
      "outputs": [
        {
          "output_type": "stream",
          "text": [
            "/usr/local/lib/python3.6/dist-packages/seaborn/_decorators.py:43: FutureWarning: Pass the following variables as keyword args: x, y, data. From version 0.12, the only valid positional argument will be `data`, and passing other arguments without an explicit keyword will result in an error or misinterpretation.\n",
            "  FutureWarning\n"
          ],
          "name": "stderr"
        },
        {
          "output_type": "execute_result",
          "data": {
            "text/plain": [
              "<seaborn.axisgrid.FacetGrid at 0x7f19ae65a9b0>"
            ]
          },
          "metadata": {
            "tags": []
          },
          "execution_count": 10
        },
        {
          "output_type": "display_data",
          "data": {
            "image/png": "[encoded data removed]",
            "text/plain": [
              "<Figure size 360x360 with 1 Axes>"
            ]
          },
          "metadata": {
            "tags": [],
            "needs_background": "light"
          }
        }
      ]
    },
    {
      "cell_type": "markdown",
      "metadata": {
        "id": "h-60Vqv2KH9I"
      },
      "source": [
        "### Mapear dados em label para numéricos"
      ]
    },
    {
      "cell_type": "code",
      "metadata": {
        "id": "X7lTtWwuKH9J"
      },
      "source": [
        "class_weekend = {True: 1, False: 0}\n",
        "cerveja[\"weekend\"] = cerveja[\"weekend\"].map(class_weekend)"
      ],
      "execution_count": 11,
      "outputs": []
    },
    {
      "cell_type": "code",
      "metadata": {
        "colab": {
          "base_uri": "https://localhost:8080/",
          "height": 206
        },
        "id": "DpqxoWWUKH9K",
        "outputId": "da2c8963-27e0-4e18-c8e8-95a31d4cb9ee"
      },
      "source": [
        "cerveja.head(5)"
      ],
      "execution_count": 12,
      "outputs": [
        {
          "output_type": "execute_result",
          "data": {
            "text/html": [
              "<div>\n",
              "<style scoped>\n",
              "    .dataframe tbody tr th:only-of-type {\n",
              "        vertical-align: middle;\n",
              "    }\n",
              "\n",
              "    .dataframe tbody tr th {\n",
              "        vertical-align: top;\n",
              "    }\n",
              "\n",
              "    .dataframe thead th {\n",
              "        text-align: right;\n",
              "    }\n",
              "</style>\n",
              "<table border=\"1\" class=\"dataframe\">\n",
              "  <thead>\n",
              "    <tr style=\"text-align: right;\">\n",
              "      <th></th>\n",
              "      <th>data</th>\n",
              "      <th>temp_avg</th>\n",
              "      <th>temp_min</th>\n",
              "      <th>temp_max</th>\n",
              "      <th>precip</th>\n",
              "      <th>weekend</th>\n",
              "      <th>beer_consumption</th>\n",
              "    </tr>\n",
              "  </thead>\n",
              "  <tbody>\n",
              "    <tr>\n",
              "      <th>0</th>\n",
              "      <td>2015-01-01</td>\n",
              "      <td>27.30</td>\n",
              "      <td>23.9</td>\n",
              "      <td>32.5</td>\n",
              "      <td>0.0</td>\n",
              "      <td>0.0</td>\n",
              "      <td>25461</td>\n",
              "    </tr>\n",
              "    <tr>\n",
              "      <th>1</th>\n",
              "      <td>2015-01-02</td>\n",
              "      <td>27.02</td>\n",
              "      <td>24.5</td>\n",
              "      <td>33.5</td>\n",
              "      <td>0.0</td>\n",
              "      <td>0.0</td>\n",
              "      <td>28972</td>\n",
              "    </tr>\n",
              "    <tr>\n",
              "      <th>2</th>\n",
              "      <td>2015-01-03</td>\n",
              "      <td>24.82</td>\n",
              "      <td>22.4</td>\n",
              "      <td>29.9</td>\n",
              "      <td>0.0</td>\n",
              "      <td>1.0</td>\n",
              "      <td>30814</td>\n",
              "    </tr>\n",
              "    <tr>\n",
              "      <th>3</th>\n",
              "      <td>2015-01-04</td>\n",
              "      <td>23.98</td>\n",
              "      <td>21.5</td>\n",
              "      <td>28.6</td>\n",
              "      <td>1.2</td>\n",
              "      <td>1.0</td>\n",
              "      <td>29799</td>\n",
              "    </tr>\n",
              "    <tr>\n",
              "      <th>4</th>\n",
              "      <td>2015-01-05</td>\n",
              "      <td>23.82</td>\n",
              "      <td>21.0</td>\n",
              "      <td>28.3</td>\n",
              "      <td>0.0</td>\n",
              "      <td>0.0</td>\n",
              "      <td>28900</td>\n",
              "    </tr>\n",
              "  </tbody>\n",
              "</table>\n",
              "</div>"
            ],
            "text/plain": [
              "        data  temp_avg  temp_min  temp_max  precip  weekend  beer_consumption\n",
              "0 2015-01-01     27.30      23.9      32.5     0.0      0.0             25461\n",
              "1 2015-01-02     27.02      24.5      33.5     0.0      0.0             28972\n",
              "2 2015-01-03     24.82      22.4      29.9     0.0      1.0             30814\n",
              "3 2015-01-04     23.98      21.5      28.6     1.2      1.0             29799\n",
              "4 2015-01-05     23.82      21.0      28.3     0.0      0.0             28900"
            ]
          },
          "metadata": {
            "tags": []
          },
          "execution_count": 12
        }
      ]
    },
    {
      "cell_type": "markdown",
      "metadata": {
        "id": "4W7fE4HvKH9K"
      },
      "source": [
        "### Busca por dados nulos e inválidos"
      ]
    },
    {
      "cell_type": "code",
      "metadata": {
        "colab": {
          "base_uri": "https://localhost:8080/"
        },
        "id": "2s7VsG3qKH9K",
        "outputId": "0a0e1700-a4e4-48db-d659-68df1840380f"
      },
      "source": [
        "cerveja.isnull().any()"
      ],
      "execution_count": 13,
      "outputs": [
        {
          "output_type": "execute_result",
          "data": {
            "text/plain": [
              "data                False\n",
              "temp_avg             True\n",
              "temp_min             True\n",
              "temp_max             True\n",
              "precip              False\n",
              "weekend              True\n",
              "beer_consumption    False\n",
              "dtype: bool"
            ]
          },
          "metadata": {
            "tags": []
          },
          "execution_count": 13
        }
      ]
    },
    {
      "cell_type": "code",
      "metadata": {
        "colab": {
          "base_uri": "https://localhost:8080/",
          "height": 175
        },
        "id": "vWiCEleAKH9L",
        "outputId": "092c41c3-9754-4db1-ee7c-718c1d783f08"
      },
      "source": [
        "cerveja[cerveja[\"temp_avg\"].isnull()]"
      ],
      "execution_count": 14,
      "outputs": [
        {
          "output_type": "execute_result",
          "data": {
            "text/html": [
              "<div>\n",
              "<style scoped>\n",
              "    .dataframe tbody tr th:only-of-type {\n",
              "        vertical-align: middle;\n",
              "    }\n",
              "\n",
              "    .dataframe tbody tr th {\n",
              "        vertical-align: top;\n",
              "    }\n",
              "\n",
              "    .dataframe thead th {\n",
              "        text-align: right;\n",
              "    }\n",
              "</style>\n",
              "<table border=\"1\" class=\"dataframe\">\n",
              "  <thead>\n",
              "    <tr style=\"text-align: right;\">\n",
              "      <th></th>\n",
              "      <th>data</th>\n",
              "      <th>temp_avg</th>\n",
              "      <th>temp_min</th>\n",
              "      <th>temp_max</th>\n",
              "      <th>precip</th>\n",
              "      <th>weekend</th>\n",
              "      <th>beer_consumption</th>\n",
              "    </tr>\n",
              "  </thead>\n",
              "  <tbody>\n",
              "    <tr>\n",
              "      <th>168</th>\n",
              "      <td>2015-06-18</td>\n",
              "      <td>NaN</td>\n",
              "      <td>15.8</td>\n",
              "      <td>26.2</td>\n",
              "      <td>0.0</td>\n",
              "      <td>0.0</td>\n",
              "      <td>24534</td>\n",
              "    </tr>\n",
              "    <tr>\n",
              "      <th>181</th>\n",
              "      <td>2015-07-01</td>\n",
              "      <td>NaN</td>\n",
              "      <td>16.2</td>\n",
              "      <td>20.5</td>\n",
              "      <td>0.0</td>\n",
              "      <td>0.0</td>\n",
              "      <td>20824</td>\n",
              "    </tr>\n",
              "    <tr>\n",
              "      <th>309</th>\n",
              "      <td>2015-11-06</td>\n",
              "      <td>NaN</td>\n",
              "      <td>18.0</td>\n",
              "      <td>22.8</td>\n",
              "      <td>0.0</td>\n",
              "      <td>0.0</td>\n",
              "      <td>20575</td>\n",
              "    </tr>\n",
              "    <tr>\n",
              "      <th>314</th>\n",
              "      <td>2015-11-11</td>\n",
              "      <td>NaN</td>\n",
              "      <td>19.8</td>\n",
              "      <td>32.7</td>\n",
              "      <td>0.0</td>\n",
              "      <td>0.0</td>\n",
              "      <td>29569</td>\n",
              "    </tr>\n",
              "  </tbody>\n",
              "</table>\n",
              "</div>"
            ],
            "text/plain": [
              "          data  temp_avg  temp_min  temp_max  precip  weekend  beer_consumption\n",
              "168 2015-06-18       NaN      15.8      26.2     0.0      0.0             24534\n",
              "181 2015-07-01       NaN      16.2      20.5     0.0      0.0             20824\n",
              "309 2015-11-06       NaN      18.0      22.8     0.0      0.0             20575\n",
              "314 2015-11-11       NaN      19.8      32.7     0.0      0.0             29569"
            ]
          },
          "metadata": {
            "tags": []
          },
          "execution_count": 14
        }
      ]
    },
    {
      "cell_type": "code",
      "metadata": {
        "colab": {
          "base_uri": "https://localhost:8080/",
          "height": 112
        },
        "id": "ae4sj-xwKH9L",
        "outputId": "969c6396-9015-4efd-864e-42a797236ba4"
      },
      "source": [
        "cerveja[cerveja[\"temp_min\"].isnull()]"
      ],
      "execution_count": 15,
      "outputs": [
        {
          "output_type": "execute_result",
          "data": {
            "text/html": [
              "<div>\n",
              "<style scoped>\n",
              "    .dataframe tbody tr th:only-of-type {\n",
              "        vertical-align: middle;\n",
              "    }\n",
              "\n",
              "    .dataframe tbody tr th {\n",
              "        vertical-align: top;\n",
              "    }\n",
              "\n",
              "    .dataframe thead th {\n",
              "        text-align: right;\n",
              "    }\n",
              "</style>\n",
              "<table border=\"1\" class=\"dataframe\">\n",
              "  <thead>\n",
              "    <tr style=\"text-align: right;\">\n",
              "      <th></th>\n",
              "      <th>data</th>\n",
              "      <th>temp_avg</th>\n",
              "      <th>temp_min</th>\n",
              "      <th>temp_max</th>\n",
              "      <th>precip</th>\n",
              "      <th>weekend</th>\n",
              "      <th>beer_consumption</th>\n",
              "    </tr>\n",
              "  </thead>\n",
              "  <tbody>\n",
              "    <tr>\n",
              "      <th>7</th>\n",
              "      <td>2015-01-08</td>\n",
              "      <td>24.90</td>\n",
              "      <td>NaN</td>\n",
              "      <td>32.8</td>\n",
              "      <td>48.6</td>\n",
              "      <td>0.0</td>\n",
              "      <td>28397</td>\n",
              "    </tr>\n",
              "    <tr>\n",
              "      <th>116</th>\n",
              "      <td>2015-04-27</td>\n",
              "      <td>19.82</td>\n",
              "      <td>NaN</td>\n",
              "      <td>24.9</td>\n",
              "      <td>0.0</td>\n",
              "      <td>0.0</td>\n",
              "      <td>21838</td>\n",
              "    </tr>\n",
              "  </tbody>\n",
              "</table>\n",
              "</div>"
            ],
            "text/plain": [
              "          data  temp_avg  temp_min  temp_max  precip  weekend  beer_consumption\n",
              "7   2015-01-08     24.90       NaN      32.8    48.6      0.0             28397\n",
              "116 2015-04-27     19.82       NaN      24.9     0.0      0.0             21838"
            ]
          },
          "metadata": {
            "tags": []
          },
          "execution_count": 15
        }
      ]
    },
    {
      "cell_type": "code",
      "metadata": {
        "colab": {
          "base_uri": "https://localhost:8080/",
          "height": 143
        },
        "id": "BEqlQLgFKH9L",
        "outputId": "c09e48e5-7fc7-40a7-af0e-1b2c458f6973"
      },
      "source": [
        "cerveja[cerveja[\"temp_max\"].isnull()]"
      ],
      "execution_count": 16,
      "outputs": [
        {
          "output_type": "execute_result",
          "data": {
            "text/html": [
              "<div>\n",
              "<style scoped>\n",
              "    .dataframe tbody tr th:only-of-type {\n",
              "        vertical-align: middle;\n",
              "    }\n",
              "\n",
              "    .dataframe tbody tr th {\n",
              "        vertical-align: top;\n",
              "    }\n",
              "\n",
              "    .dataframe thead th {\n",
              "        text-align: right;\n",
              "    }\n",
              "</style>\n",
              "<table border=\"1\" class=\"dataframe\">\n",
              "  <thead>\n",
              "    <tr style=\"text-align: right;\">\n",
              "      <th></th>\n",
              "      <th>data</th>\n",
              "      <th>temp_avg</th>\n",
              "      <th>temp_min</th>\n",
              "      <th>temp_max</th>\n",
              "      <th>precip</th>\n",
              "      <th>weekend</th>\n",
              "      <th>beer_consumption</th>\n",
              "    </tr>\n",
              "  </thead>\n",
              "  <tbody>\n",
              "    <tr>\n",
              "      <th>98</th>\n",
              "      <td>2015-04-09</td>\n",
              "      <td>19.40</td>\n",
              "      <td>15.9</td>\n",
              "      <td>NaN</td>\n",
              "      <td>0.0</td>\n",
              "      <td>0.0</td>\n",
              "      <td>20298</td>\n",
              "    </tr>\n",
              "    <tr>\n",
              "      <th>165</th>\n",
              "      <td>2015-06-15</td>\n",
              "      <td>16.02</td>\n",
              "      <td>13.1</td>\n",
              "      <td>NaN</td>\n",
              "      <td>0.0</td>\n",
              "      <td>0.0</td>\n",
              "      <td>19119</td>\n",
              "    </tr>\n",
              "    <tr>\n",
              "      <th>237</th>\n",
              "      <td>2015-08-26</td>\n",
              "      <td>18.92</td>\n",
              "      <td>14.8</td>\n",
              "      <td>NaN</td>\n",
              "      <td>0.6</td>\n",
              "      <td>0.0</td>\n",
              "      <td>23357</td>\n",
              "    </tr>\n",
              "  </tbody>\n",
              "</table>\n",
              "</div>"
            ],
            "text/plain": [
              "          data  temp_avg  temp_min  temp_max  precip  weekend  beer_consumption\n",
              "98  2015-04-09     19.40      15.9       NaN     0.0      0.0             20298\n",
              "165 2015-06-15     16.02      13.1       NaN     0.0      0.0             19119\n",
              "237 2015-08-26     18.92      14.8       NaN     0.6      0.0             23357"
            ]
          },
          "metadata": {
            "tags": []
          },
          "execution_count": 16
        }
      ]
    },
    {
      "cell_type": "code",
      "metadata": {
        "colab": {
          "base_uri": "https://localhost:8080/",
          "height": 112
        },
        "id": "jRuk-GttKH9M",
        "outputId": "d5e08e69-4cb1-4916-8109-ec8584a22610"
      },
      "source": [
        "cerveja[cerveja[\"weekend\"].isnull()]"
      ],
      "execution_count": 17,
      "outputs": [
        {
          "output_type": "execute_result",
          "data": {
            "text/html": [
              "<div>\n",
              "<style scoped>\n",
              "    .dataframe tbody tr th:only-of-type {\n",
              "        vertical-align: middle;\n",
              "    }\n",
              "\n",
              "    .dataframe tbody tr th {\n",
              "        vertical-align: top;\n",
              "    }\n",
              "\n",
              "    .dataframe thead th {\n",
              "        text-align: right;\n",
              "    }\n",
              "</style>\n",
              "<table border=\"1\" class=\"dataframe\">\n",
              "  <thead>\n",
              "    <tr style=\"text-align: right;\">\n",
              "      <th></th>\n",
              "      <th>data</th>\n",
              "      <th>temp_avg</th>\n",
              "      <th>temp_min</th>\n",
              "      <th>temp_max</th>\n",
              "      <th>precip</th>\n",
              "      <th>weekend</th>\n",
              "      <th>beer_consumption</th>\n",
              "    </tr>\n",
              "  </thead>\n",
              "  <tbody>\n",
              "    <tr>\n",
              "      <th>21</th>\n",
              "      <td>2015-01-22</td>\n",
              "      <td>21.74</td>\n",
              "      <td>19.2</td>\n",
              "      <td>0.0</td>\n",
              "      <td>31.0</td>\n",
              "      <td>NaN</td>\n",
              "      <td>25795</td>\n",
              "    </tr>\n",
              "    <tr>\n",
              "      <th>27</th>\n",
              "      <td>2015-01-28</td>\n",
              "      <td>25.68</td>\n",
              "      <td>20.1</td>\n",
              "      <td>29.9</td>\n",
              "      <td>4.9</td>\n",
              "      <td>NaN</td>\n",
              "      <td>22603</td>\n",
              "    </tr>\n",
              "  </tbody>\n",
              "</table>\n",
              "</div>"
            ],
            "text/plain": [
              "         data  temp_avg  temp_min  temp_max  precip  weekend  beer_consumption\n",
              "21 2015-01-22     21.74      19.2       0.0    31.0      NaN             25795\n",
              "27 2015-01-28     25.68      20.1      29.9     4.9      NaN             22603"
            ]
          },
          "metadata": {
            "tags": []
          },
          "execution_count": 17
        }
      ]
    },
    {
      "cell_type": "markdown",
      "metadata": {
        "id": "LumDKipVKH9M"
      },
      "source": [
        "Temperatura média pode ser calculada entre a temperatura máxima e mínima"
      ]
    },
    {
      "cell_type": "code",
      "metadata": {
        "colab": {
          "base_uri": "https://localhost:8080/",
          "height": 175
        },
        "id": "-WSEmkcrKH9N",
        "outputId": "6bee6297-f8ae-434a-ca49-984f35cb9066"
      },
      "source": [
        "cerveja_temp_avg_null = cerveja[cerveja[\"temp_avg\"].isnull()].copy()\n",
        "cerveja_temp_avg_null"
      ],
      "execution_count": 18,
      "outputs": [
        {
          "output_type": "execute_result",
          "data": {
            "text/html": [
              "<div>\n",
              "<style scoped>\n",
              "    .dataframe tbody tr th:only-of-type {\n",
              "        vertical-align: middle;\n",
              "    }\n",
              "\n",
              "    .dataframe tbody tr th {\n",
              "        vertical-align: top;\n",
              "    }\n",
              "\n",
              "    .dataframe thead th {\n",
              "        text-align: right;\n",
              "    }\n",
              "</style>\n",
              "<table border=\"1\" class=\"dataframe\">\n",
              "  <thead>\n",
              "    <tr style=\"text-align: right;\">\n",
              "      <th></th>\n",
              "      <th>data</th>\n",
              "      <th>temp_avg</th>\n",
              "      <th>temp_min</th>\n",
              "      <th>temp_max</th>\n",
              "      <th>precip</th>\n",
              "      <th>weekend</th>\n",
              "      <th>beer_consumption</th>\n",
              "    </tr>\n",
              "  </thead>\n",
              "  <tbody>\n",
              "    <tr>\n",
              "      <th>168</th>\n",
              "      <td>2015-06-18</td>\n",
              "      <td>NaN</td>\n",
              "      <td>15.8</td>\n",
              "      <td>26.2</td>\n",
              "      <td>0.0</td>\n",
              "      <td>0.0</td>\n",
              "      <td>24534</td>\n",
              "    </tr>\n",
              "    <tr>\n",
              "      <th>181</th>\n",
              "      <td>2015-07-01</td>\n",
              "      <td>NaN</td>\n",
              "      <td>16.2</td>\n",
              "      <td>20.5</td>\n",
              "      <td>0.0</td>\n",
              "      <td>0.0</td>\n",
              "      <td>20824</td>\n",
              "    </tr>\n",
              "    <tr>\n",
              "      <th>309</th>\n",
              "      <td>2015-11-06</td>\n",
              "      <td>NaN</td>\n",
              "      <td>18.0</td>\n",
              "      <td>22.8</td>\n",
              "      <td>0.0</td>\n",
              "      <td>0.0</td>\n",
              "      <td>20575</td>\n",
              "    </tr>\n",
              "    <tr>\n",
              "      <th>314</th>\n",
              "      <td>2015-11-11</td>\n",
              "      <td>NaN</td>\n",
              "      <td>19.8</td>\n",
              "      <td>32.7</td>\n",
              "      <td>0.0</td>\n",
              "      <td>0.0</td>\n",
              "      <td>29569</td>\n",
              "    </tr>\n",
              "  </tbody>\n",
              "</table>\n",
              "</div>"
            ],
            "text/plain": [
              "          data  temp_avg  temp_min  temp_max  precip  weekend  beer_consumption\n",
              "168 2015-06-18       NaN      15.8      26.2     0.0      0.0             24534\n",
              "181 2015-07-01       NaN      16.2      20.5     0.0      0.0             20824\n",
              "309 2015-11-06       NaN      18.0      22.8     0.0      0.0             20575\n",
              "314 2015-11-11       NaN      19.8      32.7     0.0      0.0             29569"
            ]
          },
          "metadata": {
            "tags": []
          },
          "execution_count": 18
        }
      ]
    },
    {
      "cell_type": "code",
      "metadata": {
        "colab": {
          "base_uri": "https://localhost:8080/",
          "height": 175
        },
        "id": "LWpJvq2ZKH9N",
        "outputId": "9fd0a397-2f75-4d2f-f8c3-e6177eb0c38b"
      },
      "source": [
        "cerveja_temp_avg_null[\"temp_avg\"] = (cerveja[\"temp_max\"] + cerveja[\"temp_min\"])/2\n",
        "cerveja_temp_avg_null"
      ],
      "execution_count": 19,
      "outputs": [
        {
          "output_type": "execute_result",
          "data": {
            "text/html": [
              "<div>\n",
              "<style scoped>\n",
              "    .dataframe tbody tr th:only-of-type {\n",
              "        vertical-align: middle;\n",
              "    }\n",
              "\n",
              "    .dataframe tbody tr th {\n",
              "        vertical-align: top;\n",
              "    }\n",
              "\n",
              "    .dataframe thead th {\n",
              "        text-align: right;\n",
              "    }\n",
              "</style>\n",
              "<table border=\"1\" class=\"dataframe\">\n",
              "  <thead>\n",
              "    <tr style=\"text-align: right;\">\n",
              "      <th></th>\n",
              "      <th>data</th>\n",
              "      <th>temp_avg</th>\n",
              "      <th>temp_min</th>\n",
              "      <th>temp_max</th>\n",
              "      <th>precip</th>\n",
              "      <th>weekend</th>\n",
              "      <th>beer_consumption</th>\n",
              "    </tr>\n",
              "  </thead>\n",
              "  <tbody>\n",
              "    <tr>\n",
              "      <th>168</th>\n",
              "      <td>2015-06-18</td>\n",
              "      <td>21.00</td>\n",
              "      <td>15.8</td>\n",
              "      <td>26.2</td>\n",
              "      <td>0.0</td>\n",
              "      <td>0.0</td>\n",
              "      <td>24534</td>\n",
              "    </tr>\n",
              "    <tr>\n",
              "      <th>181</th>\n",
              "      <td>2015-07-01</td>\n",
              "      <td>18.35</td>\n",
              "      <td>16.2</td>\n",
              "      <td>20.5</td>\n",
              "      <td>0.0</td>\n",
              "      <td>0.0</td>\n",
              "      <td>20824</td>\n",
              "    </tr>\n",
              "    <tr>\n",
              "      <th>309</th>\n",
              "      <td>2015-11-06</td>\n",
              "      <td>20.40</td>\n",
              "      <td>18.0</td>\n",
              "      <td>22.8</td>\n",
              "      <td>0.0</td>\n",
              "      <td>0.0</td>\n",
              "      <td>20575</td>\n",
              "    </tr>\n",
              "    <tr>\n",
              "      <th>314</th>\n",
              "      <td>2015-11-11</td>\n",
              "      <td>26.25</td>\n",
              "      <td>19.8</td>\n",
              "      <td>32.7</td>\n",
              "      <td>0.0</td>\n",
              "      <td>0.0</td>\n",
              "      <td>29569</td>\n",
              "    </tr>\n",
              "  </tbody>\n",
              "</table>\n",
              "</div>"
            ],
            "text/plain": [
              "          data  temp_avg  temp_min  temp_max  precip  weekend  beer_consumption\n",
              "168 2015-06-18     21.00      15.8      26.2     0.0      0.0             24534\n",
              "181 2015-07-01     18.35      16.2      20.5     0.0      0.0             20824\n",
              "309 2015-11-06     20.40      18.0      22.8     0.0      0.0             20575\n",
              "314 2015-11-11     26.25      19.8      32.7     0.0      0.0             29569"
            ]
          },
          "metadata": {
            "tags": []
          },
          "execution_count": 19
        }
      ]
    },
    {
      "cell_type": "code",
      "metadata": {
        "id": "ZtcfKGCyKH9N"
      },
      "source": [
        "#cerveja[\"temp_avg\"] = cerveja[\"temp_avg\"].replace(np.nan,(cerveja[\"temp_max\"] + cerveja[\"temp_min\"])/2)"
      ],
      "execution_count": 21,
      "outputs": []
    },
    {
      "cell_type": "code",
      "metadata": {
        "colab": {
          "base_uri": "https://localhost:8080/",
          "height": 175
        },
        "id": "zFTcrTCiKH9N",
        "outputId": "9086982d-3f82-4032-b493-d872c265c2bc"
      },
      "source": [
        "cerveja.loc[[168,181,309,314]]"
      ],
      "execution_count": 22,
      "outputs": [
        {
          "output_type": "execute_result",
          "data": {
            "text/html": [
              "<div>\n",
              "<style scoped>\n",
              "    .dataframe tbody tr th:only-of-type {\n",
              "        vertical-align: middle;\n",
              "    }\n",
              "\n",
              "    .dataframe tbody tr th {\n",
              "        vertical-align: top;\n",
              "    }\n",
              "\n",
              "    .dataframe thead th {\n",
              "        text-align: right;\n",
              "    }\n",
              "</style>\n",
              "<table border=\"1\" class=\"dataframe\">\n",
              "  <thead>\n",
              "    <tr style=\"text-align: right;\">\n",
              "      <th></th>\n",
              "      <th>data</th>\n",
              "      <th>temp_avg</th>\n",
              "      <th>temp_min</th>\n",
              "      <th>temp_max</th>\n",
              "      <th>precip</th>\n",
              "      <th>weekend</th>\n",
              "      <th>beer_consumption</th>\n",
              "    </tr>\n",
              "  </thead>\n",
              "  <tbody>\n",
              "    <tr>\n",
              "      <th>168</th>\n",
              "      <td>2015-06-18</td>\n",
              "      <td>NaN</td>\n",
              "      <td>15.8</td>\n",
              "      <td>26.2</td>\n",
              "      <td>0.0</td>\n",
              "      <td>0.0</td>\n",
              "      <td>24534</td>\n",
              "    </tr>\n",
              "    <tr>\n",
              "      <th>181</th>\n",
              "      <td>2015-07-01</td>\n",
              "      <td>NaN</td>\n",
              "      <td>16.2</td>\n",
              "      <td>20.5</td>\n",
              "      <td>0.0</td>\n",
              "      <td>0.0</td>\n",
              "      <td>20824</td>\n",
              "    </tr>\n",
              "    <tr>\n",
              "      <th>309</th>\n",
              "      <td>2015-11-06</td>\n",
              "      <td>NaN</td>\n",
              "      <td>18.0</td>\n",
              "      <td>22.8</td>\n",
              "      <td>0.0</td>\n",
              "      <td>0.0</td>\n",
              "      <td>20575</td>\n",
              "    </tr>\n",
              "    <tr>\n",
              "      <th>314</th>\n",
              "      <td>2015-11-11</td>\n",
              "      <td>NaN</td>\n",
              "      <td>19.8</td>\n",
              "      <td>32.7</td>\n",
              "      <td>0.0</td>\n",
              "      <td>0.0</td>\n",
              "      <td>29569</td>\n",
              "    </tr>\n",
              "  </tbody>\n",
              "</table>\n",
              "</div>"
            ],
            "text/plain": [
              "          data  temp_avg  temp_min  temp_max  precip  weekend  beer_consumption\n",
              "168 2015-06-18       NaN      15.8      26.2     0.0      0.0             24534\n",
              "181 2015-07-01       NaN      16.2      20.5     0.0      0.0             20824\n",
              "309 2015-11-06       NaN      18.0      22.8     0.0      0.0             20575\n",
              "314 2015-11-11       NaN      19.8      32.7     0.0      0.0             29569"
            ]
          },
          "metadata": {
            "tags": []
          },
          "execution_count": 22
        }
      ]
    },
    {
      "cell_type": "code",
      "metadata": {
        "id": "nWNdrZRGKH9O"
      },
      "source": [
        "cerveja[\"temp_min\"] = cerveja[\"temp_min\"].replace(np.nan,cerveja[\"temp_min\"].mean())"
      ],
      "execution_count": 23,
      "outputs": []
    },
    {
      "cell_type": "code",
      "metadata": {
        "colab": {
          "base_uri": "https://localhost:8080/",
          "height": 112
        },
        "id": "1JCRv6SYKH9O",
        "outputId": "d0609913-c614-4dcd-db0b-edb168cb3c28"
      },
      "source": [
        "cerveja.loc[[7,116]]"
      ],
      "execution_count": 24,
      "outputs": [
        {
          "output_type": "execute_result",
          "data": {
            "text/html": [
              "<div>\n",
              "<style scoped>\n",
              "    .dataframe tbody tr th:only-of-type {\n",
              "        vertical-align: middle;\n",
              "    }\n",
              "\n",
              "    .dataframe tbody tr th {\n",
              "        vertical-align: top;\n",
              "    }\n",
              "\n",
              "    .dataframe thead th {\n",
              "        text-align: right;\n",
              "    }\n",
              "</style>\n",
              "<table border=\"1\" class=\"dataframe\">\n",
              "  <thead>\n",
              "    <tr style=\"text-align: right;\">\n",
              "      <th></th>\n",
              "      <th>data</th>\n",
              "      <th>temp_avg</th>\n",
              "      <th>temp_min</th>\n",
              "      <th>temp_max</th>\n",
              "      <th>precip</th>\n",
              "      <th>weekend</th>\n",
              "      <th>beer_consumption</th>\n",
              "    </tr>\n",
              "  </thead>\n",
              "  <tbody>\n",
              "    <tr>\n",
              "      <th>7</th>\n",
              "      <td>2015-01-08</td>\n",
              "      <td>24.90</td>\n",
              "      <td>17.39697</td>\n",
              "      <td>32.8</td>\n",
              "      <td>48.6</td>\n",
              "      <td>0.0</td>\n",
              "      <td>28397</td>\n",
              "    </tr>\n",
              "    <tr>\n",
              "      <th>116</th>\n",
              "      <td>2015-04-27</td>\n",
              "      <td>19.82</td>\n",
              "      <td>17.39697</td>\n",
              "      <td>24.9</td>\n",
              "      <td>0.0</td>\n",
              "      <td>0.0</td>\n",
              "      <td>21838</td>\n",
              "    </tr>\n",
              "  </tbody>\n",
              "</table>\n",
              "</div>"
            ],
            "text/plain": [
              "          data  temp_avg  temp_min  temp_max  precip  weekend  beer_consumption\n",
              "7   2015-01-08     24.90  17.39697      32.8    48.6      0.0             28397\n",
              "116 2015-04-27     19.82  17.39697      24.9     0.0      0.0             21838"
            ]
          },
          "metadata": {
            "tags": []
          },
          "execution_count": 24
        }
      ]
    },
    {
      "cell_type": "code",
      "metadata": {
        "id": "g7xmj4EGKH9O"
      },
      "source": [
        "cerveja[\"temp_max\"] = cerveja[\"temp_max\"].replace(np.nan,cerveja[\"temp_max\"].mean())"
      ],
      "execution_count": 25,
      "outputs": []
    },
    {
      "cell_type": "code",
      "metadata": {
        "colab": {
          "base_uri": "https://localhost:8080/",
          "height": 143
        },
        "id": "7-q9aV3_KH9O",
        "outputId": "b3c54190-65fc-4398-d6b9-e89656f19c85"
      },
      "source": [
        "cerveja.loc[[98, 165, 237]]"
      ],
      "execution_count": 26,
      "outputs": [
        {
          "output_type": "execute_result",
          "data": {
            "text/html": [
              "<div>\n",
              "<style scoped>\n",
              "    .dataframe tbody tr th:only-of-type {\n",
              "        vertical-align: middle;\n",
              "    }\n",
              "\n",
              "    .dataframe tbody tr th {\n",
              "        vertical-align: top;\n",
              "    }\n",
              "\n",
              "    .dataframe thead th {\n",
              "        text-align: right;\n",
              "    }\n",
              "</style>\n",
              "<table border=\"1\" class=\"dataframe\">\n",
              "  <thead>\n",
              "    <tr style=\"text-align: right;\">\n",
              "      <th></th>\n",
              "      <th>data</th>\n",
              "      <th>temp_avg</th>\n",
              "      <th>temp_min</th>\n",
              "      <th>temp_max</th>\n",
              "      <th>precip</th>\n",
              "      <th>weekend</th>\n",
              "      <th>beer_consumption</th>\n",
              "    </tr>\n",
              "  </thead>\n",
              "  <tbody>\n",
              "    <tr>\n",
              "      <th>98</th>\n",
              "      <td>2015-04-09</td>\n",
              "      <td>19.40</td>\n",
              "      <td>15.9</td>\n",
              "      <td>26.480663</td>\n",
              "      <td>0.0</td>\n",
              "      <td>0.0</td>\n",
              "      <td>20298</td>\n",
              "    </tr>\n",
              "    <tr>\n",
              "      <th>165</th>\n",
              "      <td>2015-06-15</td>\n",
              "      <td>16.02</td>\n",
              "      <td>13.1</td>\n",
              "      <td>26.480663</td>\n",
              "      <td>0.0</td>\n",
              "      <td>0.0</td>\n",
              "      <td>19119</td>\n",
              "    </tr>\n",
              "    <tr>\n",
              "      <th>237</th>\n",
              "      <td>2015-08-26</td>\n",
              "      <td>18.92</td>\n",
              "      <td>14.8</td>\n",
              "      <td>26.480663</td>\n",
              "      <td>0.6</td>\n",
              "      <td>0.0</td>\n",
              "      <td>23357</td>\n",
              "    </tr>\n",
              "  </tbody>\n",
              "</table>\n",
              "</div>"
            ],
            "text/plain": [
              "          data  temp_avg  temp_min  ...  precip  weekend  beer_consumption\n",
              "98  2015-04-09     19.40      15.9  ...     0.0      0.0             20298\n",
              "165 2015-06-15     16.02      13.1  ...     0.0      0.0             19119\n",
              "237 2015-08-26     18.92      14.8  ...     0.6      0.0             23357\n",
              "\n",
              "[3 rows x 7 columns]"
            ]
          },
          "metadata": {
            "tags": []
          },
          "execution_count": 26
        }
      ]
    },
    {
      "cell_type": "code",
      "metadata": {
        "id": "28cxLawoKH9O"
      },
      "source": [
        "cerveja[\"weekend\"] = cerveja[\"weekend\"].replace(np.nan,cerveja[\"weekend\"].mode()[0])"
      ],
      "execution_count": 27,
      "outputs": []
    },
    {
      "cell_type": "code",
      "metadata": {
        "colab": {
          "base_uri": "https://localhost:8080/",
          "height": 112
        },
        "id": "BkXjTvXMKH9P",
        "outputId": "761d8785-d871-425e-a9b1-ba20e5d51aec"
      },
      "source": [
        "cerveja.loc[[21,27]]"
      ],
      "execution_count": 28,
      "outputs": [
        {
          "output_type": "execute_result",
          "data": {
            "text/html": [
              "<div>\n",
              "<style scoped>\n",
              "    .dataframe tbody tr th:only-of-type {\n",
              "        vertical-align: middle;\n",
              "    }\n",
              "\n",
              "    .dataframe tbody tr th {\n",
              "        vertical-align: top;\n",
              "    }\n",
              "\n",
              "    .dataframe thead th {\n",
              "        text-align: right;\n",
              "    }\n",
              "</style>\n",
              "<table border=\"1\" class=\"dataframe\">\n",
              "  <thead>\n",
              "    <tr style=\"text-align: right;\">\n",
              "      <th></th>\n",
              "      <th>data</th>\n",
              "      <th>temp_avg</th>\n",
              "      <th>temp_min</th>\n",
              "      <th>temp_max</th>\n",
              "      <th>precip</th>\n",
              "      <th>weekend</th>\n",
              "      <th>beer_consumption</th>\n",
              "    </tr>\n",
              "  </thead>\n",
              "  <tbody>\n",
              "    <tr>\n",
              "      <th>21</th>\n",
              "      <td>2015-01-22</td>\n",
              "      <td>21.74</td>\n",
              "      <td>19.2</td>\n",
              "      <td>0.0</td>\n",
              "      <td>31.0</td>\n",
              "      <td>0.0</td>\n",
              "      <td>25795</td>\n",
              "    </tr>\n",
              "    <tr>\n",
              "      <th>27</th>\n",
              "      <td>2015-01-28</td>\n",
              "      <td>25.68</td>\n",
              "      <td>20.1</td>\n",
              "      <td>29.9</td>\n",
              "      <td>4.9</td>\n",
              "      <td>0.0</td>\n",
              "      <td>22603</td>\n",
              "    </tr>\n",
              "  </tbody>\n",
              "</table>\n",
              "</div>"
            ],
            "text/plain": [
              "         data  temp_avg  temp_min  temp_max  precip  weekend  beer_consumption\n",
              "21 2015-01-22     21.74      19.2       0.0    31.0      0.0             25795\n",
              "27 2015-01-28     25.68      20.1      29.9     4.9      0.0             22603"
            ]
          },
          "metadata": {
            "tags": []
          },
          "execution_count": 28
        }
      ]
    },
    {
      "cell_type": "code",
      "metadata": {
        "colab": {
          "base_uri": "https://localhost:8080/"
        },
        "id": "Yg9PRnv4KH9P",
        "outputId": "0981c6d2-8be0-42c2-e9f9-554355c23e12"
      },
      "source": [
        "cerveja[\"weekend\"].mode()[0]"
      ],
      "execution_count": 29,
      "outputs": [
        {
          "output_type": "execute_result",
          "data": {
            "text/plain": [
              "0.0"
            ]
          },
          "metadata": {
            "tags": []
          },
          "execution_count": 29
        }
      ]
    },
    {
      "cell_type": "code",
      "metadata": {
        "colab": {
          "base_uri": "https://localhost:8080/"
        },
        "id": "c4J71KNTKH9Q",
        "outputId": "4dfe5be6-e8c8-4f3b-af59-846d3e6300c6"
      },
      "source": [
        "cerveja.isnull().any()"
      ],
      "execution_count": 30,
      "outputs": [
        {
          "output_type": "execute_result",
          "data": {
            "text/plain": [
              "data                False\n",
              "temp_avg             True\n",
              "temp_min            False\n",
              "temp_max            False\n",
              "precip              False\n",
              "weekend             False\n",
              "beer_consumption    False\n",
              "dtype: bool"
            ]
          },
          "metadata": {
            "tags": []
          },
          "execution_count": 30
        }
      ]
    },
    {
      "cell_type": "markdown",
      "metadata": {
        "id": "8zk5eDLfKH9Q"
      },
      "source": [
        "Verifcar ocorrência de números iguais a 0, que seria inválido"
      ]
    },
    {
      "cell_type": "code",
      "metadata": {
        "colab": {
          "base_uri": "https://localhost:8080/"
        },
        "id": "cyE6NE7jKH9Q",
        "outputId": "5cd77947-395e-4b38-c5a7-eece6a7dd701"
      },
      "source": [
        "(cerveja == 0).any()"
      ],
      "execution_count": 31,
      "outputs": [
        {
          "output_type": "execute_result",
          "data": {
            "text/plain": [
              "data                False\n",
              "temp_avg             True\n",
              "temp_min             True\n",
              "temp_max             True\n",
              "precip               True\n",
              "weekend              True\n",
              "beer_consumption    False\n",
              "dtype: bool"
            ]
          },
          "metadata": {
            "tags": []
          },
          "execution_count": 31
        }
      ]
    },
    {
      "cell_type": "code",
      "metadata": {
        "colab": {
          "base_uri": "https://localhost:8080/",
          "height": 112
        },
        "id": "pj1qPz6lKH9Q",
        "outputId": "a4701ae6-4952-4dd2-ec0a-31181f2f0c7c"
      },
      "source": [
        "cerveja[cerveja[\"temp_avg\"] == 0]"
      ],
      "execution_count": 32,
      "outputs": [
        {
          "output_type": "execute_result",
          "data": {
            "text/html": [
              "<div>\n",
              "<style scoped>\n",
              "    .dataframe tbody tr th:only-of-type {\n",
              "        vertical-align: middle;\n",
              "    }\n",
              "\n",
              "    .dataframe tbody tr th {\n",
              "        vertical-align: top;\n",
              "    }\n",
              "\n",
              "    .dataframe thead th {\n",
              "        text-align: right;\n",
              "    }\n",
              "</style>\n",
              "<table border=\"1\" class=\"dataframe\">\n",
              "  <thead>\n",
              "    <tr style=\"text-align: right;\">\n",
              "      <th></th>\n",
              "      <th>data</th>\n",
              "      <th>temp_avg</th>\n",
              "      <th>temp_min</th>\n",
              "      <th>temp_max</th>\n",
              "      <th>precip</th>\n",
              "      <th>weekend</th>\n",
              "      <th>beer_consumption</th>\n",
              "    </tr>\n",
              "  </thead>\n",
              "  <tbody>\n",
              "    <tr>\n",
              "      <th>323</th>\n",
              "      <td>2015-11-20</td>\n",
              "      <td>0.0</td>\n",
              "      <td>19.6</td>\n",
              "      <td>27.0</td>\n",
              "      <td>6.8</td>\n",
              "      <td>0.0</td>\n",
              "      <td>20332</td>\n",
              "    </tr>\n",
              "    <tr>\n",
              "      <th>339</th>\n",
              "      <td>2015-12-06</td>\n",
              "      <td>0.0</td>\n",
              "      <td>20.6</td>\n",
              "      <td>28.0</td>\n",
              "      <td>0.1</td>\n",
              "      <td>1.0</td>\n",
              "      <td>32780</td>\n",
              "    </tr>\n",
              "  </tbody>\n",
              "</table>\n",
              "</div>"
            ],
            "text/plain": [
              "          data  temp_avg  temp_min  temp_max  precip  weekend  beer_consumption\n",
              "323 2015-11-20       0.0      19.6      27.0     6.8      0.0             20332\n",
              "339 2015-12-06       0.0      20.6      28.0     0.1      1.0             32780"
            ]
          },
          "metadata": {
            "tags": []
          },
          "execution_count": 32
        }
      ]
    },
    {
      "cell_type": "code",
      "metadata": {
        "colab": {
          "base_uri": "https://localhost:8080/",
          "height": 81
        },
        "id": "31g6fI62KH9Q",
        "outputId": "497fa7fd-756e-42e3-ee94-ba52d6f7c141"
      },
      "source": [
        "cerveja[cerveja[\"temp_min\"] == 0]"
      ],
      "execution_count": 33,
      "outputs": [
        {
          "output_type": "execute_result",
          "data": {
            "text/html": [
              "<div>\n",
              "<style scoped>\n",
              "    .dataframe tbody tr th:only-of-type {\n",
              "        vertical-align: middle;\n",
              "    }\n",
              "\n",
              "    .dataframe tbody tr th {\n",
              "        vertical-align: top;\n",
              "    }\n",
              "\n",
              "    .dataframe thead th {\n",
              "        text-align: right;\n",
              "    }\n",
              "</style>\n",
              "<table border=\"1\" class=\"dataframe\">\n",
              "  <thead>\n",
              "    <tr style=\"text-align: right;\">\n",
              "      <th></th>\n",
              "      <th>data</th>\n",
              "      <th>temp_avg</th>\n",
              "      <th>temp_min</th>\n",
              "      <th>temp_max</th>\n",
              "      <th>precip</th>\n",
              "      <th>weekend</th>\n",
              "      <th>beer_consumption</th>\n",
              "    </tr>\n",
              "  </thead>\n",
              "  <tbody>\n",
              "    <tr>\n",
              "      <th>13</th>\n",
              "      <td>2015-01-14</td>\n",
              "      <td>25.96</td>\n",
              "      <td>0.0</td>\n",
              "      <td>34.0</td>\n",
              "      <td>1.6</td>\n",
              "      <td>0.0</td>\n",
              "      <td>31825</td>\n",
              "    </tr>\n",
              "  </tbody>\n",
              "</table>\n",
              "</div>"
            ],
            "text/plain": [
              "         data  temp_avg  temp_min  temp_max  precip  weekend  beer_consumption\n",
              "13 2015-01-14     25.96       0.0      34.0     1.6      0.0             31825"
            ]
          },
          "metadata": {
            "tags": []
          },
          "execution_count": 33
        }
      ]
    },
    {
      "cell_type": "code",
      "metadata": {
        "colab": {
          "base_uri": "https://localhost:8080/",
          "height": 112
        },
        "id": "VgMRXPm1KH9Q",
        "outputId": "e6770532-2a7f-416d-d378-9418bb358b42"
      },
      "source": [
        "cerveja[cerveja[\"temp_max\"] == 0]"
      ],
      "execution_count": 34,
      "outputs": [
        {
          "output_type": "execute_result",
          "data": {
            "text/html": [
              "<div>\n",
              "<style scoped>\n",
              "    .dataframe tbody tr th:only-of-type {\n",
              "        vertical-align: middle;\n",
              "    }\n",
              "\n",
              "    .dataframe tbody tr th {\n",
              "        vertical-align: top;\n",
              "    }\n",
              "\n",
              "    .dataframe thead th {\n",
              "        text-align: right;\n",
              "    }\n",
              "</style>\n",
              "<table border=\"1\" class=\"dataframe\">\n",
              "  <thead>\n",
              "    <tr style=\"text-align: right;\">\n",
              "      <th></th>\n",
              "      <th>data</th>\n",
              "      <th>temp_avg</th>\n",
              "      <th>temp_min</th>\n",
              "      <th>temp_max</th>\n",
              "      <th>precip</th>\n",
              "      <th>weekend</th>\n",
              "      <th>beer_consumption</th>\n",
              "    </tr>\n",
              "  </thead>\n",
              "  <tbody>\n",
              "    <tr>\n",
              "      <th>21</th>\n",
              "      <td>2015-01-22</td>\n",
              "      <td>21.74</td>\n",
              "      <td>19.2</td>\n",
              "      <td>0.0</td>\n",
              "      <td>31.0</td>\n",
              "      <td>0.0</td>\n",
              "      <td>25795</td>\n",
              "    </tr>\n",
              "    <tr>\n",
              "      <th>113</th>\n",
              "      <td>2015-04-24</td>\n",
              "      <td>22.52</td>\n",
              "      <td>19.3</td>\n",
              "      <td>0.0</td>\n",
              "      <td>0.0</td>\n",
              "      <td>0.0</td>\n",
              "      <td>24388</td>\n",
              "    </tr>\n",
              "  </tbody>\n",
              "</table>\n",
              "</div>"
            ],
            "text/plain": [
              "          data  temp_avg  temp_min  temp_max  precip  weekend  beer_consumption\n",
              "21  2015-01-22     21.74      19.2       0.0    31.0      0.0             25795\n",
              "113 2015-04-24     22.52      19.3       0.0     0.0      0.0             24388"
            ]
          },
          "metadata": {
            "tags": []
          },
          "execution_count": 34
        }
      ]
    },
    {
      "cell_type": "code",
      "metadata": {
        "colab": {
          "base_uri": "https://localhost:8080/",
          "height": 363
        },
        "id": "Zbsmq0M3KH9S",
        "outputId": "968cd924-c5c8-4417-8c18-1d719c02ab04"
      },
      "source": [
        "cerveja[cerveja[\"precip\"] == 0].head(10)"
      ],
      "execution_count": 35,
      "outputs": [
        {
          "output_type": "execute_result",
          "data": {
            "text/html": [
              "<div>\n",
              "<style scoped>\n",
              "    .dataframe tbody tr th:only-of-type {\n",
              "        vertical-align: middle;\n",
              "    }\n",
              "\n",
              "    .dataframe tbody tr th {\n",
              "        vertical-align: top;\n",
              "    }\n",
              "\n",
              "    .dataframe thead th {\n",
              "        text-align: right;\n",
              "    }\n",
              "</style>\n",
              "<table border=\"1\" class=\"dataframe\">\n",
              "  <thead>\n",
              "    <tr style=\"text-align: right;\">\n",
              "      <th></th>\n",
              "      <th>data</th>\n",
              "      <th>temp_avg</th>\n",
              "      <th>temp_min</th>\n",
              "      <th>temp_max</th>\n",
              "      <th>precip</th>\n",
              "      <th>weekend</th>\n",
              "      <th>beer_consumption</th>\n",
              "    </tr>\n",
              "  </thead>\n",
              "  <tbody>\n",
              "    <tr>\n",
              "      <th>0</th>\n",
              "      <td>2015-01-01</td>\n",
              "      <td>27.30</td>\n",
              "      <td>23.9</td>\n",
              "      <td>32.5</td>\n",
              "      <td>0.0</td>\n",
              "      <td>0.0</td>\n",
              "      <td>25461</td>\n",
              "    </tr>\n",
              "    <tr>\n",
              "      <th>1</th>\n",
              "      <td>2015-01-02</td>\n",
              "      <td>27.02</td>\n",
              "      <td>24.5</td>\n",
              "      <td>33.5</td>\n",
              "      <td>0.0</td>\n",
              "      <td>0.0</td>\n",
              "      <td>28972</td>\n",
              "    </tr>\n",
              "    <tr>\n",
              "      <th>2</th>\n",
              "      <td>2015-01-03</td>\n",
              "      <td>24.82</td>\n",
              "      <td>22.4</td>\n",
              "      <td>29.9</td>\n",
              "      <td>0.0</td>\n",
              "      <td>1.0</td>\n",
              "      <td>30814</td>\n",
              "    </tr>\n",
              "    <tr>\n",
              "      <th>4</th>\n",
              "      <td>2015-01-05</td>\n",
              "      <td>23.82</td>\n",
              "      <td>21.0</td>\n",
              "      <td>28.3</td>\n",
              "      <td>0.0</td>\n",
              "      <td>0.0</td>\n",
              "      <td>28900</td>\n",
              "    </tr>\n",
              "    <tr>\n",
              "      <th>6</th>\n",
              "      <td>2015-01-07</td>\n",
              "      <td>24.00</td>\n",
              "      <td>19.5</td>\n",
              "      <td>33.7</td>\n",
              "      <td>0.0</td>\n",
              "      <td>0.0</td>\n",
              "      <td>29732</td>\n",
              "    </tr>\n",
              "    <tr>\n",
              "      <th>9</th>\n",
              "      <td>2015-01-10</td>\n",
              "      <td>26.76</td>\n",
              "      <td>22.1</td>\n",
              "      <td>34.2</td>\n",
              "      <td>0.0</td>\n",
              "      <td>1.0</td>\n",
              "      <td>37937</td>\n",
              "    </tr>\n",
              "    <tr>\n",
              "      <th>11</th>\n",
              "      <td>2015-01-12</td>\n",
              "      <td>25.96</td>\n",
              "      <td>21.4</td>\n",
              "      <td>35.4</td>\n",
              "      <td>0.0</td>\n",
              "      <td>0.0</td>\n",
              "      <td>25743</td>\n",
              "    </tr>\n",
              "    <tr>\n",
              "      <th>16</th>\n",
              "      <td>2015-01-17</td>\n",
              "      <td>28.86</td>\n",
              "      <td>22.0</td>\n",
              "      <td>35.8</td>\n",
              "      <td>0.0</td>\n",
              "      <td>1.0</td>\n",
              "      <td>37690</td>\n",
              "    </tr>\n",
              "    <tr>\n",
              "      <th>17</th>\n",
              "      <td>2015-01-18</td>\n",
              "      <td>28.26</td>\n",
              "      <td>23.4</td>\n",
              "      <td>35.6</td>\n",
              "      <td>0.0</td>\n",
              "      <td>1.0</td>\n",
              "      <td>30524</td>\n",
              "    </tr>\n",
              "    <tr>\n",
              "      <th>20</th>\n",
              "      <td>2015-01-21</td>\n",
              "      <td>25.32</td>\n",
              "      <td>22.7</td>\n",
              "      <td>30.9</td>\n",
              "      <td>0.0</td>\n",
              "      <td>0.0</td>\n",
              "      <td>29130</td>\n",
              "    </tr>\n",
              "  </tbody>\n",
              "</table>\n",
              "</div>"
            ],
            "text/plain": [
              "         data  temp_avg  temp_min  temp_max  precip  weekend  beer_consumption\n",
              "0  2015-01-01     27.30      23.9      32.5     0.0      0.0             25461\n",
              "1  2015-01-02     27.02      24.5      33.5     0.0      0.0             28972\n",
              "2  2015-01-03     24.82      22.4      29.9     0.0      1.0             30814\n",
              "4  2015-01-05     23.82      21.0      28.3     0.0      0.0             28900\n",
              "6  2015-01-07     24.00      19.5      33.7     0.0      0.0             29732\n",
              "9  2015-01-10     26.76      22.1      34.2     0.0      1.0             37937\n",
              "11 2015-01-12     25.96      21.4      35.4     0.0      0.0             25743\n",
              "16 2015-01-17     28.86      22.0      35.8     0.0      1.0             37690\n",
              "17 2015-01-18     28.26      23.4      35.6     0.0      1.0             30524\n",
              "20 2015-01-21     25.32      22.7      30.9     0.0      0.0             29130"
            ]
          },
          "metadata": {
            "tags": []
          },
          "execution_count": 35
        }
      ]
    },
    {
      "cell_type": "code",
      "metadata": {
        "colab": {
          "base_uri": "https://localhost:8080/",
          "height": 363
        },
        "id": "6fokPgEPKH9S",
        "outputId": "ad96a0e2-6950-40ee-bf04-81731a109a35"
      },
      "source": [
        "cerveja[cerveja[\"weekend\"] == 0].head(10)"
      ],
      "execution_count": 36,
      "outputs": [
        {
          "output_type": "execute_result",
          "data": {
            "text/html": [
              "<div>\n",
              "<style scoped>\n",
              "    .dataframe tbody tr th:only-of-type {\n",
              "        vertical-align: middle;\n",
              "    }\n",
              "\n",
              "    .dataframe tbody tr th {\n",
              "        vertical-align: top;\n",
              "    }\n",
              "\n",
              "    .dataframe thead th {\n",
              "        text-align: right;\n",
              "    }\n",
              "</style>\n",
              "<table border=\"1\" class=\"dataframe\">\n",
              "  <thead>\n",
              "    <tr style=\"text-align: right;\">\n",
              "      <th></th>\n",
              "      <th>data</th>\n",
              "      <th>temp_avg</th>\n",
              "      <th>temp_min</th>\n",
              "      <th>temp_max</th>\n",
              "      <th>precip</th>\n",
              "      <th>weekend</th>\n",
              "      <th>beer_consumption</th>\n",
              "    </tr>\n",
              "  </thead>\n",
              "  <tbody>\n",
              "    <tr>\n",
              "      <th>0</th>\n",
              "      <td>2015-01-01</td>\n",
              "      <td>27.30</td>\n",
              "      <td>23.90000</td>\n",
              "      <td>32.5</td>\n",
              "      <td>0.0</td>\n",
              "      <td>0.0</td>\n",
              "      <td>25461</td>\n",
              "    </tr>\n",
              "    <tr>\n",
              "      <th>1</th>\n",
              "      <td>2015-01-02</td>\n",
              "      <td>27.02</td>\n",
              "      <td>24.50000</td>\n",
              "      <td>33.5</td>\n",
              "      <td>0.0</td>\n",
              "      <td>0.0</td>\n",
              "      <td>28972</td>\n",
              "    </tr>\n",
              "    <tr>\n",
              "      <th>4</th>\n",
              "      <td>2015-01-05</td>\n",
              "      <td>23.82</td>\n",
              "      <td>21.00000</td>\n",
              "      <td>28.3</td>\n",
              "      <td>0.0</td>\n",
              "      <td>0.0</td>\n",
              "      <td>28900</td>\n",
              "    </tr>\n",
              "    <tr>\n",
              "      <th>5</th>\n",
              "      <td>2015-01-06</td>\n",
              "      <td>23.78</td>\n",
              "      <td>20.10000</td>\n",
              "      <td>30.5</td>\n",
              "      <td>12.2</td>\n",
              "      <td>0.0</td>\n",
              "      <td>28218</td>\n",
              "    </tr>\n",
              "    <tr>\n",
              "      <th>6</th>\n",
              "      <td>2015-01-07</td>\n",
              "      <td>24.00</td>\n",
              "      <td>19.50000</td>\n",
              "      <td>33.7</td>\n",
              "      <td>0.0</td>\n",
              "      <td>0.0</td>\n",
              "      <td>29732</td>\n",
              "    </tr>\n",
              "    <tr>\n",
              "      <th>7</th>\n",
              "      <td>2015-01-08</td>\n",
              "      <td>24.90</td>\n",
              "      <td>17.39697</td>\n",
              "      <td>32.8</td>\n",
              "      <td>48.6</td>\n",
              "      <td>0.0</td>\n",
              "      <td>28397</td>\n",
              "    </tr>\n",
              "    <tr>\n",
              "      <th>8</th>\n",
              "      <td>2015-01-09</td>\n",
              "      <td>28.20</td>\n",
              "      <td>21.90000</td>\n",
              "      <td>34.0</td>\n",
              "      <td>4.4</td>\n",
              "      <td>0.0</td>\n",
              "      <td>24886</td>\n",
              "    </tr>\n",
              "    <tr>\n",
              "      <th>11</th>\n",
              "      <td>2015-01-12</td>\n",
              "      <td>25.96</td>\n",
              "      <td>21.40000</td>\n",
              "      <td>35.4</td>\n",
              "      <td>0.0</td>\n",
              "      <td>0.0</td>\n",
              "      <td>25743</td>\n",
              "    </tr>\n",
              "    <tr>\n",
              "      <th>12</th>\n",
              "      <td>2015-01-13</td>\n",
              "      <td>25.52</td>\n",
              "      <td>21.20000</td>\n",
              "      <td>34.8</td>\n",
              "      <td>0.8</td>\n",
              "      <td>0.0</td>\n",
              "      <td>26990</td>\n",
              "    </tr>\n",
              "    <tr>\n",
              "      <th>13</th>\n",
              "      <td>2015-01-14</td>\n",
              "      <td>25.96</td>\n",
              "      <td>0.00000</td>\n",
              "      <td>34.0</td>\n",
              "      <td>1.6</td>\n",
              "      <td>0.0</td>\n",
              "      <td>31825</td>\n",
              "    </tr>\n",
              "  </tbody>\n",
              "</table>\n",
              "</div>"
            ],
            "text/plain": [
              "         data  temp_avg  temp_min  temp_max  precip  weekend  beer_consumption\n",
              "0  2015-01-01     27.30  23.90000      32.5     0.0      0.0             25461\n",
              "1  2015-01-02     27.02  24.50000      33.5     0.0      0.0             28972\n",
              "4  2015-01-05     23.82  21.00000      28.3     0.0      0.0             28900\n",
              "5  2015-01-06     23.78  20.10000      30.5    12.2      0.0             28218\n",
              "6  2015-01-07     24.00  19.50000      33.7     0.0      0.0             29732\n",
              "7  2015-01-08     24.90  17.39697      32.8    48.6      0.0             28397\n",
              "8  2015-01-09     28.20  21.90000      34.0     4.4      0.0             24886\n",
              "11 2015-01-12     25.96  21.40000      35.4     0.0      0.0             25743\n",
              "12 2015-01-13     25.52  21.20000      34.8     0.8      0.0             26990\n",
              "13 2015-01-14     25.96   0.00000      34.0     1.6      0.0             31825"
            ]
          },
          "metadata": {
            "tags": []
          },
          "execution_count": 36
        }
      ]
    },
    {
      "cell_type": "markdown",
      "metadata": {
        "id": "xrw9m7XJKH9S"
      },
      "source": [
        "Precipitação e Weekend podem ser igual a 0."
      ]
    },
    {
      "cell_type": "markdown",
      "metadata": {
        "id": "_fq_tyC7KH9U"
      },
      "source": [
        "Utilizar mesma estratégia anterior para os demais atributos."
      ]
    },
    {
      "cell_type": "code",
      "metadata": {
        "id": "vXTC7axpKH9U"
      },
      "source": [
        "#cerveja[\"temp_avg\"] = cerveja[\"temp_avg\"].replace(0,(cerveja[\"temp_max\"] + cerveja[\"temp_min\"])/2)\n",
        "cerveja[\"temp_min\"] = cerveja[\"temp_min\"].replace(0,cerveja[\"temp_min\"].mean())\n",
        "cerveja[\"temp_max\"] = cerveja[\"temp_max\"].replace(0,cerveja[\"temp_max\"].mean())"
      ],
      "execution_count": 48,
      "outputs": []
    },
    {
      "cell_type": "code",
      "metadata": {
        "colab": {
          "base_uri": "https://localhost:8080/"
        },
        "id": "atUqN931KH9U",
        "outputId": "542d66a7-7145-419c-ba8a-4865fe3cd958"
      },
      "source": [
        "(cerveja == 0).any()"
      ],
      "execution_count": 46,
      "outputs": [
        {
          "output_type": "execute_result",
          "data": {
            "text/plain": [
              "data                False\n",
              "temp_avg             True\n",
              "temp_min            False\n",
              "temp_max            False\n",
              "precip               True\n",
              "weekend              True\n",
              "beer_consumption    False\n",
              "dtype: bool"
            ]
          },
          "metadata": {
            "tags": []
          },
          "execution_count": 46
        }
      ]
    },
    {
      "cell_type": "code",
      "metadata": {
        "id": "UtjYBKm9LJ-Y"
      },
      "source": [
        ""
      ],
      "execution_count": null,
      "outputs": []
    },
    {
      "cell_type": "markdown",
      "metadata": {
        "id": "VuNEdLsBKH9U"
      },
      "source": [
        "### Seperando dados de treinamento e teste"
      ]
    },
    {
      "cell_type": "code",
      "metadata": {
        "id": "WAdZEWfELVCK"
      },
      "source": [
        ""
      ],
      "execution_count": null,
      "outputs": []
    },
    {
      "cell_type": "code",
      "metadata": {
        "id": "H6hs3H1HKH9U"
      },
      "source": [
        "from sklearn.model_selection import train_test_split\n",
        "\n",
        "variaveis = ['temp_max', 'precip', 'weekend']\n",
        "alvo = ['beer_consumption']\n",
        "\n",
        "X = cerveja[variaveis].values\n",
        "y = cerveja[alvo].values\n",
        "split_test_size = 0.30\n",
        "\n",
        "X_train, X_test, y_train, y_test = train_test_split(X, y, test_size=split_test_size, random_state=42)"
      ],
      "execution_count": 39,
      "outputs": []
    },
    {
      "cell_type": "code",
      "metadata": {
        "colab": {
          "base_uri": "https://localhost:8080/"
        },
        "id": "YRLDVUWVKH9U",
        "outputId": "911d9df7-b5a7-4843-a757-06528647e03b"
      },
      "source": [
        "print(\"{0:0.2f}% in training set\".format((len(X_train)/len(cerveja.index)) * 100))\n",
        "print(\"{0:0.2f}% in test set\".format((len(X_test)/len(cerveja.index)) * 100))"
      ],
      "execution_count": 40,
      "outputs": [
        {
          "output_type": "stream",
          "text": [
            "69.86% in training set\n",
            "30.14% in test set\n"
          ],
          "name": "stdout"
        }
      ]
    },
    {
      "cell_type": "code",
      "metadata": {
        "colab": {
          "base_uri": "https://localhost:8080/"
        },
        "id": "9hY_pm37KH9V",
        "outputId": "28dc705d-e718-49e2-b669-6494ac50b5e0"
      },
      "source": [
        "from sklearn import linear_model\n",
        "\n",
        "lr_model = linear_model.LinearRegression()\n",
        "lr_model.fit(X_train, y_train.ravel())"
      ],
      "execution_count": 41,
      "outputs": [
        {
          "output_type": "execute_result",
          "data": {
            "text/plain": [
              "LinearRegression(copy_X=True, fit_intercept=True, n_jobs=None, normalize=False)"
            ]
          },
          "metadata": {
            "tags": []
          },
          "execution_count": 41
        }
      ]
    },
    {
      "cell_type": "markdown",
      "metadata": {
        "id": "IMr4SiB_KH9V"
      },
      "source": [
        "Testando valores par verificar a performance"
      ]
    },
    {
      "cell_type": "code",
      "metadata": {
        "colab": {
          "base_uri": "https://localhost:8080/"
        },
        "id": "U1a8jUTxKH9f",
        "outputId": "670bf2f0-4a36-4214-9e01-4a951b07936a"
      },
      "source": [
        "from sklearn.metrics import mean_squared_error, r2_score\n",
        "\n",
        "y_pred = lr_model.predict(X_test)\n",
        "\n",
        "print('R2 score: %.2f' % r2_score(y_test, y_pred))\n",
        "print('R2 score: %.2f' % lr_model.score(X_test, y_test))"
      ],
      "execution_count": 42,
      "outputs": [
        {
          "output_type": "stream",
          "text": [
            "R2 score: 0.63\n",
            "R2 score: 0.63\n"
          ],
          "name": "stdout"
        }
      ]
    },
    {
      "cell_type": "markdown",
      "metadata": {
        "id": "P6fzh0cUKH9f"
      },
      "source": [
        "R2 score está na faixa esperada de >= 70%"
      ]
    },
    {
      "cell_type": "markdown",
      "metadata": {
        "id": "T2rHJI1VKH9f"
      },
      "source": [
        "Simulação de um caso onde se espera maior consumo, clima quente, 35 graus C, sem chuva e no final de semana."
      ]
    },
    {
      "cell_type": "code",
      "metadata": {
        "colab": {
          "base_uri": "https://localhost:8080/"
        },
        "id": "jFuj9x84KH9f",
        "outputId": "527e40c3-363d-4935-ab4b-c8e427b645bb"
      },
      "source": [
        "predict_value = [[35, 0, 1]]\n",
        "lr_model.predict(predict_value)"
      ],
      "execution_count": 43,
      "outputs": [
        {
          "output_type": "execute_result",
          "data": {
            "text/plain": [
              "array([34085.35380083])"
            ]
          },
          "metadata": {
            "tags": []
          },
          "execution_count": 43
        }
      ]
    },
    {
      "cell_type": "markdown",
      "metadata": {
        "id": "LMFYP4AmKH9f"
      },
      "source": [
        "Simulação de um caso onde se espera um consumo menor que o de cima, clima quente, 35 graus C, sem chuva mas em dia de semana."
      ]
    },
    {
      "cell_type": "code",
      "metadata": {
        "colab": {
          "base_uri": "https://localhost:8080/"
        },
        "id": "ZUILTMRwKH9f",
        "outputId": "83ed1e38-1e35-4b59-de2a-4d86514cf8c9"
      },
      "source": [
        "predict_value = [[35, 0, 0]]\n",
        "lr_model.predict(predict_value)"
      ],
      "execution_count": 44,
      "outputs": [
        {
          "output_type": "execute_result",
          "data": {
            "text/plain": [
              "array([28950.73732712])"
            ]
          },
          "metadata": {
            "tags": []
          },
          "execution_count": 44
        }
      ]
    },
    {
      "cell_type": "markdown",
      "metadata": {
        "id": "o1iEgstlKH9g"
      },
      "source": [
        "Simulação de um caso onde se espera um consumo menor que o de cima, clima quente, 35 graus C, com chuva e em dia de semana."
      ]
    },
    {
      "cell_type": "code",
      "metadata": {
        "id": "ZcJyMbdVKH9g",
        "outputId": "a77e1ed4-e322-4abe-8c8e-be7ecf205f01"
      },
      "source": [
        "predict_value = [[35, 20, 0]]\n",
        "lr_model.predict(predict_value)"
      ],
      "execution_count": null,
      "outputs": [
        {
          "output_type": "execute_result",
          "data": {
            "text/plain": [
              "array([28689.99450697])"
            ]
          },
          "metadata": {
            "tags": []
          },
          "execution_count": 43
        }
      ]
    },
    {
      "cell_type": "markdown",
      "metadata": {
        "id": "Mn8oK54rKH9g"
      },
      "source": [
        "Pior cenário, baixo consumo, frio (10 graus C), chovendo e em dia de semana."
      ]
    },
    {
      "cell_type": "code",
      "metadata": {
        "id": "7op-tO5CKH9g",
        "outputId": "ef2bea8f-27cd-497f-a438-565a1b687146"
      },
      "source": [
        "predict_value = [[10, 20, 0]]\n",
        "lr_model.predict(predict_value)"
      ],
      "execution_count": null,
      "outputs": [
        {
          "output_type": "execute_result",
          "data": {
            "text/plain": [
              "array([12008.88877202])"
            ]
          },
          "metadata": {
            "tags": []
          },
          "execution_count": 44
        }
      ]
    },
    {
      "cell_type": "markdown",
      "metadata": {
        "id": "-tUfb5pzKH9h"
      },
      "source": [
        "### Salvando modelo"
      ]
    },
    {
      "cell_type": "code",
      "metadata": {
        "id": "PgqH6IAfKH9h",
        "outputId": "9cf5ae52-b455-497d-ff19-151daf694ac3"
      },
      "source": [
        "from sklearn.externals import joblib\n",
        "joblib.dump(lr_model, 'lr_model.pkl') "
      ],
      "execution_count": null,
      "outputs": [
        {
          "output_type": "execute_result",
          "data": {
            "text/plain": [
              "['lr_model.pkl']"
            ]
          },
          "metadata": {
            "tags": []
          },
          "execution_count": 45
        }
      ]
    },
    {
      "cell_type": "code",
      "metadata": {
        "id": "UOxd_cdYKH9h"
      },
      "source": [
        "lr_model_carregado = joblib.load('lr_model.pkl') "
      ],
      "execution_count": null,
      "outputs": []
    },
    {
      "cell_type": "code",
      "metadata": {
        "id": "7KSgX_sBKH9h",
        "outputId": "aad00832-8601-4f96-9ff5-20d7b18b3a53"
      },
      "source": [
        "predict_value = [[10, 20, 0]]\n",
        "lr_model_carregado.predict(predict_value)"
      ],
      "execution_count": null,
      "outputs": [
        {
          "output_type": "execute_result",
          "data": {
            "text/plain": [
              "array([12008.88877202])"
            ]
          },
          "metadata": {
            "tags": []
          },
          "execution_count": 47
        }
      ]
    },
    {
      "cell_type": "code",
      "metadata": {
        "id": "ZsYKL0LwKH9h"
      },
      "source": [
        ""
      ],
      "execution_count": null,
      "outputs": []
    },
    {
      "cell_type": "code",
      "metadata": {
        "id": "hJ21CaNIKH9i"
      },
      "source": [
        ""
      ],
      "execution_count": null,
      "outputs": []
    },
    {
      "cell_type": "code",
      "metadata": {
        "id": "X-Yvc6hFKH9i"
      },
      "source": [
        ""
      ],
      "execution_count": null,
      "outputs": []
    }
  ]
}