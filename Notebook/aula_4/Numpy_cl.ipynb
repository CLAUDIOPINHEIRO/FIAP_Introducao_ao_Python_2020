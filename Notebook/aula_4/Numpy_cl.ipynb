{
  "nbformat": 4,
  "nbformat_minor": 0,
  "metadata": {
    "kernelspec": {
      "display_name": "Python 3.8.2 64-bit",
      "language": "python",
      "name": "python38264bitea0c04b62c164f24b0ba6c1ffae01c46"
    },
    "language_info": {
      "codemirror_mode": {
        "name": "ipython",
        "version": 3
      },
      "file_extension": ".py",
      "mimetype": "text/x-python",
      "name": "python",
      "nbconvert_exporter": "python",
      "pygments_lexer": "ipython3",
      "version": "3.8.5"
    },
    "colab": {
      "name": "Numpy cl.ipynb",
      "provenance": [],
      "collapsed_sections": []
    }
  },
  "cells": [
    {
      "cell_type": "markdown",
      "metadata": {
        "id": "wrOKfMMFV5kb"
      },
      "source": [
        "# Bibliotecas"
      ]
    },
    {
      "cell_type": "markdown",
      "metadata": {
        "id": "lXcb4GAWV5kd"
      },
      "source": [
        "#### => ARRAYS N-DIMENSIONAIS PODEROSOS\n",
        "    Rápido e versátil, os conceitos de vetorização, indexação e transmissão do NumPy são os padrões de fato da computação em array hoje.\n",
        "\n",
        "\n",
        "#### => FERRAMENTAS DE COMPUTAÇÃO NUMÉRICA\n",
        "    O NumPy oferece funções matemáticas abrangentes, geradores de números aleatórios, rotinas de álgebra linear, transformadas de Fourier e muito mais.\n",
        "\n",
        "#### => INTEROPERÁVEL\n",
        "    O NumPy oferece suporte a uma ampla variedade de plataformas de hardware e computação e funciona bem com bibliotecas distribuídas, GPU e de matriz esparsa.\n",
        "\n",
        "\n",
        "#### => PERFORMANTE\n",
        "    O núcleo do NumPy é um código C bem otimizado. Aproveite a flexibilidade do Python com a velocidade do código compilado.\n",
        "\n",
        "#### => FÁCIL DE USAR\n",
        "    A sintaxe de alto nível do NumPy o torna acessível e produtivo para programadores de qualquer formação ou nível de experiência.\n",
        "\n",
        "#### => CÓDIGO ABERTO\n",
        "    Distribuído sob uma licença BSD liberal , o NumPy é desenvolvido e mantido publicamente no GitHub por uma comunidade vibrante, ágil e diversa.\n",
        "\n",
        "\n",
        "Documentação  [NUMPY](https://numpy.org/)"
      ]
    },
    {
      "cell_type": "code",
      "metadata": {
        "id": "VdD0y_OsV5kf"
      },
      "source": [
        ""
      ],
      "execution_count": null,
      "outputs": []
    },
    {
      "cell_type": "markdown",
      "metadata": {
        "id": "zUvGjPK_V5kh"
      },
      "source": [
        "### Matriz ou **array**\n",
        "\n",
        "Uma matriz é uma estrutura de dados central da biblioteca NumPy. Uma matriz é uma grade de valores e contém informações sobre os dados brutos, como localizar um elemento e como interpretar um elemento. Possui uma grade de elementos que podem ser indexados de várias maneiras. Os elementos são todos do mesmo tipo, referidos como array dtype"
      ]
    },
    {
      "cell_type": "code",
      "metadata": {
        "id": "_QNErqOmV5ki"
      },
      "source": [
        "import numpy as np"
      ],
      "execution_count": 1,
      "outputs": []
    },
    {
      "cell_type": "markdown",
      "metadata": {
        "id": "Ty0vAvduV5ki"
      },
      "source": [
        "Criando uma matriz"
      ]
    },
    {
      "cell_type": "code",
      "metadata": {
        "id": "WNbdUzSzV5kl"
      },
      "source": [
        "matriz = np.array([1,2,3,4]) "
      ],
      "execution_count": 2,
      "outputs": []
    },
    {
      "cell_type": "code",
      "metadata": {
        "colab": {
          "base_uri": "https://localhost:8080/"
        },
        "id": "PjlmEELTV5kl",
        "outputId": "f649eafa-2fba-4c09-ddf4-c1727ee84f73"
      },
      "source": [
        "matriz"
      ],
      "execution_count": 3,
      "outputs": [
        {
          "output_type": "execute_result",
          "data": {
            "text/plain": [
              "array([1, 2, 3, 4])"
            ]
          },
          "metadata": {
            "tags": []
          },
          "execution_count": 3
        }
      ]
    },
    {
      "cell_type": "markdown",
      "metadata": {
        "id": "na739CihV5km"
      },
      "source": [
        "Preenchendo automaticamente a matriz"
      ]
    },
    {
      "cell_type": "code",
      "metadata": {
        "colab": {
          "base_uri": "https://localhost:8080/"
        },
        "id": "6KxA9YAgWOFz",
        "outputId": "4810ebfb-b614-4510-9ec3-8d77489d5c68"
      },
      "source": [
        "matriz = np.arange(23)\r\n",
        "matriz"
      ],
      "execution_count": 6,
      "outputs": [
        {
          "output_type": "execute_result",
          "data": {
            "text/plain": [
              "array([ 0,  1,  2,  3,  4,  5,  6,  7,  8,  9, 10, 11, 12, 13, 14, 15, 16,\n",
              "       17, 18, 19, 20, 21, 22])"
            ]
          },
          "metadata": {
            "tags": []
          },
          "execution_count": 6
        }
      ]
    },
    {
      "cell_type": "code",
      "metadata": {
        "colab": {
          "base_uri": "https://localhost:8080/"
        },
        "id": "iXvRWb2jWOWE",
        "outputId": "ac0844ac-1179-4615-dceb-bdd98ab33254"
      },
      "source": [
        "matriz_aleatoria=np.random.rand(10)\r\n",
        "matriz_aleatoria"
      ],
      "execution_count": 12,
      "outputs": [
        {
          "output_type": "execute_result",
          "data": {
            "text/plain": [
              "array([0.34227916, 0.69959967, 0.25990999, 0.0864966 , 0.1960255 ,\n",
              "       0.86721408, 0.21515574, 0.55475783, 0.12068736, 0.67274381])"
            ]
          },
          "metadata": {
            "tags": []
          },
          "execution_count": 12
        }
      ]
    },
    {
      "cell_type": "code",
      "metadata": {
        "colab": {
          "base_uri": "https://localhost:8080/"
        },
        "id": "hOshYoi3W_-U",
        "outputId": "5acf75f2-c0a0-4ab4-f33f-03e358c472c5"
      },
      "source": [
        "matriz_ruido = np.random.rand(10)+5\r\n",
        "matriz_ruido"
      ],
      "execution_count": 13,
      "outputs": [
        {
          "output_type": "execute_result",
          "data": {
            "text/plain": [
              "array([5.84423848, 5.01440611, 5.48164707, 5.44843964, 5.99988157,\n",
              "       5.39895467, 5.53468736, 5.19716515, 5.15470715, 5.7365942 ])"
            ]
          },
          "metadata": {
            "tags": []
          },
          "execution_count": 13
        }
      ]
    },
    {
      "cell_type": "markdown",
      "metadata": {
        "id": "LvaJe09xXVcW"
      },
      "source": [
        "### Mudando o formato da matriz"
      ]
    },
    {
      "cell_type": "code",
      "metadata": {
        "id": "Pn7I_F3qV5kn"
      },
      "source": [
        "a = np.arange(20).reshape(4, 5)  #arange preenche a matriz com um range de 0 a 19 com 4 linhas e 5 colunas"
      ],
      "execution_count": 16,
      "outputs": []
    },
    {
      "cell_type": "code",
      "metadata": {
        "colab": {
          "base_uri": "https://localhost:8080/"
        },
        "id": "aV5nv7apV5ko",
        "outputId": "8ddcf16b-db59-4062-afdc-6ef8230045e8"
      },
      "source": [
        "a"
      ],
      "execution_count": 17,
      "outputs": [
        {
          "output_type": "execute_result",
          "data": {
            "text/plain": [
              "array([[ 5,  6,  7,  8,  9],\n",
              "       [10, 11, 12, 13, 14],\n",
              "       [15, 16, 17, 18, 19],\n",
              "       [20, 21, 22, 23, 24]])"
            ]
          },
          "metadata": {
            "tags": []
          },
          "execution_count": 17
        }
      ]
    },
    {
      "cell_type": "code",
      "metadata": {
        "colab": {
          "base_uri": "https://localhost:8080/"
        },
        "id": "wIt-999UXtQZ",
        "outputId": "082c72d6-6d14-4581-bff1-a2b8b8b2ff1f"
      },
      "source": [
        "b = np.random.rand(10).reshape(2,5)+7\r\n",
        "b"
      ],
      "execution_count": 22,
      "outputs": [
        {
          "output_type": "execute_result",
          "data": {
            "text/plain": [
              "array([[7.26566011, 7.80149389, 7.95091871, 7.38870092, 7.13535652],\n",
              "       [7.56036012, 7.9051892 , 7.63363976, 7.55413448, 7.62828568]])"
            ]
          },
          "metadata": {
            "tags": []
          },
          "execution_count": 22
        }
      ]
    },
    {
      "cell_type": "markdown",
      "metadata": {
        "id": "imHdJjQjV5kp"
      },
      "source": [
        "Uma matriz pode ser indexada por uma tupla de inteiros não negativos, por booleanos, por outra matriz ou por inteiros. O rank da matriz é o número de dimensões. O shapeda matriz é uma tupla de inteiros fornecendo o tamanho da matriz ao longo de cada dimensão.\n",
        "\n",
        "Uma maneira de inicializar matrizes NumPy é a partir de listas Python, usando listas aninhadas para dados bidimensionais ou superiores."
      ]
    },
    {
      "cell_type": "code",
      "metadata": {
        "id": "Rm20ZaX2V5kp"
      },
      "source": [
        "b = np.array([(1.8,2,5), (2,7,9.3)])  #com numeros float"
      ],
      "execution_count": 23,
      "outputs": []
    },
    {
      "cell_type": "code",
      "metadata": {
        "colab": {
          "base_uri": "https://localhost:8080/"
        },
        "id": "qwlht6AUV5kp",
        "outputId": "48308052-bdc0-4aaa-c65b-d3acf0351293"
      },
      "source": [
        "b"
      ],
      "execution_count": 24,
      "outputs": [
        {
          "output_type": "execute_result",
          "data": {
            "text/plain": [
              "array([[1.8, 2. , 5. ],\n",
              "       [2. , 7. , 9.3]])"
            ]
          },
          "metadata": {
            "tags": []
          },
          "execution_count": 24
        }
      ]
    },
    {
      "cell_type": "code",
      "metadata": {
        "colab": {
          "base_uri": "https://localhost:8080/"
        },
        "id": "Me1xhX_dV5kq",
        "outputId": "87c4905d-d203-419f-ec7b-2ae1ba02b477"
      },
      "source": [
        "c = np.array( [ [5+1j,7], [6,8] ], dtype=complex ) #com numeros complexos\n",
        "c"
      ],
      "execution_count": 25,
      "outputs": [
        {
          "output_type": "execute_result",
          "data": {
            "text/plain": [
              "array([[5.+1.j, 7.+0.j],\n",
              "       [6.+0.j, 8.+0.j]])"
            ]
          },
          "metadata": {
            "tags": []
          },
          "execution_count": 25
        }
      ]
    },
    {
      "cell_type": "code",
      "metadata": {
        "id": "JchIuZt8V5kq"
      },
      "source": [
        "matriz1 = np.array([2, 25, 13, 4, 25, 36])\n"
      ],
      "execution_count": 26,
      "outputs": []
    },
    {
      "cell_type": "code",
      "metadata": {
        "colab": {
          "base_uri": "https://localhost:8080/"
        },
        "id": "rDB_ANzKV5kq",
        "outputId": "d1b85365-aad6-4504-901b-a3b59fe0c15d"
      },
      "source": [
        "matriz1"
      ],
      "execution_count": 27,
      "outputs": [
        {
          "output_type": "execute_result",
          "data": {
            "text/plain": [
              "array([ 2, 25, 13,  4, 25, 36])"
            ]
          },
          "metadata": {
            "tags": []
          },
          "execution_count": 27
        }
      ]
    },
    {
      "cell_type": "code",
      "metadata": {
        "colab": {
          "base_uri": "https://localhost:8080/"
        },
        "id": "inQHxrNHV5kr",
        "outputId": "3ea7c481-eab6-4cec-bbf9-c3894587af5c"
      },
      "source": [
        "type(matriz1)"
      ],
      "execution_count": 28,
      "outputs": [
        {
          "output_type": "execute_result",
          "data": {
            "text/plain": [
              "numpy.ndarray"
            ]
          },
          "metadata": {
            "tags": []
          },
          "execution_count": 28
        }
      ]
    },
    {
      "cell_type": "code",
      "metadata": {
        "colab": {
          "base_uri": "https://localhost:8080/"
        },
        "id": "HSRjiVcsV5kr",
        "outputId": "e05cdd05-7112-48fb-9dd4-4ef247f5fc81"
      },
      "source": [
        "matriz1.shape"
      ],
      "execution_count": 29,
      "outputs": [
        {
          "output_type": "execute_result",
          "data": {
            "text/plain": [
              "(6,)"
            ]
          },
          "metadata": {
            "tags": []
          },
          "execution_count": 29
        }
      ]
    },
    {
      "cell_type": "code",
      "metadata": {
        "id": "cJFhZPT5V5ks"
      },
      "source": [
        "matriz36 = np.array([[2, 25, 13, 4, 25, 36],[44, 15, 18, 4, 27, 39],[22, 55, 43, 54, 5, 6]])"
      ],
      "execution_count": 30,
      "outputs": []
    },
    {
      "cell_type": "code",
      "metadata": {
        "colab": {
          "base_uri": "https://localhost:8080/"
        },
        "id": "HXUNgEIHV5ks",
        "outputId": "2bfeefef-b272-4b0c-fd8e-01a073bb5805"
      },
      "source": [
        "type(matriz36)"
      ],
      "execution_count": 31,
      "outputs": [
        {
          "output_type": "execute_result",
          "data": {
            "text/plain": [
              "numpy.ndarray"
            ]
          },
          "metadata": {
            "tags": []
          },
          "execution_count": 31
        }
      ]
    },
    {
      "cell_type": "code",
      "metadata": {
        "colab": {
          "base_uri": "https://localhost:8080/"
        },
        "id": "Zw3T-1LqV5ks",
        "outputId": "a0689829-6c84-415a-9c3b-eee456f7ac1b"
      },
      "source": [
        "matriz36"
      ],
      "execution_count": 32,
      "outputs": [
        {
          "output_type": "execute_result",
          "data": {
            "text/plain": [
              "array([[ 2, 25, 13,  4, 25, 36],\n",
              "       [44, 15, 18,  4, 27, 39],\n",
              "       [22, 55, 43, 54,  5,  6]])"
            ]
          },
          "metadata": {
            "tags": []
          },
          "execution_count": 32
        }
      ]
    },
    {
      "cell_type": "code",
      "metadata": {
        "colab": {
          "base_uri": "https://localhost:8080/"
        },
        "id": "CkBCZs6mV5kt",
        "outputId": "72b8b6cb-612d-4f9d-d697-dae731690923"
      },
      "source": [
        "print(\"\\n\",matriz36[0])  # mudando a ordem quando impresso\n",
        "print(\"\\n\",matriz36[2])\n",
        "print(\"\\n\",matriz36[1])"
      ],
      "execution_count": 33,
      "outputs": [
        {
          "output_type": "stream",
          "text": [
            "\n",
            " [ 2 25 13  4 25 36]\n",
            "\n",
            " [22 55 43 54  5  6]\n",
            "\n",
            " [44 15 18  4 27 39]\n"
          ],
          "name": "stdout"
        }
      ]
    },
    {
      "cell_type": "code",
      "metadata": {
        "id": "9JW-msmhV5ku"
      },
      "source": [
        ""
      ],
      "execution_count": 33,
      "outputs": []
    },
    {
      "cell_type": "code",
      "metadata": {
        "colab": {
          "base_uri": "https://localhost:8080/"
        },
        "id": "DmHTi0JIV5ku",
        "outputId": "b7e4cce2-967b-423d-f9ea-3a5d0c5e539f"
      },
      "source": [
        "np.arange(0, 10, 2) #de 2 a 9 com passo de 2"
      ],
      "execution_count": 34,
      "outputs": [
        {
          "output_type": "execute_result",
          "data": {
            "text/plain": [
              "array([0, 2, 4, 6, 8])"
            ]
          },
          "metadata": {
            "tags": []
          },
          "execution_count": 34
        }
      ]
    },
    {
      "cell_type": "code",
      "metadata": {
        "colab": {
          "base_uri": "https://localhost:8080/"
        },
        "id": "d6_pDlOAV5ku",
        "outputId": "7dc1db74-f766-4ed3-d957-e494f23b3c64"
      },
      "source": [
        "matriz36"
      ],
      "execution_count": 35,
      "outputs": [
        {
          "output_type": "execute_result",
          "data": {
            "text/plain": [
              "array([[ 2, 25, 13,  4, 25, 36],\n",
              "       [44, 15, 18,  4, 27, 39],\n",
              "       [22, 55, 43, 54,  5,  6]])"
            ]
          },
          "metadata": {
            "tags": []
          },
          "execution_count": 35
        }
      ]
    },
    {
      "cell_type": "code",
      "metadata": {
        "colab": {
          "base_uri": "https://localhost:8080/"
        },
        "id": "7_eXWDnqV5kv",
        "outputId": "aa5d35eb-d6b1-4332-bcbf-f61cbda813c1"
      },
      "source": [
        "np.sort(matriz36)"
      ],
      "execution_count": 36,
      "outputs": [
        {
          "output_type": "execute_result",
          "data": {
            "text/plain": [
              "array([[ 2,  4, 13, 25, 25, 36],\n",
              "       [ 4, 15, 18, 27, 39, 44],\n",
              "       [ 5,  6, 22, 43, 54, 55]])"
            ]
          },
          "metadata": {
            "tags": []
          },
          "execution_count": 36
        }
      ]
    },
    {
      "cell_type": "code",
      "metadata": {
        "colab": {
          "base_uri": "https://localhost:8080/"
        },
        "id": "GmzhfOpWV5kv",
        "outputId": "7c91726a-788c-4835-9541-077aa34fab4b"
      },
      "source": [
        "matriz36.size"
      ],
      "execution_count": 37,
      "outputs": [
        {
          "output_type": "execute_result",
          "data": {
            "text/plain": [
              "18"
            ]
          },
          "metadata": {
            "tags": []
          },
          "execution_count": 37
        }
      ]
    },
    {
      "cell_type": "code",
      "metadata": {
        "colab": {
          "base_uri": "https://localhost:8080/"
        },
        "id": "mKU4w9YMV5kv",
        "outputId": "544edc59-325b-4fdb-d230-beeba673998a"
      },
      "source": [
        "matriz36.ndim #matriz tem dimensoes x e y neste exemplo"
      ],
      "execution_count": 38,
      "outputs": [
        {
          "output_type": "execute_result",
          "data": {
            "text/plain": [
              "2"
            ]
          },
          "metadata": {
            "tags": []
          },
          "execution_count": 38
        }
      ]
    },
    {
      "cell_type": "code",
      "metadata": {
        "colab": {
          "base_uri": "https://localhost:8080/"
        },
        "id": "O7E9NnyZV5kw",
        "outputId": "495fbf32-1070-4071-b067-5e626d727925"
      },
      "source": [
        "matriz36.shape"
      ],
      "execution_count": 39,
      "outputs": [
        {
          "output_type": "execute_result",
          "data": {
            "text/plain": [
              "(3, 6)"
            ]
          },
          "metadata": {
            "tags": []
          },
          "execution_count": 39
        }
      ]
    },
    {
      "cell_type": "code",
      "metadata": {
        "colab": {
          "base_uri": "https://localhost:8080/"
        },
        "id": "oRzDUYrcV5kw",
        "outputId": "578a2ce2-e9bc-45b0-a89b-7a330e90f4fc"
      },
      "source": [
        "matriz36.itemsize #Comprimento de um elemento da matriz em bytes."
      ],
      "execution_count": 40,
      "outputs": [
        {
          "output_type": "execute_result",
          "data": {
            "text/plain": [
              "8"
            ]
          },
          "metadata": {
            "tags": []
          },
          "execution_count": 40
        }
      ]
    },
    {
      "cell_type": "code",
      "metadata": {
        "colab": {
          "base_uri": "https://localhost:8080/"
        },
        "id": "sYVSYWYVV5kw",
        "outputId": "d6841614-c61d-4bea-eea3-b441fb5e8123"
      },
      "source": [
        "m = np.array([1,2,5], dtype=np.complex128)\n",
        "m"
      ],
      "execution_count": 41,
      "outputs": [
        {
          "output_type": "execute_result",
          "data": {
            "text/plain": [
              "array([1.+0.j, 2.+0.j, 5.+0.j])"
            ]
          },
          "metadata": {
            "tags": []
          },
          "execution_count": 41
        }
      ]
    },
    {
      "cell_type": "code",
      "metadata": {
        "colab": {
          "base_uri": "https://localhost:8080/"
        },
        "id": "tWcOFWjgV5kw",
        "outputId": "483c2980-3818-43b4-870f-92c0d77f3cba"
      },
      "source": [
        "m.itemsize"
      ],
      "execution_count": 42,
      "outputs": [
        {
          "output_type": "execute_result",
          "data": {
            "text/plain": [
              "16"
            ]
          },
          "metadata": {
            "tags": []
          },
          "execution_count": 42
        }
      ]
    },
    {
      "cell_type": "code",
      "metadata": {
        "id": "VOiSqwU8V5kw"
      },
      "source": [
        ""
      ],
      "execution_count": 42,
      "outputs": []
    },
    {
      "cell_type": "code",
      "metadata": {
        "id": "wV3Xr-rmV5kx"
      },
      "source": [
        ""
      ],
      "execution_count": null,
      "outputs": []
    },
    {
      "cell_type": "code",
      "metadata": {
        "id": "LNAaUTxDV5kx"
      },
      "source": [
        ""
      ],
      "execution_count": null,
      "outputs": []
    },
    {
      "cell_type": "markdown",
      "metadata": {
        "id": "lyJ66PKoV5kx"
      },
      "source": [
        "### Outras estruturas de matrizes"
      ]
    },
    {
      "cell_type": "markdown",
      "metadata": {
        "id": "Y92M_G_0V5kx"
      },
      "source": [
        "NumPy oferece várias funções para criar arrays com conteúdo inicial de espaço reservado. Isso minimiza a necessidade de aumentar matrizes, uma operação cara.\n",
        "\n",
        "A função zeros cria um array cheio de zeros, a função uns cria um array cheio de uns e a função empty cria um array cujo conteúdo inicial é aleatório e depende do estado da memória. \n",
        "Por padrão, o dtype da matriz criada é float64."
      ]
    },
    {
      "cell_type": "code",
      "metadata": {
        "id": "DxtJ0gEmV5ky",
        "outputId": "6ed2daba-879f-482b-d6ba-35acce6558cd"
      },
      "source": [
        "np.zeros((4, 3)) #Cria 1 matriz de 4 linhas por 3 colunas com valores 0 "
      ],
      "execution_count": null,
      "outputs": [
        {
          "output_type": "execute_result",
          "data": {
            "text/plain": [
              "array([[0., 0., 0.],\n",
              "       [0., 0., 0.],\n",
              "       [0., 0., 0.],\n",
              "       [0., 0., 0.]])"
            ]
          },
          "metadata": {
            "tags": []
          },
          "execution_count": 27
        }
      ]
    },
    {
      "cell_type": "code",
      "metadata": {
        "id": "KaFD7sEyV5ky",
        "outputId": "14eff50f-35b0-4c16-fc83-124567131507"
      },
      "source": [
        "np.ones( (3,4,5), dtype=np.int32 ) #Cria 3 matrizes de 4 linhas por 5 colunas e especifica o tipo dos elementos para int32"
      ],
      "execution_count": null,
      "outputs": [
        {
          "output_type": "execute_result",
          "data": {
            "text/plain": [
              "array([[[1, 1, 1, 1, 1],\n",
              "        [1, 1, 1, 1, 1],\n",
              "        [1, 1, 1, 1, 1],\n",
              "        [1, 1, 1, 1, 1]],\n",
              "\n",
              "       [[1, 1, 1, 1, 1],\n",
              "        [1, 1, 1, 1, 1],\n",
              "        [1, 1, 1, 1, 1],\n",
              "        [1, 1, 1, 1, 1]],\n",
              "\n",
              "       [[1, 1, 1, 1, 1],\n",
              "        [1, 1, 1, 1, 1],\n",
              "        [1, 1, 1, 1, 1],\n",
              "        [1, 1, 1, 1, 1]]], dtype=int32)"
            ]
          },
          "metadata": {
            "tags": []
          },
          "execution_count": 28
        }
      ]
    },
    {
      "cell_type": "code",
      "metadata": {
        "id": "dnm9kXUnV5kz",
        "outputId": "11377ac7-ed1b-4b77-835f-62e3e56c6ffd"
      },
      "source": [
        " np.empty( (3,4) ) #Cria uma matriz 'vazia'"
      ],
      "execution_count": null,
      "outputs": [
        {
          "output_type": "execute_result",
          "data": {
            "text/plain": [
              "array([[0., 0., 0., 0.],\n",
              "       [0., 0., 0., 0.],\n",
              "       [0., 0., 0., 0.]])"
            ]
          },
          "metadata": {
            "tags": []
          },
          "execution_count": 30
        }
      ]
    },
    {
      "cell_type": "code",
      "metadata": {
        "id": "mrIlAQ1YV5kz"
      },
      "source": [
        ""
      ],
      "execution_count": null,
      "outputs": []
    },
    {
      "cell_type": "code",
      "metadata": {
        "id": "scp-0EOoV5kz",
        "outputId": "54de947e-b785-4756-fcd6-6e5312c50fc0"
      },
      "source": [
        "np.ones(2)"
      ],
      "execution_count": null,
      "outputs": [
        {
          "output_type": "execute_result",
          "data": {
            "text/plain": [
              "array([1., 1.])"
            ]
          },
          "metadata": {
            "tags": []
          },
          "execution_count": 35
        }
      ]
    },
    {
      "cell_type": "code",
      "metadata": {
        "id": "gRv_f8EIV5kz",
        "outputId": "59cbf7b2-cde2-42c4-fbb4-37ecca4a4dc6"
      },
      "source": [
        "np.empty(2)"
      ],
      "execution_count": null,
      "outputs": [
        {
          "output_type": "execute_result",
          "data": {
            "text/plain": [
              "array([1., 1.])"
            ]
          },
          "metadata": {
            "tags": []
          },
          "execution_count": 36
        }
      ]
    },
    {
      "cell_type": "markdown",
      "metadata": {
        "id": "KEAEBYD7V5kz"
      },
      "source": [
        "### Criando matrizes lineares"
      ]
    },
    {
      "cell_type": "code",
      "metadata": {
        "id": "bTkp-dToV5k0",
        "outputId": "be080d25-81ae-4966-932d-983ac3c761c4"
      },
      "source": [
        "np.linspace(0, 20, num=5) # Faixa de valores entre 0 e 20, sendo \"num\" a uqnatidade de valores"
      ],
      "execution_count": null,
      "outputs": [
        {
          "output_type": "execute_result",
          "data": {
            "text/plain": [
              "array([ 0.,  5., 10., 15., 20.])"
            ]
          },
          "metadata": {
            "tags": []
          },
          "execution_count": 41
        }
      ]
    },
    {
      "cell_type": "code",
      "metadata": {
        "id": "hoL7MtiOV5k0"
      },
      "source": [
        ""
      ],
      "execution_count": null,
      "outputs": []
    },
    {
      "cell_type": "markdown",
      "metadata": {
        "id": "mskAk0nAV5k0"
      },
      "source": [
        "### Trabalhando com matrizes"
      ]
    },
    {
      "cell_type": "code",
      "metadata": {
        "id": "D7uAKYMSV5k0"
      },
      "source": [
        "matriz = np.array([4,8,34,5,23,1,7,19,21,20,20,8])"
      ],
      "execution_count": null,
      "outputs": []
    },
    {
      "cell_type": "code",
      "metadata": {
        "id": "tfRjDPQVV5k0",
        "outputId": "b82f83ae-dc01-4e75-9578-4447947de7ab"
      },
      "source": [
        "matriz"
      ],
      "execution_count": null,
      "outputs": [
        {
          "output_type": "execute_result",
          "data": {
            "text/plain": [
              "array([ 4,  8, 34,  5, 23,  1,  7, 19, 21, 20, 20,  8])"
            ]
          },
          "metadata": {
            "tags": []
          },
          "execution_count": 44
        }
      ]
    },
    {
      "cell_type": "markdown",
      "metadata": {
        "id": "4xoE_AtJV5k1"
      },
      "source": [
        "#### Ordenando valores de uma matriz "
      ]
    },
    {
      "cell_type": "code",
      "metadata": {
        "id": "t3J8OjdVV5k1",
        "outputId": "0384f13a-d207-4bb5-921c-55196e2ffe3c"
      },
      "source": [
        "np.sort(matriz)"
      ],
      "execution_count": null,
      "outputs": [
        {
          "output_type": "execute_result",
          "data": {
            "text/plain": [
              "array([ 1,  4,  5,  7,  8,  8, 19, 20, 20, 21, 23, 34])"
            ]
          },
          "metadata": {
            "tags": []
          },
          "execution_count": 45
        }
      ]
    },
    {
      "cell_type": "markdown",
      "metadata": {
        "id": "Z91bU6OrV5k1"
      },
      "source": [
        "Além de sort, que retorna uma cópia classificada de uma matriz, você pode usar:\n",
        "\n",
        "- **argsort**, que é uma ordenacao indireta ao longo de um eixo especificado,\n",
        "- **lexsort**, que é uma ordenacao estável indireta em várias chaves,\n",
        "- **searchsorted**, que encontrará elementos em uma matriz ordenada, e\n",
        "- **partition**, que é uma ordenacao parcial."
      ]
    },
    {
      "cell_type": "markdown",
      "metadata": {
        "id": "pFpvkTQ6V5k2"
      },
      "source": [
        "#### Concatenando matrizes"
      ]
    },
    {
      "cell_type": "code",
      "metadata": {
        "id": "du-x_of4V5k2"
      },
      "source": [
        "m = np.array([2,5,3,2])"
      ],
      "execution_count": null,
      "outputs": []
    },
    {
      "cell_type": "code",
      "metadata": {
        "id": "L7jHurDGV5k2"
      },
      "source": [
        "n = np.array([2,7,9,5])"
      ],
      "execution_count": null,
      "outputs": []
    },
    {
      "cell_type": "code",
      "metadata": {
        "id": "i450lJkhV5k3",
        "outputId": "20db95f8-d6f3-4876-b19c-52ac8d18ceb2"
      },
      "source": [
        "z = np.concatenate((m, n))\n",
        "z"
      ],
      "execution_count": null,
      "outputs": [
        {
          "output_type": "execute_result",
          "data": {
            "text/plain": [
              "array([2, 5, 3, 2, 2, 7, 9, 5])"
            ]
          },
          "metadata": {
            "tags": []
          },
          "execution_count": 48
        }
      ]
    },
    {
      "cell_type": "code",
      "metadata": {
        "id": "TMrK034zV5k3",
        "outputId": "59514f4a-3ab2-4192-f15f-b7a5d140e804"
      },
      "source": [
        "np.sort(z)"
      ],
      "execution_count": null,
      "outputs": [
        {
          "output_type": "execute_result",
          "data": {
            "text/plain": [
              "array([2, 2, 2, 3, 5, 5, 7, 9])"
            ]
          },
          "metadata": {
            "tags": []
          },
          "execution_count": 49
        }
      ]
    },
    {
      "cell_type": "markdown",
      "metadata": {
        "id": "1NeHGeGCV5k3"
      },
      "source": [
        "#### Remodelando a matriz"
      ]
    },
    {
      "cell_type": "code",
      "metadata": {
        "id": "XKp0XZ3wV5k3"
      },
      "source": [
        "m1 = np.arange(12) #numero de elementos 12"
      ],
      "execution_count": null,
      "outputs": []
    },
    {
      "cell_type": "code",
      "metadata": {
        "id": "380J_pdZV5k4",
        "outputId": "faa4d900-73cd-49d1-f46f-6ff2ca74bbdd"
      },
      "source": [
        "m1"
      ],
      "execution_count": null,
      "outputs": [
        {
          "output_type": "execute_result",
          "data": {
            "text/plain": [
              "array([ 0,  1,  2,  3,  4,  5,  6,  7,  8,  9, 10, 11])"
            ]
          },
          "metadata": {
            "tags": []
          },
          "execution_count": 71
        }
      ]
    },
    {
      "cell_type": "code",
      "metadata": {
        "id": "HjZyP6EnV5k4",
        "outputId": "93b18b1e-8575-44e2-fa30-0fc7cbb2e8ea"
      },
      "source": [
        "m2 = m1.reshape(3, 4) #Numero de elementos na matriz 3x4=12...\n",
        "m2"
      ],
      "execution_count": null,
      "outputs": [
        {
          "output_type": "execute_result",
          "data": {
            "text/plain": [
              "array([[ 0,  1,  2,  3],\n",
              "       [ 4,  5,  6,  7],\n",
              "       [ 8,  9, 10, 11]])"
            ]
          },
          "metadata": {
            "tags": []
          },
          "execution_count": 74
        }
      ]
    },
    {
      "cell_type": "markdown",
      "metadata": {
        "id": "gRpk6LRzV5k4"
      },
      "source": [
        "#### Apresentando elementos da matriz"
      ]
    },
    {
      "cell_type": "code",
      "metadata": {
        "id": "XJjlcrdcV5k4"
      },
      "source": [
        "dados = np.array([1, 2, 3,5,8,12,9])\n",
        "\n"
      ],
      "execution_count": null,
      "outputs": []
    },
    {
      "cell_type": "code",
      "metadata": {
        "id": "0eG-3fpOV5k4",
        "outputId": "b46dd85d-0b05-4bac-8c89-09ca70d33818"
      },
      "source": [
        "dados[1]"
      ],
      "execution_count": null,
      "outputs": [
        {
          "output_type": "execute_result",
          "data": {
            "text/plain": [
              "2"
            ]
          },
          "metadata": {
            "tags": []
          },
          "execution_count": 84
        }
      ]
    },
    {
      "cell_type": "code",
      "metadata": {
        "id": "QFXzdRizV5k5",
        "outputId": "e482e719-592d-4443-c6fd-c8fb2ac0cdd2"
      },
      "source": [
        "dados[1:]"
      ],
      "execution_count": null,
      "outputs": [
        {
          "output_type": "execute_result",
          "data": {
            "text/plain": [
              "array([ 2,  3,  5,  8, 12,  9])"
            ]
          },
          "metadata": {
            "tags": []
          },
          "execution_count": 85
        }
      ]
    },
    {
      "cell_type": "code",
      "metadata": {
        "id": "FqwphgkbV5k5",
        "outputId": "f8f71887-ea80-4ae1-80d4-94a09e6f5851"
      },
      "source": [
        "dados[-2]"
      ],
      "execution_count": null,
      "outputs": [
        {
          "output_type": "execute_result",
          "data": {
            "text/plain": [
              "12"
            ]
          },
          "metadata": {
            "tags": []
          },
          "execution_count": 86
        }
      ]
    },
    {
      "cell_type": "code",
      "metadata": {
        "id": "aAeDZwTQV5k7",
        "outputId": "163001d3-9738-4601-8cd0-84b47a05767d"
      },
      "source": [
        "dados[2:5]"
      ],
      "execution_count": null,
      "outputs": [
        {
          "output_type": "execute_result",
          "data": {
            "text/plain": [
              "array([3, 5, 8])"
            ]
          },
          "metadata": {
            "tags": []
          },
          "execution_count": 88
        }
      ]
    },
    {
      "cell_type": "code",
      "metadata": {
        "id": "E1GY3ZmnV5k7"
      },
      "source": [
        ""
      ],
      "execution_count": null,
      "outputs": []
    },
    {
      "cell_type": "code",
      "metadata": {
        "id": "4aExbXFbV5k7"
      },
      "source": [
        ""
      ],
      "execution_count": null,
      "outputs": []
    },
    {
      "cell_type": "code",
      "metadata": {
        "id": "b2NkZ47sV5k7"
      },
      "source": [
        "matrizdf = np.array([['Joao',25,1995,2016],['Maria',47,1973,2000],['Luisa',38,1982,2005]], dtype=object)"
      ],
      "execution_count": null,
      "outputs": []
    },
    {
      "cell_type": "code",
      "metadata": {
        "id": "YlJh0WPlV5k8",
        "outputId": "db11e527-3e60-4461-97d6-1a4350ebeb31"
      },
      "source": [
        "matrizdf"
      ],
      "execution_count": null,
      "outputs": [
        {
          "output_type": "execute_result",
          "data": {
            "text/plain": [
              "array([['Joao', 25, 1995, 2016],\n",
              "       ['Maria', 47, 1973, 2000],\n",
              "       ['Luisa', 38, 1982, 2005]], dtype=object)"
            ]
          },
          "metadata": {
            "tags": []
          },
          "execution_count": 90
        }
      ]
    },
    {
      "cell_type": "code",
      "metadata": {
        "id": "kEBYGWg6V5k9"
      },
      "source": [
        ""
      ],
      "execution_count": null,
      "outputs": []
    },
    {
      "cell_type": "markdown",
      "metadata": {
        "id": "LfyVlpIYZQFQ"
      },
      "source": [
        "### Multiplicando Matrizes"
      ]
    },
    {
      "cell_type": "markdown",
      "metadata": {
        "id": "SILl1OUcZtVR"
      },
      "source": [
        "O princípio de multiplicação de matrizes\r\n",
        "**(n,k),(k,m)->(n,m)**"
      ]
    },
    {
      "cell_type": "code",
      "metadata": {
        "id": "uKr740HnZUcs"
      },
      "source": [
        "m1=(23,12,6)\r\n",
        "m2=(5,7,3)\r\n"
      ],
      "execution_count": 43,
      "outputs": []
    },
    {
      "cell_type": "markdown",
      "metadata": {
        "id": "23TaEftrbW4M"
      },
      "source": [
        "O que acontece se multiplico uma matriz por um número?"
      ]
    },
    {
      "cell_type": "code",
      "metadata": {
        "colab": {
          "base_uri": "https://localhost:8080/"
        },
        "id": "LNji5aQtZry5",
        "outputId": "5d0b0e71-f896-4e27-ad9a-8c73f9a0612b"
      },
      "source": [
        "m3=3*m1\r\n",
        "m3"
      ],
      "execution_count": 44,
      "outputs": [
        {
          "output_type": "execute_result",
          "data": {
            "text/plain": [
              "(23, 12, 6, 23, 12, 6, 23, 12, 6)"
            ]
          },
          "metadata": {
            "tags": []
          },
          "execution_count": 44
        }
      ]
    },
    {
      "cell_type": "code",
      "metadata": {
        "id": "ZWMaMQTpbqm5"
      },
      "source": [
        ""
      ],
      "execution_count": null,
      "outputs": []
    },
    {
      "cell_type": "markdown",
      "metadata": {
        "id": "-cRo4AWRbozV"
      },
      "source": [
        "Como podemos realizar multiplicações?"
      ]
    },
    {
      "cell_type": "code",
      "metadata": {
        "colab": {
          "base_uri": "https://localhost:8080/"
        },
        "id": "HNUPo5TYbwp0",
        "outputId": "0c2b656d-a52c-4969-9e85-d167de4bffa7"
      },
      "source": [
        "np.dot(4,6)"
      ],
      "execution_count": 52,
      "outputs": [
        {
          "output_type": "execute_result",
          "data": {
            "text/plain": [
              "24"
            ]
          },
          "metadata": {
            "tags": []
          },
          "execution_count": 52
        }
      ]
    },
    {
      "cell_type": "code",
      "metadata": {
        "colab": {
          "base_uri": "https://localhost:8080/"
        },
        "id": "H3omG5GacCXm",
        "outputId": "d51506a8-1976-415c-90f6-7c228bae7072"
      },
      "source": [
        "m1"
      ],
      "execution_count": 55,
      "outputs": [
        {
          "output_type": "execute_result",
          "data": {
            "text/plain": [
              "(23, 12, 6)"
            ]
          },
          "metadata": {
            "tags": []
          },
          "execution_count": 55
        }
      ]
    },
    {
      "cell_type": "code",
      "metadata": {
        "colab": {
          "base_uri": "https://localhost:8080/"
        },
        "id": "SYnjnrltbwzV",
        "outputId": "ffae1272-74dc-4fd2-ad6e-ec0845da00fc"
      },
      "source": [
        "np.dot(3,m1)"
      ],
      "execution_count": 54,
      "outputs": [
        {
          "output_type": "execute_result",
          "data": {
            "text/plain": [
              "array([69, 36, 18])"
            ]
          },
          "metadata": {
            "tags": []
          },
          "execution_count": 54
        }
      ]
    },
    {
      "cell_type": "markdown",
      "metadata": {
        "id": "5B1tWtqAcG9V"
      },
      "source": [
        "Multiplicando duas matrizes de mesmas dimensões"
      ]
    },
    {
      "cell_type": "code",
      "metadata": {
        "colab": {
          "base_uri": "https://localhost:8080/"
        },
        "id": "M_b3C6jBbvU2",
        "outputId": "ff2b56d4-2b0d-45bd-895a-ad21257d1233"
      },
      "source": [
        "ma = [[1, 0], [0, 1]]\r\n",
        "mb = [[4, 1], [2, 2]]\r\n",
        "np.dot(ma, mb)"
      ],
      "execution_count": 56,
      "outputs": [
        {
          "output_type": "execute_result",
          "data": {
            "text/plain": [
              "array([[4, 1],\n",
              "       [2, 2]])"
            ]
          },
          "metadata": {
            "tags": []
          },
          "execution_count": 56
        }
      ]
    },
    {
      "cell_type": "code",
      "metadata": {
        "id": "dOjJXivvbvcU"
      },
      "source": [
        ""
      ],
      "execution_count": null,
      "outputs": []
    },
    {
      "cell_type": "code",
      "metadata": {
        "colab": {
          "base_uri": "https://localhost:8080/"
        },
        "id": "GQQu54k8Zr2b",
        "outputId": "7dcf9cef-ce4b-402f-cb20-8c01623973fe"
      },
      "source": [
        "ma = np.array([[5, 3],\r\n",
        "              [0, 1]])\r\n",
        "mb = np.array([[2, 3],\r\n",
        "              [1, 0]])\r\n",
        "print(ma)\r\n",
        "print(mb)"
      ],
      "execution_count": 50,
      "outputs": [
        {
          "output_type": "stream",
          "text": [
            "[[5 3]\n",
            " [0 1]]\n",
            "[[2 3]\n",
            " [1 0]]\n"
          ],
          "name": "stdout"
        }
      ]
    },
    {
      "cell_type": "code",
      "metadata": {
        "id": "qYg0SApNa67g"
      },
      "source": [
        ""
      ],
      "execution_count": null,
      "outputs": []
    },
    {
      "cell_type": "markdown",
      "metadata": {
        "id": "KYjbLAyWbXul"
      },
      "source": [
        ""
      ]
    },
    {
      "cell_type": "code",
      "metadata": {
        "colab": {
          "base_uri": "https://localhost:8080/"
        },
        "id": "60U69NAsabOC",
        "outputId": "44048d72-c91a-4ad9-e8e2-696fd670f796"
      },
      "source": [
        "np.matmul(ma, mb)"
      ],
      "execution_count": 51,
      "outputs": [
        {
          "output_type": "execute_result",
          "data": {
            "text/plain": [
              "array([[13, 15],\n",
              "       [ 1,  0]])"
            ]
          },
          "metadata": {
            "tags": []
          },
          "execution_count": 51
        }
      ]
    },
    {
      "cell_type": "code",
      "metadata": {
        "id": "5b5zBuK5az69"
      },
      "source": [
        ""
      ],
      "execution_count": null,
      "outputs": []
    }
  ]
}