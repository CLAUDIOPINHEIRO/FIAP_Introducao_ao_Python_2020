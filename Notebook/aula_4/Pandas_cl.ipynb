{
  "nbformat": 4,
  "nbformat_minor": 0,
  "metadata": {
    "colab": {
      "name": "Pandas cl",
      "provenance": [],
      "collapsed_sections": []
    },
    "kernelspec": {
      "name": "python3",
      "display_name": "Python 3"
    }
  },
  "cells": [
    {
      "cell_type": "markdown",
      "metadata": {
        "id": "v-m678ABem3V"
      },
      "source": [
        "**Pandas** é uma API de análise de dados orientada a colunas. É uma ótima ferramenta para manipular e analisar dados de entrada, e muitos frameworks de ML oferecem suporte a estruturas de dados do pandas como entradas. Embora uma introdução abrangente à API do pandas abranja muitas páginas, os conceitos básicos são bastante diretos e os apresentaremos a seguir. Para uma referência mais completa, o site do pandas docs  [Pandas Documentação](https://pandas.pydata.org/pandas-docs/stable/index.html)    contém uma extensa documentação e muitos tutoriais"
      ]
    },
    {
      "cell_type": "code",
      "metadata": {
        "id": "_7CBkcBpghK9"
      },
      "source": [
        "import numpy as np"
      ],
      "execution_count": 5,
      "outputs": []
    },
    {
      "cell_type": "code",
      "metadata": {
        "id": "wZwcdfKjV5k9"
      },
      "source": [
        "import pandas as pd"
      ],
      "execution_count": 2,
      "outputs": []
    },
    {
      "cell_type": "code",
      "metadata": {
        "colab": {
          "base_uri": "https://localhost:8080/"
        },
        "id": "62m5iwnZfP7t",
        "outputId": "b30981ac-c0c7-4b40-9d73-863c05195618"
      },
      "source": [
        "s = pd.Series([4, 3, 7, 8, 6, 8])\r\n",
        "s"
      ],
      "execution_count": 3,
      "outputs": [
        {
          "output_type": "execute_result",
          "data": {
            "text/plain": [
              "0    4\n",
              "1    3\n",
              "2    7\n",
              "3    8\n",
              "4    6\n",
              "5    8\n",
              "dtype: int64"
            ]
          },
          "metadata": {
            "tags": []
          },
          "execution_count": 3
        }
      ]
    },
    {
      "cell_type": "code",
      "metadata": {
        "colab": {
          "base_uri": "https://localhost:8080/"
        },
        "id": "mFpqVed4gOnE",
        "outputId": "9d40f98d-e6e1-4dc9-eb3c-9c18ef732e8c"
      },
      "source": [
        "s2 = pd.Series([1, np.nan,8,9,12])\r\n",
        "s2"
      ],
      "execution_count": 7,
      "outputs": [
        {
          "output_type": "execute_result",
          "data": {
            "text/plain": [
              "0     1.0\n",
              "1     NaN\n",
              "2     8.0\n",
              "3     9.0\n",
              "4    12.0\n",
              "dtype: float64"
            ]
          },
          "metadata": {
            "tags": []
          },
          "execution_count": 7
        }
      ]
    },
    {
      "cell_type": "code",
      "metadata": {
        "id": "b_quxwQLgM5s"
      },
      "source": [
        ""
      ],
      "execution_count": null,
      "outputs": []
    },
    {
      "cell_type": "markdown",
      "metadata": {
        "id": "golKb9_Rg1-e"
      },
      "source": [
        "Trabalhando com datas"
      ]
    },
    {
      "cell_type": "code",
      "metadata": {
        "colab": {
          "base_uri": "https://localhost:8080/"
        },
        "id": "PRaOFPSTgM9d",
        "outputId": "d193fdf7-6ca7-4e0a-ec05-447adaab6163"
      },
      "source": [
        "datas = pd.date_range('20200101', periods=6)\r\n",
        "datas"
      ],
      "execution_count": 9,
      "outputs": [
        {
          "output_type": "execute_result",
          "data": {
            "text/plain": [
              "DatetimeIndex(['2020-01-01', '2020-01-02', '2020-01-03', '2020-01-04',\n",
              "               '2020-01-05', '2020-01-06'],\n",
              "              dtype='datetime64[ns]', freq='D')"
            ]
          },
          "metadata": {
            "tags": []
          },
          "execution_count": 9
        }
      ]
    },
    {
      "cell_type": "markdown",
      "metadata": {
        "id": "QW_zL9L2hXHo"
      },
      "source": [
        "Criando estruturas de dados  **\"DataFrames\"**"
      ]
    },
    {
      "cell_type": "code",
      "metadata": {
        "colab": {
          "base_uri": "https://localhost:8080/",
          "height": 206
        },
        "id": "JgMLH8aIhicw",
        "outputId": "4f6cf74d-91ee-4369-9830-8915488c47c1"
      },
      "source": [
        "novodf = pd.DataFrame({ 'Nome':['Luisa','Julia','Marcos','Andre','Marcia'],\r\n",
        "                        'Idade':[23,28,32,41,37],\r\n",
        "                        'Renda':[12550,23000,7200,8600,2400]})\r\n",
        "novodf"
      ],
      "execution_count": 28,
      "outputs": [
        {
          "output_type": "execute_result",
          "data": {
            "text/html": [
              "<div>\n",
              "<style scoped>\n",
              "    .dataframe tbody tr th:only-of-type {\n",
              "        vertical-align: middle;\n",
              "    }\n",
              "\n",
              "    .dataframe tbody tr th {\n",
              "        vertical-align: top;\n",
              "    }\n",
              "\n",
              "    .dataframe thead th {\n",
              "        text-align: right;\n",
              "    }\n",
              "</style>\n",
              "<table border=\"1\" class=\"dataframe\">\n",
              "  <thead>\n",
              "    <tr style=\"text-align: right;\">\n",
              "      <th></th>\n",
              "      <th>Nome</th>\n",
              "      <th>Idade</th>\n",
              "      <th>Renda</th>\n",
              "    </tr>\n",
              "  </thead>\n",
              "  <tbody>\n",
              "    <tr>\n",
              "      <th>0</th>\n",
              "      <td>Luisa</td>\n",
              "      <td>23</td>\n",
              "      <td>12550</td>\n",
              "    </tr>\n",
              "    <tr>\n",
              "      <th>1</th>\n",
              "      <td>Julia</td>\n",
              "      <td>28</td>\n",
              "      <td>23000</td>\n",
              "    </tr>\n",
              "    <tr>\n",
              "      <th>2</th>\n",
              "      <td>Marcos</td>\n",
              "      <td>32</td>\n",
              "      <td>7200</td>\n",
              "    </tr>\n",
              "    <tr>\n",
              "      <th>3</th>\n",
              "      <td>Andre</td>\n",
              "      <td>41</td>\n",
              "      <td>8600</td>\n",
              "    </tr>\n",
              "    <tr>\n",
              "      <th>4</th>\n",
              "      <td>Marcia</td>\n",
              "      <td>37</td>\n",
              "      <td>2400</td>\n",
              "    </tr>\n",
              "  </tbody>\n",
              "</table>\n",
              "</div>"
            ],
            "text/plain": [
              "     Nome  Idade  Renda\n",
              "0   Luisa     23  12550\n",
              "1   Julia     28  23000\n",
              "2  Marcos     32   7200\n",
              "3   Andre     41   8600\n",
              "4  Marcia     37   2400"
            ]
          },
          "metadata": {
            "tags": []
          },
          "execution_count": 28
        }
      ]
    },
    {
      "cell_type": "code",
      "metadata": {
        "id": "LZamsQHoiagL"
      },
      "source": [
        ""
      ],
      "execution_count": null,
      "outputs": []
    },
    {
      "cell_type": "markdown",
      "metadata": {
        "id": "Z06c0rjnkusF"
      },
      "source": [
        "Criando a partir de uma matriz"
      ]
    },
    {
      "cell_type": "code",
      "metadata": {
        "id": "b2NkZ47sV5k7",
        "colab": {
          "base_uri": "https://localhost:8080/"
        },
        "outputId": "dcf88057-4716-421e-cfc9-f09e794c9ab5"
      },
      "source": [
        "matrizdf = np.array([['Joao',25,1995,2016],['Maria',47,1973,2000],['Luisa',38,1982,2005]], dtype=object)\r\n",
        "matrizdf"
      ],
      "execution_count": 15,
      "outputs": [
        {
          "output_type": "execute_result",
          "data": {
            "text/plain": [
              "array([['Joao', 25, 1995, 2016],\n",
              "       ['Maria', 47, 1973, 2000],\n",
              "       ['Luisa', 38, 1982, 2005]], dtype=object)"
            ]
          },
          "metadata": {
            "tags": []
          },
          "execution_count": 15
        }
      ]
    },
    {
      "cell_type": "markdown",
      "metadata": {
        "id": "-n6YQn5Hk27d"
      },
      "source": [
        "Atribuindo os nomes das colunas"
      ]
    },
    {
      "cell_type": "code",
      "metadata": {
        "id": "473nTX8iV5k9",
        "colab": {
          "base_uri": "https://localhost:8080/",
          "height": 144
        },
        "outputId": "c29cd8b3-5445-4feb-a470-df551e745a79"
      },
      "source": [
        "df = pd.DataFrame(matrizdf, columns = ['Nome','Idade','Ano de nascimento','Formado em'])\n",
        "df.head()\n"
      ],
      "execution_count": 17,
      "outputs": [
        {
          "output_type": "execute_result",
          "data": {
            "text/html": [
              "<div>\n",
              "<style scoped>\n",
              "    .dataframe tbody tr th:only-of-type {\n",
              "        vertical-align: middle;\n",
              "    }\n",
              "\n",
              "    .dataframe tbody tr th {\n",
              "        vertical-align: top;\n",
              "    }\n",
              "\n",
              "    .dataframe thead th {\n",
              "        text-align: right;\n",
              "    }\n",
              "</style>\n",
              "<table border=\"1\" class=\"dataframe\">\n",
              "  <thead>\n",
              "    <tr style=\"text-align: right;\">\n",
              "      <th></th>\n",
              "      <th>Nome</th>\n",
              "      <th>Idade</th>\n",
              "      <th>Ano de nascimento</th>\n",
              "      <th>Formado em</th>\n",
              "    </tr>\n",
              "  </thead>\n",
              "  <tbody>\n",
              "    <tr>\n",
              "      <th>0</th>\n",
              "      <td>Joao</td>\n",
              "      <td>25</td>\n",
              "      <td>1995</td>\n",
              "      <td>2016</td>\n",
              "    </tr>\n",
              "    <tr>\n",
              "      <th>1</th>\n",
              "      <td>Maria</td>\n",
              "      <td>47</td>\n",
              "      <td>1973</td>\n",
              "      <td>2000</td>\n",
              "    </tr>\n",
              "    <tr>\n",
              "      <th>2</th>\n",
              "      <td>Luisa</td>\n",
              "      <td>38</td>\n",
              "      <td>1982</td>\n",
              "      <td>2005</td>\n",
              "    </tr>\n",
              "  </tbody>\n",
              "</table>\n",
              "</div>"
            ],
            "text/plain": [
              "    Nome Idade Ano de nascimento Formado em\n",
              "0   Joao    25              1995       2016\n",
              "1  Maria    47              1973       2000\n",
              "2  Luisa    38              1982       2005"
            ]
          },
          "metadata": {
            "tags": []
          },
          "execution_count": 17
        }
      ]
    },
    {
      "cell_type": "code",
      "metadata": {
        "id": "N61FZnKwhisI"
      },
      "source": [
        ""
      ],
      "execution_count": null,
      "outputs": []
    },
    {
      "cell_type": "markdown",
      "metadata": {
        "id": "D8x4ZXpok7-A"
      },
      "source": [
        "Criando utilizando opções do numpy"
      ]
    },
    {
      "cell_type": "code",
      "metadata": {
        "colab": {
          "base_uri": "https://localhost:8080/",
          "height": 175
        },
        "id": "g9XKtrA0h7MR",
        "outputId": "6284bc10-5ecb-4c2f-8fcd-ad41b6fd79ab"
      },
      "source": [
        "df2 = pd.DataFrame({'A': 2.,\r\n",
        "                    'B': pd.Timestamp('20200503'),\r\n",
        "                    'C': pd.Series(1, index=list(range(4)), dtype='float32'),\r\n",
        "                    'D': np.array([3] * 4, dtype='int32'),\r\n",
        "                    'E': pd.Categorical([\"teste\", \"treinamento\", \"teste\", \"treinamento\"]),\r\n",
        "                    'F': 'Validado'})\r\n",
        "df2"
      ],
      "execution_count": 29,
      "outputs": [
        {
          "output_type": "execute_result",
          "data": {
            "text/html": [
              "<div>\n",
              "<style scoped>\n",
              "    .dataframe tbody tr th:only-of-type {\n",
              "        vertical-align: middle;\n",
              "    }\n",
              "\n",
              "    .dataframe tbody tr th {\n",
              "        vertical-align: top;\n",
              "    }\n",
              "\n",
              "    .dataframe thead th {\n",
              "        text-align: right;\n",
              "    }\n",
              "</style>\n",
              "<table border=\"1\" class=\"dataframe\">\n",
              "  <thead>\n",
              "    <tr style=\"text-align: right;\">\n",
              "      <th></th>\n",
              "      <th>A</th>\n",
              "      <th>B</th>\n",
              "      <th>C</th>\n",
              "      <th>D</th>\n",
              "      <th>E</th>\n",
              "      <th>F</th>\n",
              "    </tr>\n",
              "  </thead>\n",
              "  <tbody>\n",
              "    <tr>\n",
              "      <th>0</th>\n",
              "      <td>2.0</td>\n",
              "      <td>2020-05-03</td>\n",
              "      <td>1.0</td>\n",
              "      <td>3</td>\n",
              "      <td>teste</td>\n",
              "      <td>Validado</td>\n",
              "    </tr>\n",
              "    <tr>\n",
              "      <th>1</th>\n",
              "      <td>2.0</td>\n",
              "      <td>2020-05-03</td>\n",
              "      <td>1.0</td>\n",
              "      <td>3</td>\n",
              "      <td>treinamento</td>\n",
              "      <td>Validado</td>\n",
              "    </tr>\n",
              "    <tr>\n",
              "      <th>2</th>\n",
              "      <td>2.0</td>\n",
              "      <td>2020-05-03</td>\n",
              "      <td>1.0</td>\n",
              "      <td>3</td>\n",
              "      <td>teste</td>\n",
              "      <td>Validado</td>\n",
              "    </tr>\n",
              "    <tr>\n",
              "      <th>3</th>\n",
              "      <td>2.0</td>\n",
              "      <td>2020-05-03</td>\n",
              "      <td>1.0</td>\n",
              "      <td>3</td>\n",
              "      <td>treinamento</td>\n",
              "      <td>Validado</td>\n",
              "    </tr>\n",
              "  </tbody>\n",
              "</table>\n",
              "</div>"
            ],
            "text/plain": [
              "     A          B    C  D            E         F\n",
              "0  2.0 2020-05-03  1.0  3        teste  Validado\n",
              "1  2.0 2020-05-03  1.0  3  treinamento  Validado\n",
              "2  2.0 2020-05-03  1.0  3        teste  Validado\n",
              "3  2.0 2020-05-03  1.0  3  treinamento  Validado"
            ]
          },
          "metadata": {
            "tags": []
          },
          "execution_count": 29
        }
      ]
    },
    {
      "cell_type": "code",
      "metadata": {
        "id": "15esmvMHh7US"
      },
      "source": [
        ""
      ],
      "execution_count": null,
      "outputs": []
    },
    {
      "cell_type": "markdown",
      "metadata": {
        "id": "TcaPBmxyl4jQ"
      },
      "source": [
        "Utilizando um Dataframe criado com valores numéricos aleatórios"
      ]
    },
    {
      "cell_type": "code",
      "metadata": {
        "colab": {
          "base_uri": "https://localhost:8080/",
          "height": 238
        },
        "id": "9EMr2-w2gNEN",
        "outputId": "922363f0-6627-4916-95d3-acec530d357e"
      },
      "source": [
        "ndf = pd.DataFrame(np.random.randn(6, 5), index=datas, columns=list('ABCDE'))\r\n",
        "ndf"
      ],
      "execution_count": 37,
      "outputs": [
        {
          "output_type": "execute_result",
          "data": {
            "text/html": [
              "<div>\n",
              "<style scoped>\n",
              "    .dataframe tbody tr th:only-of-type {\n",
              "        vertical-align: middle;\n",
              "    }\n",
              "\n",
              "    .dataframe tbody tr th {\n",
              "        vertical-align: top;\n",
              "    }\n",
              "\n",
              "    .dataframe thead th {\n",
              "        text-align: right;\n",
              "    }\n",
              "</style>\n",
              "<table border=\"1\" class=\"dataframe\">\n",
              "  <thead>\n",
              "    <tr style=\"text-align: right;\">\n",
              "      <th></th>\n",
              "      <th>A</th>\n",
              "      <th>B</th>\n",
              "      <th>C</th>\n",
              "      <th>D</th>\n",
              "      <th>E</th>\n",
              "    </tr>\n",
              "  </thead>\n",
              "  <tbody>\n",
              "    <tr>\n",
              "      <th>2020-01-01</th>\n",
              "      <td>-0.085765</td>\n",
              "      <td>-1.994739</td>\n",
              "      <td>-0.612832</td>\n",
              "      <td>-0.994954</td>\n",
              "      <td>-0.167886</td>\n",
              "    </tr>\n",
              "    <tr>\n",
              "      <th>2020-01-02</th>\n",
              "      <td>0.790734</td>\n",
              "      <td>1.103944</td>\n",
              "      <td>0.177617</td>\n",
              "      <td>1.372493</td>\n",
              "      <td>1.475589</td>\n",
              "    </tr>\n",
              "    <tr>\n",
              "      <th>2020-01-03</th>\n",
              "      <td>0.370820</td>\n",
              "      <td>0.668729</td>\n",
              "      <td>-1.673084</td>\n",
              "      <td>1.337538</td>\n",
              "      <td>-0.466822</td>\n",
              "    </tr>\n",
              "    <tr>\n",
              "      <th>2020-01-04</th>\n",
              "      <td>0.623525</td>\n",
              "      <td>-1.845401</td>\n",
              "      <td>-0.944458</td>\n",
              "      <td>0.223560</td>\n",
              "      <td>-0.412013</td>\n",
              "    </tr>\n",
              "    <tr>\n",
              "      <th>2020-01-05</th>\n",
              "      <td>1.369901</td>\n",
              "      <td>-1.366934</td>\n",
              "      <td>0.157924</td>\n",
              "      <td>-0.350285</td>\n",
              "      <td>0.473977</td>\n",
              "    </tr>\n",
              "    <tr>\n",
              "      <th>2020-01-06</th>\n",
              "      <td>0.683218</td>\n",
              "      <td>1.283325</td>\n",
              "      <td>1.455264</td>\n",
              "      <td>1.070301</td>\n",
              "      <td>-0.562917</td>\n",
              "    </tr>\n",
              "  </tbody>\n",
              "</table>\n",
              "</div>"
            ],
            "text/plain": [
              "                   A         B         C         D         E\n",
              "2020-01-01 -0.085765 -1.994739 -0.612832 -0.994954 -0.167886\n",
              "2020-01-02  0.790734  1.103944  0.177617  1.372493  1.475589\n",
              "2020-01-03  0.370820  0.668729 -1.673084  1.337538 -0.466822\n",
              "2020-01-04  0.623525 -1.845401 -0.944458  0.223560 -0.412013\n",
              "2020-01-05  1.369901 -1.366934  0.157924 -0.350285  0.473977\n",
              "2020-01-06  0.683218  1.283325  1.455264  1.070301 -0.562917"
            ]
          },
          "metadata": {
            "tags": []
          },
          "execution_count": 37
        }
      ]
    },
    {
      "cell_type": "markdown",
      "metadata": {
        "id": "epmIfC-zmhTT"
      },
      "source": [
        "Transposição de DataFrame"
      ]
    },
    {
      "cell_type": "code",
      "metadata": {
        "colab": {
          "base_uri": "https://localhost:8080/",
          "height": 206
        },
        "id": "UN8PFnjkgNHV",
        "outputId": "a541a718-2454-4d7c-b767-19b2456672c3"
      },
      "source": [
        "ndf.T"
      ],
      "execution_count": 38,
      "outputs": [
        {
          "output_type": "execute_result",
          "data": {
            "text/html": [
              "<div>\n",
              "<style scoped>\n",
              "    .dataframe tbody tr th:only-of-type {\n",
              "        vertical-align: middle;\n",
              "    }\n",
              "\n",
              "    .dataframe tbody tr th {\n",
              "        vertical-align: top;\n",
              "    }\n",
              "\n",
              "    .dataframe thead th {\n",
              "        text-align: right;\n",
              "    }\n",
              "</style>\n",
              "<table border=\"1\" class=\"dataframe\">\n",
              "  <thead>\n",
              "    <tr style=\"text-align: right;\">\n",
              "      <th></th>\n",
              "      <th>2020-01-01</th>\n",
              "      <th>2020-01-02</th>\n",
              "      <th>2020-01-03</th>\n",
              "      <th>2020-01-04</th>\n",
              "      <th>2020-01-05</th>\n",
              "      <th>2020-01-06</th>\n",
              "    </tr>\n",
              "  </thead>\n",
              "  <tbody>\n",
              "    <tr>\n",
              "      <th>A</th>\n",
              "      <td>-0.085765</td>\n",
              "      <td>0.790734</td>\n",
              "      <td>0.370820</td>\n",
              "      <td>0.623525</td>\n",
              "      <td>1.369901</td>\n",
              "      <td>0.683218</td>\n",
              "    </tr>\n",
              "    <tr>\n",
              "      <th>B</th>\n",
              "      <td>-1.994739</td>\n",
              "      <td>1.103944</td>\n",
              "      <td>0.668729</td>\n",
              "      <td>-1.845401</td>\n",
              "      <td>-1.366934</td>\n",
              "      <td>1.283325</td>\n",
              "    </tr>\n",
              "    <tr>\n",
              "      <th>C</th>\n",
              "      <td>-0.612832</td>\n",
              "      <td>0.177617</td>\n",
              "      <td>-1.673084</td>\n",
              "      <td>-0.944458</td>\n",
              "      <td>0.157924</td>\n",
              "      <td>1.455264</td>\n",
              "    </tr>\n",
              "    <tr>\n",
              "      <th>D</th>\n",
              "      <td>-0.994954</td>\n",
              "      <td>1.372493</td>\n",
              "      <td>1.337538</td>\n",
              "      <td>0.223560</td>\n",
              "      <td>-0.350285</td>\n",
              "      <td>1.070301</td>\n",
              "    </tr>\n",
              "    <tr>\n",
              "      <th>E</th>\n",
              "      <td>-0.167886</td>\n",
              "      <td>1.475589</td>\n",
              "      <td>-0.466822</td>\n",
              "      <td>-0.412013</td>\n",
              "      <td>0.473977</td>\n",
              "      <td>-0.562917</td>\n",
              "    </tr>\n",
              "  </tbody>\n",
              "</table>\n",
              "</div>"
            ],
            "text/plain": [
              "   2020-01-01  2020-01-02  2020-01-03  2020-01-04  2020-01-05  2020-01-06\n",
              "A   -0.085765    0.790734    0.370820    0.623525    1.369901    0.683218\n",
              "B   -1.994739    1.103944    0.668729   -1.845401   -1.366934    1.283325\n",
              "C   -0.612832    0.177617   -1.673084   -0.944458    0.157924    1.455264\n",
              "D   -0.994954    1.372493    1.337538    0.223560   -0.350285    1.070301\n",
              "E   -0.167886    1.475589   -0.466822   -0.412013    0.473977   -0.562917"
            ]
          },
          "metadata": {
            "tags": []
          },
          "execution_count": 38
        }
      ]
    },
    {
      "cell_type": "markdown",
      "metadata": {
        "id": "XnSkgh6bmnow"
      },
      "source": [
        "Ordenação de Dataframe"
      ]
    },
    {
      "cell_type": "code",
      "metadata": {
        "colab": {
          "base_uri": "https://localhost:8080/",
          "height": 238
        },
        "id": "pux0jDh_mEbI",
        "outputId": "8b5b00b3-8cc0-4f08-c22e-61bf83a5a3c8"
      },
      "source": [
        "ndf.sort_index(axis=1, ascending=False)"
      ],
      "execution_count": 39,
      "outputs": [
        {
          "output_type": "execute_result",
          "data": {
            "text/html": [
              "<div>\n",
              "<style scoped>\n",
              "    .dataframe tbody tr th:only-of-type {\n",
              "        vertical-align: middle;\n",
              "    }\n",
              "\n",
              "    .dataframe tbody tr th {\n",
              "        vertical-align: top;\n",
              "    }\n",
              "\n",
              "    .dataframe thead th {\n",
              "        text-align: right;\n",
              "    }\n",
              "</style>\n",
              "<table border=\"1\" class=\"dataframe\">\n",
              "  <thead>\n",
              "    <tr style=\"text-align: right;\">\n",
              "      <th></th>\n",
              "      <th>E</th>\n",
              "      <th>D</th>\n",
              "      <th>C</th>\n",
              "      <th>B</th>\n",
              "      <th>A</th>\n",
              "    </tr>\n",
              "  </thead>\n",
              "  <tbody>\n",
              "    <tr>\n",
              "      <th>2020-01-01</th>\n",
              "      <td>-0.167886</td>\n",
              "      <td>-0.994954</td>\n",
              "      <td>-0.612832</td>\n",
              "      <td>-1.994739</td>\n",
              "      <td>-0.085765</td>\n",
              "    </tr>\n",
              "    <tr>\n",
              "      <th>2020-01-02</th>\n",
              "      <td>1.475589</td>\n",
              "      <td>1.372493</td>\n",
              "      <td>0.177617</td>\n",
              "      <td>1.103944</td>\n",
              "      <td>0.790734</td>\n",
              "    </tr>\n",
              "    <tr>\n",
              "      <th>2020-01-03</th>\n",
              "      <td>-0.466822</td>\n",
              "      <td>1.337538</td>\n",
              "      <td>-1.673084</td>\n",
              "      <td>0.668729</td>\n",
              "      <td>0.370820</td>\n",
              "    </tr>\n",
              "    <tr>\n",
              "      <th>2020-01-04</th>\n",
              "      <td>-0.412013</td>\n",
              "      <td>0.223560</td>\n",
              "      <td>-0.944458</td>\n",
              "      <td>-1.845401</td>\n",
              "      <td>0.623525</td>\n",
              "    </tr>\n",
              "    <tr>\n",
              "      <th>2020-01-05</th>\n",
              "      <td>0.473977</td>\n",
              "      <td>-0.350285</td>\n",
              "      <td>0.157924</td>\n",
              "      <td>-1.366934</td>\n",
              "      <td>1.369901</td>\n",
              "    </tr>\n",
              "    <tr>\n",
              "      <th>2020-01-06</th>\n",
              "      <td>-0.562917</td>\n",
              "      <td>1.070301</td>\n",
              "      <td>1.455264</td>\n",
              "      <td>1.283325</td>\n",
              "      <td>0.683218</td>\n",
              "    </tr>\n",
              "  </tbody>\n",
              "</table>\n",
              "</div>"
            ],
            "text/plain": [
              "                   E         D         C         B         A\n",
              "2020-01-01 -0.167886 -0.994954 -0.612832 -1.994739 -0.085765\n",
              "2020-01-02  1.475589  1.372493  0.177617  1.103944  0.790734\n",
              "2020-01-03 -0.466822  1.337538 -1.673084  0.668729  0.370820\n",
              "2020-01-04 -0.412013  0.223560 -0.944458 -1.845401  0.623525\n",
              "2020-01-05  0.473977 -0.350285  0.157924 -1.366934  1.369901\n",
              "2020-01-06 -0.562917  1.070301  1.455264  1.283325  0.683218"
            ]
          },
          "metadata": {
            "tags": []
          },
          "execution_count": 39
        }
      ]
    },
    {
      "cell_type": "code",
      "metadata": {
        "colab": {
          "base_uri": "https://localhost:8080/",
          "height": 238
        },
        "id": "OkydDDKSmEen",
        "outputId": "0d0e4b0f-4be8-45c6-a03e-da2f225b26b3"
      },
      "source": [
        "ndf.sort_index(axis=1, ascending=True)"
      ],
      "execution_count": 40,
      "outputs": [
        {
          "output_type": "execute_result",
          "data": {
            "text/html": [
              "<div>\n",
              "<style scoped>\n",
              "    .dataframe tbody tr th:only-of-type {\n",
              "        vertical-align: middle;\n",
              "    }\n",
              "\n",
              "    .dataframe tbody tr th {\n",
              "        vertical-align: top;\n",
              "    }\n",
              "\n",
              "    .dataframe thead th {\n",
              "        text-align: right;\n",
              "    }\n",
              "</style>\n",
              "<table border=\"1\" class=\"dataframe\">\n",
              "  <thead>\n",
              "    <tr style=\"text-align: right;\">\n",
              "      <th></th>\n",
              "      <th>A</th>\n",
              "      <th>B</th>\n",
              "      <th>C</th>\n",
              "      <th>D</th>\n",
              "      <th>E</th>\n",
              "    </tr>\n",
              "  </thead>\n",
              "  <tbody>\n",
              "    <tr>\n",
              "      <th>2020-01-01</th>\n",
              "      <td>-0.085765</td>\n",
              "      <td>-1.994739</td>\n",
              "      <td>-0.612832</td>\n",
              "      <td>-0.994954</td>\n",
              "      <td>-0.167886</td>\n",
              "    </tr>\n",
              "    <tr>\n",
              "      <th>2020-01-02</th>\n",
              "      <td>0.790734</td>\n",
              "      <td>1.103944</td>\n",
              "      <td>0.177617</td>\n",
              "      <td>1.372493</td>\n",
              "      <td>1.475589</td>\n",
              "    </tr>\n",
              "    <tr>\n",
              "      <th>2020-01-03</th>\n",
              "      <td>0.370820</td>\n",
              "      <td>0.668729</td>\n",
              "      <td>-1.673084</td>\n",
              "      <td>1.337538</td>\n",
              "      <td>-0.466822</td>\n",
              "    </tr>\n",
              "    <tr>\n",
              "      <th>2020-01-04</th>\n",
              "      <td>0.623525</td>\n",
              "      <td>-1.845401</td>\n",
              "      <td>-0.944458</td>\n",
              "      <td>0.223560</td>\n",
              "      <td>-0.412013</td>\n",
              "    </tr>\n",
              "    <tr>\n",
              "      <th>2020-01-05</th>\n",
              "      <td>1.369901</td>\n",
              "      <td>-1.366934</td>\n",
              "      <td>0.157924</td>\n",
              "      <td>-0.350285</td>\n",
              "      <td>0.473977</td>\n",
              "    </tr>\n",
              "    <tr>\n",
              "      <th>2020-01-06</th>\n",
              "      <td>0.683218</td>\n",
              "      <td>1.283325</td>\n",
              "      <td>1.455264</td>\n",
              "      <td>1.070301</td>\n",
              "      <td>-0.562917</td>\n",
              "    </tr>\n",
              "  </tbody>\n",
              "</table>\n",
              "</div>"
            ],
            "text/plain": [
              "                   A         B         C         D         E\n",
              "2020-01-01 -0.085765 -1.994739 -0.612832 -0.994954 -0.167886\n",
              "2020-01-02  0.790734  1.103944  0.177617  1.372493  1.475589\n",
              "2020-01-03  0.370820  0.668729 -1.673084  1.337538 -0.466822\n",
              "2020-01-04  0.623525 -1.845401 -0.944458  0.223560 -0.412013\n",
              "2020-01-05  1.369901 -1.366934  0.157924 -0.350285  0.473977\n",
              "2020-01-06  0.683218  1.283325  1.455264  1.070301 -0.562917"
            ]
          },
          "metadata": {
            "tags": []
          },
          "execution_count": 40
        }
      ]
    },
    {
      "cell_type": "markdown",
      "metadata": {
        "id": "j-WPATAbnAXg"
      },
      "source": [
        "Ordenando por valores"
      ]
    },
    {
      "cell_type": "code",
      "metadata": {
        "colab": {
          "base_uri": "https://localhost:8080/",
          "height": 238
        },
        "id": "wrP_K0IhmEi_",
        "outputId": "a675959d-ce3c-403d-88e1-840abba9e0be"
      },
      "source": [
        "ndf.sort_values(by='B')"
      ],
      "execution_count": 41,
      "outputs": [
        {
          "output_type": "execute_result",
          "data": {
            "text/html": [
              "<div>\n",
              "<style scoped>\n",
              "    .dataframe tbody tr th:only-of-type {\n",
              "        vertical-align: middle;\n",
              "    }\n",
              "\n",
              "    .dataframe tbody tr th {\n",
              "        vertical-align: top;\n",
              "    }\n",
              "\n",
              "    .dataframe thead th {\n",
              "        text-align: right;\n",
              "    }\n",
              "</style>\n",
              "<table border=\"1\" class=\"dataframe\">\n",
              "  <thead>\n",
              "    <tr style=\"text-align: right;\">\n",
              "      <th></th>\n",
              "      <th>A</th>\n",
              "      <th>B</th>\n",
              "      <th>C</th>\n",
              "      <th>D</th>\n",
              "      <th>E</th>\n",
              "    </tr>\n",
              "  </thead>\n",
              "  <tbody>\n",
              "    <tr>\n",
              "      <th>2020-01-01</th>\n",
              "      <td>-0.085765</td>\n",
              "      <td>-1.994739</td>\n",
              "      <td>-0.612832</td>\n",
              "      <td>-0.994954</td>\n",
              "      <td>-0.167886</td>\n",
              "    </tr>\n",
              "    <tr>\n",
              "      <th>2020-01-04</th>\n",
              "      <td>0.623525</td>\n",
              "      <td>-1.845401</td>\n",
              "      <td>-0.944458</td>\n",
              "      <td>0.223560</td>\n",
              "      <td>-0.412013</td>\n",
              "    </tr>\n",
              "    <tr>\n",
              "      <th>2020-01-05</th>\n",
              "      <td>1.369901</td>\n",
              "      <td>-1.366934</td>\n",
              "      <td>0.157924</td>\n",
              "      <td>-0.350285</td>\n",
              "      <td>0.473977</td>\n",
              "    </tr>\n",
              "    <tr>\n",
              "      <th>2020-01-03</th>\n",
              "      <td>0.370820</td>\n",
              "      <td>0.668729</td>\n",
              "      <td>-1.673084</td>\n",
              "      <td>1.337538</td>\n",
              "      <td>-0.466822</td>\n",
              "    </tr>\n",
              "    <tr>\n",
              "      <th>2020-01-02</th>\n",
              "      <td>0.790734</td>\n",
              "      <td>1.103944</td>\n",
              "      <td>0.177617</td>\n",
              "      <td>1.372493</td>\n",
              "      <td>1.475589</td>\n",
              "    </tr>\n",
              "    <tr>\n",
              "      <th>2020-01-06</th>\n",
              "      <td>0.683218</td>\n",
              "      <td>1.283325</td>\n",
              "      <td>1.455264</td>\n",
              "      <td>1.070301</td>\n",
              "      <td>-0.562917</td>\n",
              "    </tr>\n",
              "  </tbody>\n",
              "</table>\n",
              "</div>"
            ],
            "text/plain": [
              "                   A         B         C         D         E\n",
              "2020-01-01 -0.085765 -1.994739 -0.612832 -0.994954 -0.167886\n",
              "2020-01-04  0.623525 -1.845401 -0.944458  0.223560 -0.412013\n",
              "2020-01-05  1.369901 -1.366934  0.157924 -0.350285  0.473977\n",
              "2020-01-03  0.370820  0.668729 -1.673084  1.337538 -0.466822\n",
              "2020-01-02  0.790734  1.103944  0.177617  1.372493  1.475589\n",
              "2020-01-06  0.683218  1.283325  1.455264  1.070301 -0.562917"
            ]
          },
          "metadata": {
            "tags": []
          },
          "execution_count": 41
        }
      ]
    },
    {
      "cell_type": "code",
      "metadata": {
        "colab": {
          "base_uri": "https://localhost:8080/",
          "height": 238
        },
        "id": "lLv6H2U2m_Er",
        "outputId": "b98461b3-40d2-47e4-c133-54d363208d40"
      },
      "source": [
        "ndf.sort_values(by='B', ascending=False)"
      ],
      "execution_count": 42,
      "outputs": [
        {
          "output_type": "execute_result",
          "data": {
            "text/html": [
              "<div>\n",
              "<style scoped>\n",
              "    .dataframe tbody tr th:only-of-type {\n",
              "        vertical-align: middle;\n",
              "    }\n",
              "\n",
              "    .dataframe tbody tr th {\n",
              "        vertical-align: top;\n",
              "    }\n",
              "\n",
              "    .dataframe thead th {\n",
              "        text-align: right;\n",
              "    }\n",
              "</style>\n",
              "<table border=\"1\" class=\"dataframe\">\n",
              "  <thead>\n",
              "    <tr style=\"text-align: right;\">\n",
              "      <th></th>\n",
              "      <th>A</th>\n",
              "      <th>B</th>\n",
              "      <th>C</th>\n",
              "      <th>D</th>\n",
              "      <th>E</th>\n",
              "    </tr>\n",
              "  </thead>\n",
              "  <tbody>\n",
              "    <tr>\n",
              "      <th>2020-01-06</th>\n",
              "      <td>0.683218</td>\n",
              "      <td>1.283325</td>\n",
              "      <td>1.455264</td>\n",
              "      <td>1.070301</td>\n",
              "      <td>-0.562917</td>\n",
              "    </tr>\n",
              "    <tr>\n",
              "      <th>2020-01-02</th>\n",
              "      <td>0.790734</td>\n",
              "      <td>1.103944</td>\n",
              "      <td>0.177617</td>\n",
              "      <td>1.372493</td>\n",
              "      <td>1.475589</td>\n",
              "    </tr>\n",
              "    <tr>\n",
              "      <th>2020-01-03</th>\n",
              "      <td>0.370820</td>\n",
              "      <td>0.668729</td>\n",
              "      <td>-1.673084</td>\n",
              "      <td>1.337538</td>\n",
              "      <td>-0.466822</td>\n",
              "    </tr>\n",
              "    <tr>\n",
              "      <th>2020-01-05</th>\n",
              "      <td>1.369901</td>\n",
              "      <td>-1.366934</td>\n",
              "      <td>0.157924</td>\n",
              "      <td>-0.350285</td>\n",
              "      <td>0.473977</td>\n",
              "    </tr>\n",
              "    <tr>\n",
              "      <th>2020-01-04</th>\n",
              "      <td>0.623525</td>\n",
              "      <td>-1.845401</td>\n",
              "      <td>-0.944458</td>\n",
              "      <td>0.223560</td>\n",
              "      <td>-0.412013</td>\n",
              "    </tr>\n",
              "    <tr>\n",
              "      <th>2020-01-01</th>\n",
              "      <td>-0.085765</td>\n",
              "      <td>-1.994739</td>\n",
              "      <td>-0.612832</td>\n",
              "      <td>-0.994954</td>\n",
              "      <td>-0.167886</td>\n",
              "    </tr>\n",
              "  </tbody>\n",
              "</table>\n",
              "</div>"
            ],
            "text/plain": [
              "                   A         B         C         D         E\n",
              "2020-01-06  0.683218  1.283325  1.455264  1.070301 -0.562917\n",
              "2020-01-02  0.790734  1.103944  0.177617  1.372493  1.475589\n",
              "2020-01-03  0.370820  0.668729 -1.673084  1.337538 -0.466822\n",
              "2020-01-05  1.369901 -1.366934  0.157924 -0.350285  0.473977\n",
              "2020-01-04  0.623525 -1.845401 -0.944458  0.223560 -0.412013\n",
              "2020-01-01 -0.085765 -1.994739 -0.612832 -0.994954 -0.167886"
            ]
          },
          "metadata": {
            "tags": []
          },
          "execution_count": 42
        }
      ]
    },
    {
      "cell_type": "code",
      "metadata": {
        "id": "1P4WVcaKm_Ih"
      },
      "source": [
        ""
      ],
      "execution_count": null,
      "outputs": []
    },
    {
      "cell_type": "markdown",
      "metadata": {
        "id": "DImPxsKBnhDy"
      },
      "source": [
        "### Selecionando uma variável/coluna e criando uma série"
      ]
    },
    {
      "cell_type": "code",
      "metadata": {
        "colab": {
          "base_uri": "https://localhost:8080/"
        },
        "id": "T1vF4YcHm_L6",
        "outputId": "fa937285-107d-48e3-8edf-87b8937413d5"
      },
      "source": [
        "ndf['C']"
      ],
      "execution_count": 43,
      "outputs": [
        {
          "output_type": "execute_result",
          "data": {
            "text/plain": [
              "2020-01-01   -0.612832\n",
              "2020-01-02    0.177617\n",
              "2020-01-03   -1.673084\n",
              "2020-01-04   -0.944458\n",
              "2020-01-05    0.157924\n",
              "2020-01-06    1.455264\n",
              "Freq: D, Name: C, dtype: float64"
            ]
          },
          "metadata": {
            "tags": []
          },
          "execution_count": 43
        }
      ]
    },
    {
      "cell_type": "markdown",
      "metadata": {
        "id": "8Btk_DoNn7aW"
      },
      "source": [
        "### Selecionando valores/linhas"
      ]
    },
    {
      "cell_type": "code",
      "metadata": {
        "colab": {
          "base_uri": "https://localhost:8080/",
          "height": 175
        },
        "id": "__AxfyA8mEnG",
        "outputId": "208a189b-24d1-481e-e71e-6ce33fafee32"
      },
      "source": [
        "ndf[0:4]"
      ],
      "execution_count": 44,
      "outputs": [
        {
          "output_type": "execute_result",
          "data": {
            "text/html": [
              "<div>\n",
              "<style scoped>\n",
              "    .dataframe tbody tr th:only-of-type {\n",
              "        vertical-align: middle;\n",
              "    }\n",
              "\n",
              "    .dataframe tbody tr th {\n",
              "        vertical-align: top;\n",
              "    }\n",
              "\n",
              "    .dataframe thead th {\n",
              "        text-align: right;\n",
              "    }\n",
              "</style>\n",
              "<table border=\"1\" class=\"dataframe\">\n",
              "  <thead>\n",
              "    <tr style=\"text-align: right;\">\n",
              "      <th></th>\n",
              "      <th>A</th>\n",
              "      <th>B</th>\n",
              "      <th>C</th>\n",
              "      <th>D</th>\n",
              "      <th>E</th>\n",
              "    </tr>\n",
              "  </thead>\n",
              "  <tbody>\n",
              "    <tr>\n",
              "      <th>2020-01-01</th>\n",
              "      <td>-0.085765</td>\n",
              "      <td>-1.994739</td>\n",
              "      <td>-0.612832</td>\n",
              "      <td>-0.994954</td>\n",
              "      <td>-0.167886</td>\n",
              "    </tr>\n",
              "    <tr>\n",
              "      <th>2020-01-02</th>\n",
              "      <td>0.790734</td>\n",
              "      <td>1.103944</td>\n",
              "      <td>0.177617</td>\n",
              "      <td>1.372493</td>\n",
              "      <td>1.475589</td>\n",
              "    </tr>\n",
              "    <tr>\n",
              "      <th>2020-01-03</th>\n",
              "      <td>0.370820</td>\n",
              "      <td>0.668729</td>\n",
              "      <td>-1.673084</td>\n",
              "      <td>1.337538</td>\n",
              "      <td>-0.466822</td>\n",
              "    </tr>\n",
              "    <tr>\n",
              "      <th>2020-01-04</th>\n",
              "      <td>0.623525</td>\n",
              "      <td>-1.845401</td>\n",
              "      <td>-0.944458</td>\n",
              "      <td>0.223560</td>\n",
              "      <td>-0.412013</td>\n",
              "    </tr>\n",
              "  </tbody>\n",
              "</table>\n",
              "</div>"
            ],
            "text/plain": [
              "                   A         B         C         D         E\n",
              "2020-01-01 -0.085765 -1.994739 -0.612832 -0.994954 -0.167886\n",
              "2020-01-02  0.790734  1.103944  0.177617  1.372493  1.475589\n",
              "2020-01-03  0.370820  0.668729 -1.673084  1.337538 -0.466822\n",
              "2020-01-04  0.623525 -1.845401 -0.944458  0.223560 -0.412013"
            ]
          },
          "metadata": {
            "tags": []
          },
          "execution_count": 44
        }
      ]
    },
    {
      "cell_type": "markdown",
      "metadata": {
        "id": "PihnVhXRoRXt"
      },
      "source": [
        "### Selecionando entre linhas e colunas"
      ]
    },
    {
      "cell_type": "code",
      "metadata": {
        "colab": {
          "base_uri": "https://localhost:8080/"
        },
        "id": "VcnUXj0roJfk",
        "outputId": "a58f5b90-39d0-46cb-f063-3c7d25995a07"
      },
      "source": [
        "ndf['E'][0:4]"
      ],
      "execution_count": 45,
      "outputs": [
        {
          "output_type": "execute_result",
          "data": {
            "text/plain": [
              "2020-01-01   -0.167886\n",
              "2020-01-02    1.475589\n",
              "2020-01-03   -0.466822\n",
              "2020-01-04   -0.412013\n",
              "Freq: D, Name: E, dtype: float64"
            ]
          },
          "metadata": {
            "tags": []
          },
          "execution_count": 45
        }
      ]
    },
    {
      "cell_type": "code",
      "metadata": {
        "id": "lYG2XmycoJoz"
      },
      "source": [
        ""
      ],
      "execution_count": null,
      "outputs": []
    },
    {
      "cell_type": "markdown",
      "metadata": {
        "id": "AE-DvIIuoeJ9"
      },
      "source": [
        "### Selecionando por rótulo"
      ]
    },
    {
      "cell_type": "code",
      "metadata": {
        "colab": {
          "base_uri": "https://localhost:8080/"
        },
        "id": "W2szQKUVonhc",
        "outputId": "fc4b9143-dfce-44ec-fd55-5f799111468b"
      },
      "source": [
        "ndf.loc[datas[0]]"
      ],
      "execution_count": 47,
      "outputs": [
        {
          "output_type": "execute_result",
          "data": {
            "text/plain": [
              "A   -0.085765\n",
              "B   -1.994739\n",
              "C   -0.612832\n",
              "D   -0.994954\n",
              "E   -0.167886\n",
              "Name: 2020-01-01 00:00:00, dtype: float64"
            ]
          },
          "metadata": {
            "tags": []
          },
          "execution_count": 47
        }
      ]
    },
    {
      "cell_type": "code",
      "metadata": {
        "colab": {
          "base_uri": "https://localhost:8080/",
          "height": 238
        },
        "id": "98oi4UT-onk-",
        "outputId": "612a1880-92d9-416c-c375-9b48cf5a5901"
      },
      "source": [
        "ndf.loc[:, ['B', 'C']]"
      ],
      "execution_count": 49,
      "outputs": [
        {
          "output_type": "execute_result",
          "data": {
            "text/html": [
              "<div>\n",
              "<style scoped>\n",
              "    .dataframe tbody tr th:only-of-type {\n",
              "        vertical-align: middle;\n",
              "    }\n",
              "\n",
              "    .dataframe tbody tr th {\n",
              "        vertical-align: top;\n",
              "    }\n",
              "\n",
              "    .dataframe thead th {\n",
              "        text-align: right;\n",
              "    }\n",
              "</style>\n",
              "<table border=\"1\" class=\"dataframe\">\n",
              "  <thead>\n",
              "    <tr style=\"text-align: right;\">\n",
              "      <th></th>\n",
              "      <th>B</th>\n",
              "      <th>C</th>\n",
              "    </tr>\n",
              "  </thead>\n",
              "  <tbody>\n",
              "    <tr>\n",
              "      <th>2020-01-01</th>\n",
              "      <td>-1.994739</td>\n",
              "      <td>-0.612832</td>\n",
              "    </tr>\n",
              "    <tr>\n",
              "      <th>2020-01-02</th>\n",
              "      <td>1.103944</td>\n",
              "      <td>0.177617</td>\n",
              "    </tr>\n",
              "    <tr>\n",
              "      <th>2020-01-03</th>\n",
              "      <td>0.668729</td>\n",
              "      <td>-1.673084</td>\n",
              "    </tr>\n",
              "    <tr>\n",
              "      <th>2020-01-04</th>\n",
              "      <td>-1.845401</td>\n",
              "      <td>-0.944458</td>\n",
              "    </tr>\n",
              "    <tr>\n",
              "      <th>2020-01-05</th>\n",
              "      <td>-1.366934</td>\n",
              "      <td>0.157924</td>\n",
              "    </tr>\n",
              "    <tr>\n",
              "      <th>2020-01-06</th>\n",
              "      <td>1.283325</td>\n",
              "      <td>1.455264</td>\n",
              "    </tr>\n",
              "  </tbody>\n",
              "</table>\n",
              "</div>"
            ],
            "text/plain": [
              "                   B         C\n",
              "2020-01-01 -1.994739 -0.612832\n",
              "2020-01-02  1.103944  0.177617\n",
              "2020-01-03  0.668729 -1.673084\n",
              "2020-01-04 -1.845401 -0.944458\n",
              "2020-01-05 -1.366934  0.157924\n",
              "2020-01-06  1.283325  1.455264"
            ]
          },
          "metadata": {
            "tags": []
          },
          "execution_count": 49
        }
      ]
    },
    {
      "cell_type": "markdown",
      "metadata": {
        "id": "juQ4PQszpCL2"
      },
      "source": [
        "### Selecionando uma parte específica dos dados"
      ]
    },
    {
      "cell_type": "code",
      "metadata": {
        "colab": {
          "base_uri": "https://localhost:8080/",
          "height": 144
        },
        "id": "IodNBvulonpE",
        "outputId": "dda8600f-0b47-4446-f340-2384ec74efd3"
      },
      "source": [
        "ndf.loc['20200102':'20200104', ['C', 'D']]"
      ],
      "execution_count": 52,
      "outputs": [
        {
          "output_type": "execute_result",
          "data": {
            "text/html": [
              "<div>\n",
              "<style scoped>\n",
              "    .dataframe tbody tr th:only-of-type {\n",
              "        vertical-align: middle;\n",
              "    }\n",
              "\n",
              "    .dataframe tbody tr th {\n",
              "        vertical-align: top;\n",
              "    }\n",
              "\n",
              "    .dataframe thead th {\n",
              "        text-align: right;\n",
              "    }\n",
              "</style>\n",
              "<table border=\"1\" class=\"dataframe\">\n",
              "  <thead>\n",
              "    <tr style=\"text-align: right;\">\n",
              "      <th></th>\n",
              "      <th>C</th>\n",
              "      <th>D</th>\n",
              "    </tr>\n",
              "  </thead>\n",
              "  <tbody>\n",
              "    <tr>\n",
              "      <th>2020-01-02</th>\n",
              "      <td>0.177617</td>\n",
              "      <td>1.372493</td>\n",
              "    </tr>\n",
              "    <tr>\n",
              "      <th>2020-01-03</th>\n",
              "      <td>-1.673084</td>\n",
              "      <td>1.337538</td>\n",
              "    </tr>\n",
              "    <tr>\n",
              "      <th>2020-01-04</th>\n",
              "      <td>-0.944458</td>\n",
              "      <td>0.223560</td>\n",
              "    </tr>\n",
              "  </tbody>\n",
              "</table>\n",
              "</div>"
            ],
            "text/plain": [
              "                   C         D\n",
              "2020-01-02  0.177617  1.372493\n",
              "2020-01-03 -1.673084  1.337538\n",
              "2020-01-04 -0.944458  0.223560"
            ]
          },
          "metadata": {
            "tags": []
          },
          "execution_count": 52
        }
      ]
    },
    {
      "cell_type": "markdown",
      "metadata": {
        "id": "_qIATSXXpdoI"
      },
      "source": [
        "### Trazendo valores específicos[texto do link](https://)"
      ]
    },
    {
      "cell_type": "code",
      "metadata": {
        "colab": {
          "base_uri": "https://localhost:8080/"
        },
        "id": "CgNu6f4cpe12",
        "outputId": "7a04922f-f673-4a84-c1e5-58f3389d1211"
      },
      "source": [
        "ndf.loc['20200103', ['B', 'D']]"
      ],
      "execution_count": 54,
      "outputs": [
        {
          "output_type": "execute_result",
          "data": {
            "text/plain": [
              "B    0.668729\n",
              "D    1.337538\n",
              "Name: 2020-01-03 00:00:00, dtype: float64"
            ]
          },
          "metadata": {
            "tags": []
          },
          "execution_count": 54
        }
      ]
    },
    {
      "cell_type": "markdown",
      "metadata": {
        "id": "AGZ0RDBXpqIX"
      },
      "source": [
        "### Trazendo um valor específico"
      ]
    },
    {
      "cell_type": "code",
      "metadata": {
        "colab": {
          "base_uri": "https://localhost:8080/"
        },
        "id": "8JpbG_jIp7LH",
        "outputId": "df335289-445d-41c4-e373-68f281ce744c"
      },
      "source": [
        "ndf.loc[datas[2], 'D']"
      ],
      "execution_count": 56,
      "outputs": [
        {
          "output_type": "execute_result",
          "data": {
            "text/plain": [
              "1.3375381742975472"
            ]
          },
          "metadata": {
            "tags": []
          },
          "execution_count": 56
        }
      ]
    },
    {
      "cell_type": "markdown",
      "metadata": {
        "id": "YJPp_RZBuK1D"
      },
      "source": [
        "### Outros tipos de Seleção"
      ]
    },
    {
      "cell_type": "code",
      "metadata": {
        "colab": {
          "base_uri": "https://localhost:8080/"
        },
        "id": "pcQez2-buXl5",
        "outputId": "c6ff5929-da33-4bc2-88ff-e7a466d69e04"
      },
      "source": [
        "ndf.iloc[4]"
      ],
      "execution_count": 60,
      "outputs": [
        {
          "output_type": "execute_result",
          "data": {
            "text/plain": [
              "A    1.369901\n",
              "B   -1.366934\n",
              "C    0.157924\n",
              "D   -0.350285\n",
              "E    0.473977\n",
              "Name: 2020-01-05 00:00:00, dtype: float64"
            ]
          },
          "metadata": {
            "tags": []
          },
          "execution_count": 60
        }
      ]
    },
    {
      "cell_type": "code",
      "metadata": {
        "colab": {
          "base_uri": "https://localhost:8080/",
          "height": 144
        },
        "id": "jiGtHGRuuXre",
        "outputId": "27f8495c-e7dc-4e45-ca65-474c5206c8b6"
      },
      "source": [
        "ndf.iloc[2:5, 1:3]"
      ],
      "execution_count": 62,
      "outputs": [
        {
          "output_type": "execute_result",
          "data": {
            "text/html": [
              "<div>\n",
              "<style scoped>\n",
              "    .dataframe tbody tr th:only-of-type {\n",
              "        vertical-align: middle;\n",
              "    }\n",
              "\n",
              "    .dataframe tbody tr th {\n",
              "        vertical-align: top;\n",
              "    }\n",
              "\n",
              "    .dataframe thead th {\n",
              "        text-align: right;\n",
              "    }\n",
              "</style>\n",
              "<table border=\"1\" class=\"dataframe\">\n",
              "  <thead>\n",
              "    <tr style=\"text-align: right;\">\n",
              "      <th></th>\n",
              "      <th>B</th>\n",
              "      <th>C</th>\n",
              "    </tr>\n",
              "  </thead>\n",
              "  <tbody>\n",
              "    <tr>\n",
              "      <th>2020-01-03</th>\n",
              "      <td>0.668729</td>\n",
              "      <td>-1.673084</td>\n",
              "    </tr>\n",
              "    <tr>\n",
              "      <th>2020-01-04</th>\n",
              "      <td>-1.845401</td>\n",
              "      <td>-0.944458</td>\n",
              "    </tr>\n",
              "    <tr>\n",
              "      <th>2020-01-05</th>\n",
              "      <td>-1.366934</td>\n",
              "      <td>0.157924</td>\n",
              "    </tr>\n",
              "  </tbody>\n",
              "</table>\n",
              "</div>"
            ],
            "text/plain": [
              "                   B         C\n",
              "2020-01-03  0.668729 -1.673084\n",
              "2020-01-04 -1.845401 -0.944458\n",
              "2020-01-05 -1.366934  0.157924"
            ]
          },
          "metadata": {
            "tags": []
          },
          "execution_count": 62
        }
      ]
    },
    {
      "cell_type": "code",
      "metadata": {
        "colab": {
          "base_uri": "https://localhost:8080/",
          "height": 144
        },
        "id": "ToFCrsh8u-CC",
        "outputId": "997512d1-de15-49a3-a74a-e606e63c5e63"
      },
      "source": [
        "ndf.iloc[1:4, :]"
      ],
      "execution_count": 67,
      "outputs": [
        {
          "output_type": "execute_result",
          "data": {
            "text/html": [
              "<div>\n",
              "<style scoped>\n",
              "    .dataframe tbody tr th:only-of-type {\n",
              "        vertical-align: middle;\n",
              "    }\n",
              "\n",
              "    .dataframe tbody tr th {\n",
              "        vertical-align: top;\n",
              "    }\n",
              "\n",
              "    .dataframe thead th {\n",
              "        text-align: right;\n",
              "    }\n",
              "</style>\n",
              "<table border=\"1\" class=\"dataframe\">\n",
              "  <thead>\n",
              "    <tr style=\"text-align: right;\">\n",
              "      <th></th>\n",
              "      <th>A</th>\n",
              "      <th>B</th>\n",
              "      <th>C</th>\n",
              "      <th>D</th>\n",
              "      <th>E</th>\n",
              "    </tr>\n",
              "  </thead>\n",
              "  <tbody>\n",
              "    <tr>\n",
              "      <th>2020-01-02</th>\n",
              "      <td>0.790734</td>\n",
              "      <td>1.103944</td>\n",
              "      <td>0.177617</td>\n",
              "      <td>1.372493</td>\n",
              "      <td>1.475589</td>\n",
              "    </tr>\n",
              "    <tr>\n",
              "      <th>2020-01-03</th>\n",
              "      <td>0.370820</td>\n",
              "      <td>0.668729</td>\n",
              "      <td>-1.673084</td>\n",
              "      <td>1.337538</td>\n",
              "      <td>-0.466822</td>\n",
              "    </tr>\n",
              "    <tr>\n",
              "      <th>2020-01-04</th>\n",
              "      <td>0.623525</td>\n",
              "      <td>-1.845401</td>\n",
              "      <td>-0.944458</td>\n",
              "      <td>0.223560</td>\n",
              "      <td>-0.412013</td>\n",
              "    </tr>\n",
              "  </tbody>\n",
              "</table>\n",
              "</div>"
            ],
            "text/plain": [
              "                   A         B         C         D         E\n",
              "2020-01-02  0.790734  1.103944  0.177617  1.372493  1.475589\n",
              "2020-01-03  0.370820  0.668729 -1.673084  1.337538 -0.466822\n",
              "2020-01-04  0.623525 -1.845401 -0.944458  0.223560 -0.412013"
            ]
          },
          "metadata": {
            "tags": []
          },
          "execution_count": 67
        }
      ]
    },
    {
      "cell_type": "markdown",
      "metadata": {
        "id": "GeJALTl4uxfA"
      },
      "source": [
        "**Utilizando listas**"
      ]
    },
    {
      "cell_type": "code",
      "metadata": {
        "colab": {
          "base_uri": "https://localhost:8080/",
          "height": 144
        },
        "id": "AiST19ucuXvQ",
        "outputId": "78743690-0445-40a2-9307-0aa068fce615"
      },
      "source": [
        "ndf.iloc[[1, 3, 5], [1, 3]]"
      ],
      "execution_count": 66,
      "outputs": [
        {
          "output_type": "execute_result",
          "data": {
            "text/html": [
              "<div>\n",
              "<style scoped>\n",
              "    .dataframe tbody tr th:only-of-type {\n",
              "        vertical-align: middle;\n",
              "    }\n",
              "\n",
              "    .dataframe tbody tr th {\n",
              "        vertical-align: top;\n",
              "    }\n",
              "\n",
              "    .dataframe thead th {\n",
              "        text-align: right;\n",
              "    }\n",
              "</style>\n",
              "<table border=\"1\" class=\"dataframe\">\n",
              "  <thead>\n",
              "    <tr style=\"text-align: right;\">\n",
              "      <th></th>\n",
              "      <th>B</th>\n",
              "      <th>D</th>\n",
              "    </tr>\n",
              "  </thead>\n",
              "  <tbody>\n",
              "    <tr>\n",
              "      <th>2020-01-02</th>\n",
              "      <td>1.103944</td>\n",
              "      <td>1.372493</td>\n",
              "    </tr>\n",
              "    <tr>\n",
              "      <th>2020-01-04</th>\n",
              "      <td>-1.845401</td>\n",
              "      <td>0.223560</td>\n",
              "    </tr>\n",
              "    <tr>\n",
              "      <th>2020-01-06</th>\n",
              "      <td>1.283325</td>\n",
              "      <td>1.070301</td>\n",
              "    </tr>\n",
              "  </tbody>\n",
              "</table>\n",
              "</div>"
            ],
            "text/plain": [
              "                   B         D\n",
              "2020-01-02  1.103944  1.372493\n",
              "2020-01-04 -1.845401  0.223560\n",
              "2020-01-06  1.283325  1.070301"
            ]
          },
          "metadata": {
            "tags": []
          },
          "execution_count": 66
        }
      ]
    },
    {
      "cell_type": "code",
      "metadata": {
        "id": "C5I8GPYDu92T"
      },
      "source": [
        ""
      ],
      "execution_count": null,
      "outputs": []
    },
    {
      "cell_type": "markdown",
      "metadata": {
        "id": "J9z9jv9auq_g"
      },
      "source": [
        "### Utilizando indices Booleanos"
      ]
    },
    {
      "cell_type": "code",
      "metadata": {
        "colab": {
          "base_uri": "https://localhost:8080/",
          "height": 238
        },
        "id": "AHOnrNdlvhuD",
        "outputId": "2851cde0-817e-4b18-b702-f0d41cb7be71"
      },
      "source": [
        "ndf[ndf > 0]"
      ],
      "execution_count": 71,
      "outputs": [
        {
          "output_type": "execute_result",
          "data": {
            "text/html": [
              "<div>\n",
              "<style scoped>\n",
              "    .dataframe tbody tr th:only-of-type {\n",
              "        vertical-align: middle;\n",
              "    }\n",
              "\n",
              "    .dataframe tbody tr th {\n",
              "        vertical-align: top;\n",
              "    }\n",
              "\n",
              "    .dataframe thead th {\n",
              "        text-align: right;\n",
              "    }\n",
              "</style>\n",
              "<table border=\"1\" class=\"dataframe\">\n",
              "  <thead>\n",
              "    <tr style=\"text-align: right;\">\n",
              "      <th></th>\n",
              "      <th>A</th>\n",
              "      <th>B</th>\n",
              "      <th>C</th>\n",
              "      <th>D</th>\n",
              "      <th>E</th>\n",
              "    </tr>\n",
              "  </thead>\n",
              "  <tbody>\n",
              "    <tr>\n",
              "      <th>2020-01-01</th>\n",
              "      <td>NaN</td>\n",
              "      <td>NaN</td>\n",
              "      <td>NaN</td>\n",
              "      <td>NaN</td>\n",
              "      <td>NaN</td>\n",
              "    </tr>\n",
              "    <tr>\n",
              "      <th>2020-01-02</th>\n",
              "      <td>0.790734</td>\n",
              "      <td>1.103944</td>\n",
              "      <td>0.177617</td>\n",
              "      <td>1.372493</td>\n",
              "      <td>1.475589</td>\n",
              "    </tr>\n",
              "    <tr>\n",
              "      <th>2020-01-03</th>\n",
              "      <td>0.370820</td>\n",
              "      <td>0.668729</td>\n",
              "      <td>NaN</td>\n",
              "      <td>1.337538</td>\n",
              "      <td>NaN</td>\n",
              "    </tr>\n",
              "    <tr>\n",
              "      <th>2020-01-04</th>\n",
              "      <td>0.623525</td>\n",
              "      <td>NaN</td>\n",
              "      <td>NaN</td>\n",
              "      <td>0.223560</td>\n",
              "      <td>NaN</td>\n",
              "    </tr>\n",
              "    <tr>\n",
              "      <th>2020-01-05</th>\n",
              "      <td>1.369901</td>\n",
              "      <td>NaN</td>\n",
              "      <td>0.157924</td>\n",
              "      <td>NaN</td>\n",
              "      <td>0.473977</td>\n",
              "    </tr>\n",
              "    <tr>\n",
              "      <th>2020-01-06</th>\n",
              "      <td>0.683218</td>\n",
              "      <td>1.283325</td>\n",
              "      <td>1.455264</td>\n",
              "      <td>1.070301</td>\n",
              "      <td>NaN</td>\n",
              "    </tr>\n",
              "  </tbody>\n",
              "</table>\n",
              "</div>"
            ],
            "text/plain": [
              "                   A         B         C         D         E\n",
              "2020-01-01       NaN       NaN       NaN       NaN       NaN\n",
              "2020-01-02  0.790734  1.103944  0.177617  1.372493  1.475589\n",
              "2020-01-03  0.370820  0.668729       NaN  1.337538       NaN\n",
              "2020-01-04  0.623525       NaN       NaN  0.223560       NaN\n",
              "2020-01-05  1.369901       NaN  0.157924       NaN  0.473977\n",
              "2020-01-06  0.683218  1.283325  1.455264  1.070301       NaN"
            ]
          },
          "metadata": {
            "tags": []
          },
          "execution_count": 71
        }
      ]
    },
    {
      "cell_type": "code",
      "metadata": {
        "colab": {
          "base_uri": "https://localhost:8080/",
          "height": 144
        },
        "id": "RlLpnkfzuXyf",
        "outputId": "0b1cf34d-3d5e-4c94-ee82-38b9a3fcc2a7"
      },
      "source": [
        "ndf[ndf['C'] > 0]"
      ],
      "execution_count": 70,
      "outputs": [
        {
          "output_type": "execute_result",
          "data": {
            "text/html": [
              "<div>\n",
              "<style scoped>\n",
              "    .dataframe tbody tr th:only-of-type {\n",
              "        vertical-align: middle;\n",
              "    }\n",
              "\n",
              "    .dataframe tbody tr th {\n",
              "        vertical-align: top;\n",
              "    }\n",
              "\n",
              "    .dataframe thead th {\n",
              "        text-align: right;\n",
              "    }\n",
              "</style>\n",
              "<table border=\"1\" class=\"dataframe\">\n",
              "  <thead>\n",
              "    <tr style=\"text-align: right;\">\n",
              "      <th></th>\n",
              "      <th>A</th>\n",
              "      <th>B</th>\n",
              "      <th>C</th>\n",
              "      <th>D</th>\n",
              "      <th>E</th>\n",
              "    </tr>\n",
              "  </thead>\n",
              "  <tbody>\n",
              "    <tr>\n",
              "      <th>2020-01-02</th>\n",
              "      <td>0.790734</td>\n",
              "      <td>1.103944</td>\n",
              "      <td>0.177617</td>\n",
              "      <td>1.372493</td>\n",
              "      <td>1.475589</td>\n",
              "    </tr>\n",
              "    <tr>\n",
              "      <th>2020-01-05</th>\n",
              "      <td>1.369901</td>\n",
              "      <td>-1.366934</td>\n",
              "      <td>0.157924</td>\n",
              "      <td>-0.350285</td>\n",
              "      <td>0.473977</td>\n",
              "    </tr>\n",
              "    <tr>\n",
              "      <th>2020-01-06</th>\n",
              "      <td>0.683218</td>\n",
              "      <td>1.283325</td>\n",
              "      <td>1.455264</td>\n",
              "      <td>1.070301</td>\n",
              "      <td>-0.562917</td>\n",
              "    </tr>\n",
              "  </tbody>\n",
              "</table>\n",
              "</div>"
            ],
            "text/plain": [
              "                   A         B         C         D         E\n",
              "2020-01-02  0.790734  1.103944  0.177617  1.372493  1.475589\n",
              "2020-01-05  1.369901 -1.366934  0.157924 -0.350285  0.473977\n",
              "2020-01-06  0.683218  1.283325  1.455264  1.070301 -0.562917"
            ]
          },
          "metadata": {
            "tags": []
          },
          "execution_count": 70
        }
      ]
    },
    {
      "cell_type": "code",
      "metadata": {
        "id": "40djKm4yuX2A"
      },
      "source": [
        ""
      ],
      "execution_count": null,
      "outputs": []
    },
    {
      "cell_type": "code",
      "metadata": {
        "id": "ohz1OHdfuX43"
      },
      "source": [
        ""
      ],
      "execution_count": null,
      "outputs": []
    },
    {
      "cell_type": "markdown",
      "metadata": {
        "id": "MTRBo1wPqLIA"
      },
      "source": [
        "\r\n",
        "### Convertendo em uma matriz\r\n",
        "\r\n"
      ]
    },
    {
      "cell_type": "code",
      "metadata": {
        "colab": {
          "base_uri": "https://localhost:8080/"
        },
        "id": "txIqhdA4h7QJ",
        "outputId": "cc4d0b60-dede-4b73-dc1b-0e9085094826"
      },
      "source": [
        "ndf.to_numpy\r\n"
      ],
      "execution_count": 58,
      "outputs": [
        {
          "output_type": "execute_result",
          "data": {
            "text/plain": [
              "<bound method DataFrame.to_numpy of                    A         B         C         D         E\n",
              "2020-01-01 -0.085765 -1.994739 -0.612832 -0.994954 -0.167886\n",
              "2020-01-02  0.790734  1.103944  0.177617  1.372493  1.475589\n",
              "2020-01-03  0.370820  0.668729 -1.673084  1.337538 -0.466822\n",
              "2020-01-04  0.623525 -1.845401 -0.944458  0.223560 -0.412013\n",
              "2020-01-05  1.369901 -1.366934  0.157924 -0.350285  0.473977\n",
              "2020-01-06  0.683218  1.283325  1.455264  1.070301 -0.562917>"
            ]
          },
          "metadata": {
            "tags": []
          },
          "execution_count": 58
        }
      ]
    },
    {
      "cell_type": "code",
      "metadata": {
        "id": "UcVMskLzgNKU"
      },
      "source": [
        ""
      ],
      "execution_count": null,
      "outputs": []
    },
    {
      "cell_type": "code",
      "metadata": {
        "id": "BXAHYuYYgNNk"
      },
      "source": [
        ""
      ],
      "execution_count": null,
      "outputs": []
    }
  ]
}