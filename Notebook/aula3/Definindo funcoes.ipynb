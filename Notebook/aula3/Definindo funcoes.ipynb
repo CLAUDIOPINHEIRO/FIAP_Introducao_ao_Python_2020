{
 "cells": [
  {
   "cell_type": "markdown",
   "metadata": {},
   "source": [
    "# Trabalhando com Python"
   ]
  },
  {
   "cell_type": "markdown",
   "metadata": {},
   "source": [
    "Em Python, uma função é um grupo de instruções relacionadas que executa uma tarefa específica.\n",
    "\n",
    "As funções ajudam a quebrar nosso programa em pedaços menores e modulares. \n",
    "\n",
    "Conforme nosso programa fica cada vez maior, as funções o tornam mais organizado e gerenciável."
   ]
  },
  {
   "cell_type": "markdown",
   "metadata": {},
   "source": [
    "#### Sintaxe do comando DEF"
   ]
  },
  {
   "cell_type": "raw",
   "metadata": {},
   "source": [
    "def nome_da_funcao(parametros):\n",
    "    \"\"\"documentacao\"\"\"     #Tres aspas para documentos a funcao\n",
    "    afirmacao(oes)         #indentado"
   ]
  },
  {
   "cell_type": "markdown",
   "metadata": {},
   "source": [
    "Vamos criar uma funcao de sudacao"
   ]
  },
  {
   "cell_type": "code",
   "execution_count": 5,
   "metadata": {},
   "outputs": [],
   "source": [
    "def saudacao(nome):\n",
    "    \"\"\"\n",
    "    nome da funcao: saudacao\n",
    "    parametro: nome (formato : string)\n",
    "    \n",
    "    Esta função saúda \n",
    "    a pessoa com\n",
    "    um parâmetro\n",
    "    \"\"\"\n",
    "    print(\"Ola, \" + nome + \". Seja bem vindo!\")"
   ]
  },
  {
   "cell_type": "code",
   "execution_count": 3,
   "metadata": {},
   "outputs": [
    {
     "name": "stdout",
     "output_type": "stream",
     "text": [
      "Ola, Luisa. Seja bem vindo!\n"
     ]
    }
   ],
   "source": [
    "saudacao(\"Luisa\")"
   ]
  },
  {
   "cell_type": "markdown",
   "metadata": {},
   "source": [
    "\n",
    "\n",
    "#### Se quiser ver a documentacao desta funcao, digite **.__doc__**\n",
    "\n"
   ]
  },
  {
   "cell_type": "code",
   "execution_count": 6,
   "metadata": {},
   "outputs": [
    {
     "name": "stdout",
     "output_type": "stream",
     "text": [
      "\n",
      "    nome da funcao: saudacao\n",
      "    parametro: nome (formato : string)\n",
      "    \n",
      "    Esta função saúda \n",
      "    a pessoa com\n",
      "    um parâmetro\n",
      "    \n"
     ]
    }
   ],
   "source": [
    "print(saudacao.__doc__)"
   ]
  },
  {
   "cell_type": "code",
   "execution_count": null,
   "metadata": {},
   "outputs": [],
   "source": [
    "# A opcao **RETURN**\n",
    "\n",
    "A instrução return é usada para sair de uma função e voltar ao local de onde foi chamada."
   ]
  },
  {
   "cell_type": "code",
   "execution_count": 8,
   "metadata": {},
   "outputs": [],
   "source": [
    "def valor_absoluto(numero):\n",
    "    \"\"\"\n",
    "    Nome: valor_absoluto\n",
    "    numero: valor solicitado (formato : inteiro ou float)\n",
    "    \n",
    "    Esta funcao retorna o valor absoluto \n",
    "    de um numero solicitado\n",
    "    \"\"\"\n",
    "\n",
    "    if numero >= 0:\n",
    "        return numero\n",
    "    else:\n",
    "        return -numero"
   ]
  },
  {
   "cell_type": "code",
   "execution_count": 9,
   "metadata": {},
   "outputs": [
    {
     "data": {
      "text/plain": [
       "4"
      ]
     },
     "execution_count": 9,
     "metadata": {},
     "output_type": "execute_result"
    }
   ],
   "source": [
    "valor_absoluto(4)"
   ]
  },
  {
   "cell_type": "code",
   "execution_count": 10,
   "metadata": {},
   "outputs": [
    {
     "data": {
      "text/plain": [
       "54"
      ]
     },
     "execution_count": 10,
     "metadata": {},
     "output_type": "execute_result"
    }
   ],
   "source": [
    "valor_absoluto(-54)"
   ]
  },
  {
   "cell_type": "code",
   "execution_count": 11,
   "metadata": {},
   "outputs": [
    {
     "data": {
      "text/plain": [
       "2.34"
      ]
     },
     "execution_count": 11,
     "metadata": {},
     "output_type": "execute_result"
    }
   ],
   "source": [
    "valor_absoluto(-2.34)"
   ]
  },
  {
   "cell_type": "code",
   "execution_count": null,
   "metadata": {},
   "outputs": [],
   "source": []
  },
  {
   "cell_type": "code",
   "execution_count": 19,
   "metadata": {},
   "outputs": [
    {
     "name": "stdout",
     "output_type": "stream",
     "text": [
      "\n",
      "Valor dentro da funcao: 100\n",
      "\n",
      "\n",
      "Valor fora da funcao: 200\n"
     ]
    }
   ],
   "source": [
    "def funcao():\n",
    "    a = 100\n",
    "    print(\"\\nValor dentro da funcao:\",a)\n",
    "    print(\"\\n\")\n",
    "\n",
    "a = 200\n",
    "funcao()\n",
    "print(\"Valor fora da funcao:\",a)\n"
   ]
  },
  {
   "cell_type": "code",
   "execution_count": null,
   "metadata": {},
   "outputs": [],
   "source": []
  },
  {
   "cell_type": "markdown",
   "metadata": {},
   "source": [
    "# Funcoes internas "
   ]
  },
  {
   "cell_type": "markdown",
   "metadata": {},
   "source": [
    "Python abs ()\n",
    "retorna o valor absoluto de um número\n",
    "\n",
    "Python all ()\n",
    "retorna verdadeiro quando todos os elementos em iterável são verdadeiros\n",
    "\n",
    "Python any ()\n",
    "Verifica se algum elemento de um Iterável é verdadeiro\n",
    "\n",
    "Python ascii ()\n",
    "Retorna string contendo representação para impressão\n",
    "\n",
    "Python bin()\n",
    "converte inteiro em string binário\n",
    "\n",
    "Python bool ()\n",
    "Converte um valor em booleano\n",
    "\n",
    "Python bytearray ()\n",
    "retorna a matriz de determinado tamanho de byte\n",
    "\n",
    "Python bytes()\n",
    "retorna objeto de bytes imutáveis\n",
    "\n",
    "Python callable ()\n",
    "Verifica se o objeto é chamável\n",
    "\n",
    "Python chr ()\n",
    "Retorna um caractere (uma string) de um inteiro\n",
    "\n",
    "\n",
    "Python compile ()\n",
    "Retorna um objeto de código Python\n",
    "\n",
    "Python complex()\n",
    "Cria um Número Complexo\n",
    "\n",
    "Python delattr ()\n",
    "Exclui Atributo do Objeto\n",
    "\n",
    "Python dict ()\n",
    "Cria um Dicionário\n",
    "\n",
    "Python dir ()\n",
    "Tenta retornar atributos do objeto\n",
    "\n",
    "Python divmod ()\n",
    "Retorna uma tupla de quociente e resto\n",
    "\n",
    "Python enumerate ()\n",
    "Retorna um objeto Enumerate\n",
    "\n",
    "Python eval()\n",
    "Executa código Python dentro do programa\n",
    "\n",
    "Python exec ()\n",
    "Executa programa criado dinamicamente\n",
    "\n",
    "Python filter()\n",
    "constrói iterador a partir de elementos verdadeiros\n",
    "\n",
    "Python float ()\n",
    "retorna o número de ponto flutuante de número, string\n",
    "\n",
    "Formato Python ()\n",
    "retorna a representação formatada de um valor\n",
    "\n",
    "Python frozenset ()\n",
    "retorna o objeto imutável do frozenset\n",
    "\n",
    "Python getattr ()\n",
    "retorna o valor do atributo nomeado de um objeto\n",
    "\n",
    "Python global()\n",
    "retorna o dicionário da tabela de símbolos global atual\n",
    "\n",
    "Python hasattr ()\n",
    "retorna se o objeto tem um atributo nomeado\n",
    "\n",
    "Python hash()\n",
    "retorna o valor hash de um objeto\n",
    "\n",
    "Python help()\n",
    "Invoca o Sistema de Ajuda integrado\n",
    "\n",
    "Python hex ()\n",
    "Converte para Inteiro em Hexadecimal\n",
    "\n",
    "Python id()\n",
    "Retorna Identificar de um Objeto\n",
    "\n",
    "Python in()\n",
    "lê e retorna uma linha de string\n",
    "\n",
    "Python int ()\n",
    "retorna o inteiro de um número ou string\n",
    "\n",
    "Python isinstance ()\n",
    "Verifica se um objeto é uma instância de classe\n",
    "\n",
    "Python issubclass ()\n",
    "Verifica se uma classe é uma subclasse de outra classe\n",
    "\n",
    "Python iter()\n",
    "retorna um iterador\n",
    "\n",
    "Python len ()\n",
    "Retorna o comprimento de um objeto\n",
    "\n",
    "Python list()\n",
    "cria uma lista em Python\n",
    "\n",
    "Python locals ()\n",
    "Retorna o dicionário de uma tabela de símbolos local atual\n",
    "\n",
    "Python map()\n",
    "Aplica função e retorna uma lista\n",
    "\n",
    "Python max ()\n",
    "retorna o maior item\n",
    "\n",
    "Python memoryview ()\n",
    "retorna a visão da memória de um argumento\n",
    "\n",
    "Python min ()\n",
    "retorna o menor valor\n",
    "\n",
    "Python next()\n",
    "Recupera o próximo item do iterador\n",
    "\n",
    "Python object()\n",
    "cria um objeto sem características\n",
    "\n",
    "Python oct ()\n",
    "retorna a representação octal de um inteiro\n",
    "\n",
    "Python open ()\n",
    "Retorna um objeto de arquivo\n",
    "\n",
    "Python ord ()\n",
    "retorna um inteiro do caractere Unicode\n",
    "\n",
    "Python pow ()\n",
    "retorna a potência de um número\n",
    "\n",
    "Python print()\n",
    "Imprime o Objeto Dado\n",
    "\n",
    "Python property()\n",
    "retorna o atributo da propriedade\n",
    "\n",
    "Intervalo Python ()\n",
    "devolver a sequência de inteiros entre o início e o fim\n",
    "\n",
    "Python repr ()\n",
    "retorna uma representação imprimível do objeto\n",
    "\n",
    "Python setattr ()\n",
    "define o valor de um atributo de um objeto\n",
    "\n",
    "Python slice()\n",
    "retorna um objeto de fatia\n",
    "\n",
    "Python sorted()\n",
    "retorna uma lista classificada do iterável fornecido\n",
    "\n",
    "Python staticmethod ()\n",
    "transforma um método em um método estático\n",
    "\n",
    "Python str ()\n",
    "retorna a versão da string do objeto\n",
    "\n",
    "Python sum()\n",
    "Adiciona itens de um Iterável\n",
    "\n",
    "Python super ()\n",
    "Retorna um objeto proxy da classe base\n",
    "\n",
    "Python tuple()\n",
    "Retorna uma tupla\n",
    "\n",
    "Python type()\n",
    "Retorna o tipo do objeto"
   ]
  },
  {
   "cell_type": "code",
   "execution_count": 30,
   "metadata": {},
   "outputs": [
    {
     "name": "stdout",
     "output_type": "stream",
     "text": [
      "Help on built-in function pow in module builtins:\n",
      "\n",
      "pow(base, exp, mod=None)\n",
      "    Equivalent to base**exp with 2 arguments or base**exp % mod with 3 arguments\n",
      "    \n",
      "    Some types, such as ints, are able to use a more efficient algorithm when\n",
      "    invoked using the three argument form.\n",
      "\n"
     ]
    }
   ],
   "source": [
    "help(pow)"
   ]
  },
  {
   "cell_type": "code",
   "execution_count": 31,
   "metadata": {},
   "outputs": [
    {
     "data": {
      "text/plain": [
       "125"
      ]
     },
     "execution_count": 31,
     "metadata": {},
     "output_type": "execute_result"
    }
   ],
   "source": [
    "pow(5,3)"
   ]
  },
  {
   "cell_type": "markdown",
   "metadata": {},
   "source": [
    "# Utilizando argumentos"
   ]
  },
  {
   "cell_type": "code",
   "execution_count": 34,
   "metadata": {},
   "outputs": [
    {
     "name": "stdout",
     "output_type": "stream",
     "text": [
      "Oi Luisa, Tudo bem?\n"
     ]
    }
   ],
   "source": [
    "def saudacao2(nome, mensagem):\n",
    "    \"\"\"\n",
    "    nome: saudacao\n",
    "    parametro: nome (formato:string) - nome da pessoa\n",
    "    argumento: mensagem (formato:string) - mensagem \n",
    "    \n",
    "    Esta funcao retorna uma saudacao personalizada \n",
    "    \"\"\"\n",
    "    \n",
    "    print(\"Oi\", nome + ', ' + mensagem)\n",
    "\n"
   ]
  },
  {
   "cell_type": "code",
   "execution_count": 38,
   "metadata": {},
   "outputs": [
    {
     "name": "stdout",
     "output_type": "stream",
     "text": [
      "Oi Luisa, Tudo bem?\n"
     ]
    }
   ],
   "source": [
    "saudacao2(\"Luisa\", \"Tudo bem?\")\n"
   ]
  },
  {
   "cell_type": "code",
   "execution_count": 37,
   "metadata": {},
   "outputs": [
    {
     "name": "stdout",
     "output_type": "stream",
     "text": [
      "Oi Marcos, Saudacoes meu amigo!\n"
     ]
    }
   ],
   "source": [
    "saudacao2(\"Marcos\", \"Saudacoes meu amigo!\")\n"
   ]
  },
  {
   "cell_type": "markdown",
   "metadata": {},
   "source": [
    "# Argumento padronizado"
   ]
  },
  {
   "cell_type": "code",
   "execution_count": 41,
   "metadata": {},
   "outputs": [],
   "source": [
    "def saudacao3(nome, mensagem=\"Beleza?\"):\n",
    "    \"\"\"\n",
    "    nome: saudacao\n",
    "    parametro: nome (formato:string) - nome da pessoa\n",
    "    argumento: mensagem (formato:string) - mensagem \n",
    "    \n",
    "    Esta funcao retorna uma saudacao personalizada \n",
    "    \"\"\"\n",
    "    \n",
    "    print(\"Oi\", nome + ', ' + mensagem)\n",
    "\n"
   ]
  },
  {
   "cell_type": "code",
   "execution_count": 43,
   "metadata": {},
   "outputs": [
    {
     "name": "stdout",
     "output_type": "stream",
     "text": [
      "Oi Luisa, Beleza?\n"
     ]
    }
   ],
   "source": [
    "saudacao3(\"Luisa\")"
   ]
  },
  {
   "cell_type": "markdown",
   "metadata": {},
   "source": [
    "### Potencial interessante da funcao do Python"
   ]
  },
  {
   "cell_type": "code",
   "execution_count": 44,
   "metadata": {},
   "outputs": [
    {
     "name": "stdout",
     "output_type": "stream",
     "text": [
      "Oi Joana, Topzera?\n"
     ]
    }
   ],
   "source": [
    "saudacao3(nome=\"Joana\",mensagem=\"Topzera?\")"
   ]
  },
  {
   "cell_type": "code",
   "execution_count": 45,
   "metadata": {},
   "outputs": [
    {
     "name": "stdout",
     "output_type": "stream",
     "text": [
      "Oi Joana, Topzera?\n"
     ]
    }
   ],
   "source": [
    "saudacao3(mensagem=\"Topzera?\",nome=\"Joana\")"
   ]
  },
  {
   "cell_type": "code",
   "execution_count": 47,
   "metadata": {},
   "outputs": [
    {
     "name": "stdout",
     "output_type": "stream",
     "text": [
      "Oi Luciana, o Pai ta ON?\n"
     ]
    }
   ],
   "source": [
    "saudacao3(\"Luciana\",mensagem=\"o Pai ta ON?\")"
   ]
  },
  {
   "cell_type": "markdown",
   "metadata": {},
   "source": [
    ".\n",
    "\n",
    "# Argumentos como tupla\n",
    "\n",
    "."
   ]
  },
  {
   "cell_type": "code",
   "execution_count": 52,
   "metadata": {},
   "outputs": [],
   "source": [
    "def saudacao4(*nomes):\n",
    "    \"\"\"\n",
    "    nome: nomes \n",
    "    parametro: nomes (formato:tupla)\n",
    "    \n",
    "    Esta função cumprimenta todas\n",
    "    as pessoas na tupla de nomes\n",
    "    \"\"\"\n",
    "\n",
    "    # nome e' uma tupla com argumentos'\n",
    "    for nome in nomes:\n",
    "        print(\"Oi\",nome,\",seja bem vindo!\")\n"
   ]
  },
  {
   "cell_type": "code",
   "execution_count": 53,
   "metadata": {},
   "outputs": [
    {
     "name": "stdout",
     "output_type": "stream",
     "text": [
      "Oi Luisa ,seja bem vindo!\n",
      "Oi Joana ,seja bem vindo!\n",
      "Oi Carlos ,seja bem vindo!\n",
      "Oi Juliana ,seja bem vindo!\n"
     ]
    }
   ],
   "source": [
    "\n",
    "saudacao4(\"Luisa\", \"Joana\", \"Carlos\", \"Juliana\")"
   ]
  },
  {
   "cell_type": "code",
   "execution_count": null,
   "metadata": {},
   "outputs": [],
   "source": []
  }
 ],
 "metadata": {
  "kernelspec": {
   "display_name": "Python 3.8.2 64-bit",
   "language": "python",
   "name": "python38264bitea0c04b62c164f24b0ba6c1ffae01c46"
  },
  "language_info": {
   "codemirror_mode": {
    "name": "ipython",
    "version": 3
   },
   "file_extension": ".py",
   "mimetype": "text/x-python",
   "name": "python",
   "nbconvert_exporter": "python",
   "pygments_lexer": "ipython3",
   "version": "3.8.5"
  }
 },
 "nbformat": 4,
 "nbformat_minor": 4
}
