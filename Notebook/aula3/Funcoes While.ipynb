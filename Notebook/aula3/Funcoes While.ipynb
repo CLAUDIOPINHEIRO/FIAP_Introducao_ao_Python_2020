{
 "cells": [
  {
   "cell_type": "markdown",
   "metadata": {},
   "source": [
    "# Trabalhando com Python"
   ]
  },
  {
   "cell_type": "markdown",
   "metadata": {},
   "source": [
    "Dificuldade comandos para looping"
   ]
  },
  {
   "cell_type": "code",
   "execution_count": 25,
   "metadata": {},
   "outputs": [
    {
     "name": "stdout",
     "output_type": "stream",
     "text": [
      "1\n"
     ]
    }
   ],
   "source": [
    "conta = 0\n",
    "if(conta <= 10):\n",
    "    conta=conta+1\n",
    "    print(conta)\n",
    "else:\n",
    "    print(\"Sem resultado!\")"
   ]
  },
  {
   "cell_type": "markdown",
   "metadata": {},
   "source": [
    "Utilizando comandos para looping **FOR**"
   ]
  },
  {
   "cell_type": "code",
   "execution_count": 27,
   "metadata": {},
   "outputs": [
    {
     "name": "stdout",
     "output_type": "stream",
     "text": [
      "0\n",
      "1\n",
      "2\n",
      "3\n",
      "4\n",
      "5\n",
      "6\n",
      "7\n",
      "8\n",
      "9\n"
     ]
    }
   ],
   "source": [
    "conta = 10\n",
    "for i in range(conta):\n",
    "    print(i)"
   ]
  },
  {
   "cell_type": "code",
   "execution_count": null,
   "metadata": {},
   "outputs": [],
   "source": []
  },
  {
   "cell_type": "markdown",
   "metadata": {},
   "source": [
    "### Comando **While**"
   ]
  },
  {
   "cell_type": "markdown",
   "metadata": {},
   "source": [
    "O comando while faz com que um conjunto de instruções seja executado enquanto a condição definida for atendida."
   ]
  },
  {
   "cell_type": "code",
   "execution_count": 5,
   "metadata": {},
   "outputs": [
    {
     "name": "stdout",
     "output_type": "stream",
     "text": [
      "0\n",
      "1\n",
      "2\n",
      "3\n",
      "4\n",
      "5\n",
      "6\n",
      "7\n",
      "8\n",
      "9\n",
      "10\n"
     ]
    }
   ],
   "source": [
    "indice = 0\n",
    "while (indice < 11):\n",
    "       print(indice)\n",
    "       indice   = indice + 1"
   ]
  },
  {
   "cell_type": "code",
   "execution_count": 28,
   "metadata": {},
   "outputs": [
    {
     "name": "stdout",
     "output_type": "stream",
     "text": [
      "0\n",
      "1\n",
      "2\n",
      "3\n",
      "4\n",
      "5\n",
      "6\n",
      "7\n",
      "8\n",
      "9\n",
      "10\n"
     ]
    }
   ],
   "source": [
    "indice = 0\n",
    "while (indice < 11):\n",
    "       print(indice)\n",
    "       indice += 1"
   ]
  },
  {
   "cell_type": "markdown",
   "metadata": {},
   "source": [
    " .\n",
    "\n",
    "\n",
    "#### Utilizando o **while** para sequencia - \"end\" imprimir sequencias na linha\n"
   ]
  },
  {
   "cell_type": "code",
   "execution_count": 29,
   "metadata": {},
   "outputs": [
    {
     "name": "stdout",
     "output_type": "stream",
     "text": [
      "1 2 3 4 5 6 7 8 9 10 11 12 13 14 15 16 17 18 19 20 21 22 23 24 25 26 27 28 29 30 31 32 33 34 35 36 37 38 39 40 41 42 43 44 45 46 47 48 49 50 51 52 53 54 55 56 57 58 59 60 61 62 63 64 65 66 67 68 69 70 71 72 73 74 75 76 77 78 79 80 81 82 83 84 85 86 87 88 89 90 91 92 93 94 95 96 97 98 99 100 "
     ]
    }
   ],
   "source": [
    "indice = 1\n",
    "while (indice < 101):\n",
    "       print(indice, end=\" \")\n",
    "       indice += 1"
   ]
  },
  {
   "cell_type": "markdown",
   "metadata": {},
   "source": [
    "\n",
    "#### Utilizando o **else** em conjunto com o comando **while**\n"
   ]
  },
  {
   "cell_type": "code",
   "execution_count": 18,
   "metadata": {},
   "outputs": [
    {
     "name": "stdout",
     "output_type": "stream",
     "text": [
      "0\n",
      "1\n",
      "2\n",
      "3\n",
      "4\n",
      "O looping while foi concluido com sucesso!\n"
     ]
    }
   ],
   "source": [
    "contador = 0\n",
    "while (contador < 5):\n",
    "      print(contador)\n",
    "      contador = contador + 1\n",
    "else:\n",
    "      print(\"O looping while foi concluido com sucesso!\")"
   ]
  },
  {
   "cell_type": "markdown",
   "metadata": {},
   "source": [
    "\n",
    "#### Utilizando um operador booleano alem do else em conjunto com o comando while\n"
   ]
  },
  {
   "cell_type": "code",
   "execution_count": 32,
   "metadata": {},
   "outputs": [
    {
     "name": "stdout",
     "output_type": "stream",
     "text": [
      "BLOCO while() e condicao==True\n",
      "BLOCO ELSE e condicao==False\n"
     ]
    }
   ],
   "source": [
    "condicao = True\n",
    "while(condicao):                       #<1> Enquanto Verdadeiro\n",
    "    print(\"BLOCO while() e condicao==True\")#<2>\n",
    "    condicao = False                       #<2>\n",
    "else:                                  #<2> Senao\n",
    "    print(\"BLOCO ELSE e condicao==False\")  #<3>"
   ]
  },
  {
   "cell_type": "markdown",
   "metadata": {},
   "source": [
    ".\n",
    "\n",
    "\n",
    "\n",
    "#### Utilizando o **break** em conjunto com o comando **while**\n"
   ]
  },
  {
   "cell_type": "code",
   "execution_count": 33,
   "metadata": {},
   "outputs": [
    {
     "name": "stdout",
     "output_type": "stream",
     "text": [
      "0\n",
      "1\n",
      "2\n",
      "3\n",
      "4\n",
      "5\n",
      "x é igual a 6\n"
     ]
    }
   ],
   "source": [
    "x = 0\n",
    "while x < 10:\n",
    "    print(x)\n",
    "    x += 1\n",
    "    if x == 6:\n",
    "        print(\"x é igual a 6\")\n",
    "        break\n",
    "else:\n",
    "    print(\"fim while\")"
   ]
  },
  {
   "cell_type": "code",
   "execution_count": null,
   "metadata": {},
   "outputs": [],
   "source": []
  },
  {
   "cell_type": "markdown",
   "metadata": {},
   "source": [
    "### Exercicio1:\n",
    "\n",
    "Crie um programa que solicita dois valores numericos inteiros entre 10 e 34 e realiza a **soma, a subtracao, a divisao, a multiplicacao, a exponenciacao e a raiz cubica** destes numeros.\n",
    "\n",
    "Enquanto o usuario nao digitar os dois valores dentro da faixa citada nao encerrar o programa.\n",
    "\n",
    "Conte as **tentativas realizadas**  e imprima todos os valores solicitadas.\n",
    "\n",
    "\n",
    "."
   ]
  },
  {
   "cell_type": "markdown",
   "metadata": {},
   "source": [
    "### Exercicio2:\n",
    "\n",
    "Crie um programa que solicita um valor n (numero inteiro), realiza o **fatorial de n**, desde que n seja menor que 80 e imprime ambos os valores explicando que trata-se do fatorial daquele numero.\n",
    "\n",
    "\n",
    "."
   ]
  },
  {
   "cell_type": "markdown",
   "metadata": {},
   "source": [
    "### Exercicio3\n",
    "\n",
    "Crie um programa que ajuda uma pessoa a determinar **o quanto ela podera guardar e ganhar** no periodo n (inteiro, meses), depositando os valores y (float), capital,\n",
    "considerando uma taxa de juros compostos de 3% ao mes de retorno. {M = C*(1+i)**n, M-> montante, C-> Capital, i = taxa de juros, n = periodo}\n",
    "\n",
    "Ela podera **escolher** no inicio depositos que realizara depositos iguais ou diferentes a cada um dos meses presente no periodo n.\n",
    "Apresente os valores dos montantes e dos juros mes a mes, e todos os valores envolvidos impressos. \n",
    "\n",
    "\n",
    "."
   ]
  },
  {
   "cell_type": "code",
   "execution_count": null,
   "metadata": {},
   "outputs": [],
   "source": []
  }
 ],
 "metadata": {
  "kernelspec": {
   "display_name": "Python 3.8.2 64-bit",
   "language": "python",
   "name": "python38264bitea0c04b62c164f24b0ba6c1ffae01c46"
  },
  "language_info": {
   "codemirror_mode": {
    "name": "ipython",
    "version": 3
   },
   "file_extension": ".py",
   "mimetype": "text/x-python",
   "name": "python",
   "nbconvert_exporter": "python",
   "pygments_lexer": "ipython3",
   "version": "3.8.5"
  }
 },
 "nbformat": 4,
 "nbformat_minor": 4
}
