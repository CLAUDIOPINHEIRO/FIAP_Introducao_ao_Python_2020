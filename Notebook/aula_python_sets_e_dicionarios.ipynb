{
  "nbformat": 4,
  "nbformat_minor": 0,
  "metadata": {
    "kernelspec": {
      "display_name": "Python 3",
      "language": "python",
      "name": "python3"
    },
    "language_info": {
      "codemirror_mode": {
        "name": "ipython",
        "version": 3
      },
      "file_extension": ".py",
      "mimetype": "text/x-python",
      "name": "python",
      "nbconvert_exporter": "python",
      "pygments_lexer": "ipython3",
      "version": "3.7.4"
    },
    "colab": {
      "name": "aula_python_sets e dicionarios.ipynb",
      "provenance": [],
      "collapsed_sections": []
    }
  },
  "cells": [
    {
      "cell_type": "markdown",
      "metadata": {
        "id": "-U3E-NZHWNdW"
      },
      "source": [
        "<div class=\"alert alert-block alert-info\" style=\"margin-top: 20px\">\n",
        "<img src = \"https://www.fiap.com.br/wp-content/themes/fiap2016/images/sharing/fiap.png\" width = 750, align = \"center\"></a>\n",
        "  <h1 align=center>"
      ]
    },
    {
      "cell_type": "markdown",
      "metadata": {
        "id": "VIIiwtUhWL2Q"
      },
      "source": [
        "<a id=\"ref1\"></a>\n",
        "<center><h2>Sets</h2></center>\n",
        "\n",
        "Neste laboratório, vamos dar uma olhada nos conjuntos em Python. Um conjunto é uma coleção exclusiva de objetos em Python. Você pode indicar um conjunto com colchete **{}**. O Python removerá itens duplicados:\n"
      ]
    },
    {
      "cell_type": "code",
      "metadata": {
        "id": "v3kiSZ9JWL2Q"
      },
      "source": [
        "set1={\"pop\", \"rock\", \"soul\", \"hard rock\", \"rock\", \"R&B\", \"rock\", \"disco\"}\n",
        "set1"
      ],
      "execution_count": null,
      "outputs": []
    },
    {
      "cell_type": "markdown",
      "metadata": {
        "id": "3NxzHqKHWL2S"
      },
      "source": [
        "O processo de mapeamento é ilustrado na figura:\n"
      ]
    },
    {
      "cell_type": "markdown",
      "metadata": {
        "id": "r4KFu3mMWL2S"
      },
      "source": [
        "<a ><img src = https://ibm.box.com/shared/static/i0xb9qbetek7kbh17krx05i4lqmywahm.png width = 1100, align = \"center\"></a>\n"
      ]
    },
    {
      "cell_type": "markdown",
      "metadata": {
        "id": "hEx0ccEwWL2S"
      },
      "source": [
        "Você também pode criar um conjunto de uma lista da seguinte maneira:"
      ]
    },
    {
      "cell_type": "code",
      "metadata": {
        "scrolled": true,
        "id": "Ph0Iz5GNWL2S"
      },
      "source": [
        "album_list =[ \"Michael Jackson\", \"Thriller\", 1982, \"00:42:19\", \\\n",
        "              \"Pop, Rock, R&B\", 46.0, 65, \"30-Nov-82\", None, 10.0]\n",
        "\n",
        "album_set = set(album_list)             \n",
        "album_set"
      ],
      "execution_count": null,
      "outputs": []
    },
    {
      "cell_type": "markdown",
      "metadata": {
        "id": "hPtpnsFVWL2S"
      },
      "source": [
        "Agora vamos criar um conjunto de gêneros:"
      ]
    },
    {
      "cell_type": "code",
      "metadata": {
        "id": "G3GwucFmWL2S"
      },
      "source": [
        "music_genres = set([\"pop\", \"pop\", \"rock\", \"folk rock\", \"hard rock\", \"soul\", \\\n",
        "                    \"progressive rock\", \"soft rock\", \"R&B\", \"disco\"])\n",
        "music_genres"
      ],
      "execution_count": null,
      "outputs": []
    },
    {
      "cell_type": "markdown",
      "metadata": {
        "id": "m0FicS5BWL2S"
      },
      "source": [
        "#### Converta a lista a seguir em um conjunto ['rap','house','electronic music', 'rap']:"
      ]
    },
    {
      "cell_type": "code",
      "metadata": {
        "id": "coKYdkbSWL2S"
      },
      "source": [
        "my_set=set([\"rap\", \"house\", \"eletronic music\", \"rap\"])\n",
        "my_set"
      ],
      "execution_count": null,
      "outputs": []
    },
    {
      "cell_type": "markdown",
      "metadata": {
        "id": "-0u35rnXWL2S"
      },
      "source": [
        "Duplo clique___aqui___ para solução\n",
        "<!-- Sua Resposta abaixo:\n",
        "set(['rap','house','electronic music','rap'])\n",
        "-->"
      ]
    },
    {
      "cell_type": "markdown",
      "metadata": {
        "id": "vE4Ucj8WWL2S"
      },
      "source": [
        "Observe que as duplicatas são removidas e a saída é classificada."
      ]
    },
    {
      "cell_type": "markdown",
      "metadata": {
        "id": "1xBYAmBvWL2S"
      },
      "source": [
        "Vamos obter a soma das vendas reivindicadas:"
      ]
    },
    {
      "cell_type": "markdown",
      "metadata": {
        "id": "gihmn5rcWL2S"
      },
      "source": [
        "### Considere a lista A = [1,2,2,1] e o conjunto B = conjunto ([1,2,2,1]), soma (A) = soma (B)"
      ]
    },
    {
      "cell_type": "code",
      "metadata": {
        "id": "Ri6en14WW4UO"
      },
      "source": [
        ""
      ],
      "execution_count": null,
      "outputs": []
    },
    {
      "cell_type": "code",
      "metadata": {
        "id": "YzMC9XvZW3_U"
      },
      "source": [
        ""
      ],
      "execution_count": null,
      "outputs": []
    },
    {
      "cell_type": "code",
      "metadata": {
        "id": "rxvw6ZFFW3tl"
      },
      "source": [
        ""
      ],
      "execution_count": null,
      "outputs": []
    },
    {
      "cell_type": "code",
      "metadata": {
        "id": "mYoTAXDJW3af"
      },
      "source": [
        ""
      ],
      "execution_count": null,
      "outputs": []
    },
    {
      "cell_type": "markdown",
      "metadata": {
        "id": "sYdEOkTuWL2S"
      },
      "source": [
        "Duplo clique___aqui___ para solução\n",
        "<!-- Sua Resposta abaixo:\n",
        "A=[1,2,2,1]  \n",
        "B=set([1,2,2,1])\n",
        "print(\"A soma de A é:\",sum(A))\n",
        "print(\"A soma de B é:\",sum(B))-->\n"
      ]
    },
    {
      "cell_type": "markdown",
      "metadata": {
        "id": "EsBBmG2aWL2S"
      },
      "source": [
        "Agora vamos determinar a classificação média:"
      ]
    },
    {
      "cell_type": "markdown",
      "metadata": {
        "id": "V_gpYcsTWL2S"
      },
      "source": [
        "### Definir operações"
      ]
    },
    {
      "cell_type": "markdown",
      "metadata": {
        "id": "wsMy6LnCWL2S"
      },
      "source": [
        "Vamos examinar as operações do conjunto, pois elas podem ser usadas para alterar o conjunto. Considere o conjunto ** A **:"
      ]
    },
    {
      "cell_type": "code",
      "metadata": {
        "id": "aIDQbxXDWL2S"
      },
      "source": [
        "A = set([\"Thriller\",\"Back in Black\", \"AC/DC\"] )\n",
        "A"
      ],
      "execution_count": null,
      "outputs": []
    },
    {
      "cell_type": "markdown",
      "metadata": {
        "id": "UOSYe-tFWL2S"
      },
      "source": [
        "Podemos adicionar um elemento a um conjunto usando o método ** add () **:"
      ]
    },
    {
      "cell_type": "code",
      "metadata": {
        "id": "D-xKIszeWL2S"
      },
      "source": [
        "A.add(\"NSYNC\")\n",
        "A"
      ],
      "execution_count": null,
      "outputs": []
    },
    {
      "cell_type": "markdown",
      "metadata": {
        "id": "Lx6dN-DwWL2T"
      },
      "source": [
        "Se adicionarmos o mesmo elemento duas vezes, nada acontecerá, pois não pode haver duplicatas em um conjunto:\n"
      ]
    },
    {
      "cell_type": "code",
      "metadata": {
        "id": "yFnnjpFZWL2T"
      },
      "source": [
        "A.add(\"NSYNC\")\n",
        "A"
      ],
      "execution_count": null,
      "outputs": []
    },
    {
      "cell_type": "markdown",
      "metadata": {
        "id": "HeJSDQFQWL2T"
      },
      "source": [
        "Podemos remover um item de um conjunto usando o método remove:"
      ]
    },
    {
      "cell_type": "code",
      "metadata": {
        "id": "jC7eQG7IWL2T"
      },
      "source": [
        "A.remove(\"NSYNC\")\n",
        "A"
      ],
      "execution_count": null,
      "outputs": []
    },
    {
      "cell_type": "markdown",
      "metadata": {
        "id": "eaRv_AFAWL2T"
      },
      "source": [
        "Podemos verificar se um elemento está no conjunto usando o comando ** in **:"
      ]
    },
    {
      "cell_type": "code",
      "metadata": {
        "id": "DJ9g-K4GWL2T"
      },
      "source": [
        "\"AC/DC\"  in A\n"
      ],
      "execution_count": null,
      "outputs": []
    },
    {
      "cell_type": "markdown",
      "metadata": {
        "id": "5ZdIM_ZDWL2T"
      },
      "source": [
        "\n",
        "## Índice\n",
        "\n",
        "\n",
        "<div class = \"alerta-bloco de alerta de alerta-info\" style = \"margin-top: 20px\">\n",
        "<li> <a href=\"#ref1\"> Conjuntos </a> </li>\n",
        "\n",
        "<br>\n",
        "<p> </p>\n",
        "\n",
        "</div>\n",
        "\n",
        "<hr>"
      ]
    },
    {
      "cell_type": "markdown",
      "metadata": {
        "id": "OC1iwgYbWL2T"
      },
      "source": [
        "### Trabalhando com SETS"
      ]
    },
    {
      "cell_type": "markdown",
      "metadata": {
        "id": "bumqfnrEWL2T"
      },
      "source": [
        "Lembre-se de que com conjuntos você pode verificar a diferença entre conjuntos, bem como a diferença simétrica, interseção e união:"
      ]
    },
    {
      "cell_type": "markdown",
      "metadata": {
        "id": "qc_12R-HWL2T"
      },
      "source": [
        "Considere os dois conjuntos a seguir:"
      ]
    },
    {
      "cell_type": "code",
      "metadata": {
        "id": "pf4RzBWdWL2T"
      },
      "source": [
        "album_set1 = set([\"Thriller\",'AC/DC', 'Back in Black'] )\n",
        "album_set2 = set([ \"AC/DC\",\"Back in Black\", \"The Dark Side of the Moon\"] )"
      ],
      "execution_count": null,
      "outputs": []
    },
    {
      "cell_type": "markdown",
      "metadata": {
        "id": "gb3l2oonWL2T"
      },
      "source": [
        "<a> <img src = \"https://ibm.box.com/shared/static/bl6ijga6g8r7bdfkl17qw7zh62czte47.png\" width = 850, align = \"center\"> </a>\n",
        "   <h4 align = center> Visualizando os conjuntos como dois círculos\n",
        " \n",
        "   </h4>"
      ]
    },
    {
      "cell_type": "code",
      "metadata": {
        "scrolled": true,
        "id": "SDG8uxldWL2T"
      },
      "source": [
        "album_set1, album_set2"
      ],
      "execution_count": null,
      "outputs": []
    },
    {
      "cell_type": "markdown",
      "metadata": {
        "id": "v5V4ijPsWL2T"
      },
      "source": [
        " Como os dois conjuntos contêm 'AC / DC' e 'Back in Black', representamos esses elementos comuns com a interseção de dois círculos."
      ]
    },
    {
      "cell_type": "markdown",
      "metadata": {
        "id": "pH1nsZB7WL2T"
      },
      "source": [
        " <a ><img src = \"https://ibm.box.com/shared/static/7ttuf8otui4s6axm23csmb4s3pxz16y2.png\" width = 650, align = \"center\"></a>\n",
        "  <h4 align=center>  Visualizando elementos comuns com a interseção de dois círculos.\n",
        " \n",
        "  </h4> "
      ]
    },
    {
      "cell_type": "markdown",
      "metadata": {
        "id": "emc8sPtLWL2T"
      },
      "source": [
        "Podemos encontrar os elementos comuns dos conjuntos da seguinte maneira:"
      ]
    },
    {
      "cell_type": "code",
      "metadata": {
        "id": "JGvr6ytTWL2T"
      },
      "source": [
        "album_set_3=album_set1 & album_set2\n",
        "album_set_3"
      ],
      "execution_count": null,
      "outputs": []
    },
    {
      "cell_type": "markdown",
      "metadata": {
        "id": "6mKBdvLoWL2T"
      },
      "source": [
        "Podemos encontrar todos os elementos que estão contidos apenas em ** album_set1 ** usando o método ** difference **:"
      ]
    },
    {
      "cell_type": "code",
      "metadata": {
        "scrolled": true,
        "id": "QJecmHifWL2T"
      },
      "source": [
        "album_set1.difference (album_set2)"
      ],
      "execution_count": null,
      "outputs": []
    },
    {
      "cell_type": "markdown",
      "metadata": {
        "id": "jBDycd43WL2T"
      },
      "source": [
        "Consideramos apenas elementos em ** album_set1 **; todos os elementos em ** album_set2 **, incluindo a interseção, não estão incluídos.Consideramos apenas elementos em ** album_set1 **; todos os elementos em ** album_set2 **, incluindo uma interseção, não estão incluídos."
      ]
    },
    {
      "cell_type": "markdown",
      "metadata": {
        "id": "YcYCBbRkWL2T"
      },
      "source": [
        " <a ><img src = \"https://ibm.box.com/shared/static/osmxw1qnb5t9odon2cx94wxhfzlkn1n8.png\" width = 650, align = \"center\"></a>\n",
        "  <h4 align=center>  The difference of “album_set1” and   “album_set2\n",
        " \n",
        "  </h4> "
      ]
    },
    {
      "cell_type": "markdown",
      "metadata": {
        "id": "-TIMe-sqWL2T"
      },
      "source": [
        "A diferença entre ** album_set2 ** e ** album_set1 ** é dada por:"
      ]
    },
    {
      "cell_type": "code",
      "metadata": {
        "id": "D52chYUhWL2T"
      },
      "source": [
        "album_set2.difference(album_set1)  "
      ],
      "execution_count": null,
      "outputs": []
    },
    {
      "cell_type": "markdown",
      "metadata": {
        "id": "Osz8TMIVWL2T"
      },
      "source": [
        "<a ><img src = \"https://ibm.box.com/shared/static/klgc09bgpsjudr9v3wtl8yk9s2lya3hl.png\" width = 650, align = \"center\"></a>\n",
        "  <h4 align=center>  The difference of **album_set2** and   **album_set1**\n",
        " \n",
        "  </h4> "
      ]
    },
    {
      "cell_type": "markdown",
      "metadata": {
        "id": "hIQBZDjQWL2T"
      },
      "source": [
        "Também podemos encontrar a interseção, ou seja, em ** album_list2 ** e ** album_list1 **, usando o comando intersection:"
      ]
    },
    {
      "cell_type": "code",
      "metadata": {
        "id": "1Tr5VWXnWL2T"
      },
      "source": [
        "album_set1.intersection(album_set2)   "
      ],
      "execution_count": null,
      "outputs": []
    },
    {
      "cell_type": "markdown",
      "metadata": {
        "id": "v-8RCkK6WL2T"
      },
      "source": [
        "Isso corresponde à interseção dos dois círculos:"
      ]
    },
    {
      "cell_type": "markdown",
      "metadata": {
        "id": "YAXZ11owWL2T"
      },
      "source": [
        " <a ><img src = \"https://ibm.box.com/shared/static/s2xfytq43twp6jsvbvr4o2fir7wdablo.png\" width = 650, align = \"center\"></a>\n",
        "  <h4 align=center>  Intersection of set\n",
        " \n",
        "  </h4> "
      ]
    },
    {
      "cell_type": "markdown",
      "metadata": {
        "id": "1hC64ewoWL2T"
      },
      "source": [
        "A união corresponde a todos os elementos nos dois conjuntos, representados pela coloração dos dois círculos:\n"
      ]
    },
    {
      "cell_type": "markdown",
      "metadata": {
        "id": "zXEPWf9qWL2T"
      },
      "source": [
        " <a ><img src = \"https://ibm.box.com/shared/static/vkczce5jh50g0oh53xn0ilgriflcrog0.png\" width = 650, align = \"center\"></a>\n",
        "  <h4 align=center> Figure 7:  Union of set\n",
        " \n",
        "  </h4> "
      ]
    },
    {
      "cell_type": "markdown",
      "metadata": {
        "id": "mAgp3bo-WL2T"
      },
      "source": [
        "A união é dada por:"
      ]
    },
    {
      "cell_type": "code",
      "metadata": {
        "id": "B1Uoy0Y7WL2T"
      },
      "source": [
        "album_set1.union(album_set2)"
      ],
      "execution_count": null,
      "outputs": []
    },
    {
      "cell_type": "markdown",
      "metadata": {
        "id": "p-kotiEfWL2U"
      },
      "source": [
        "E você pode verificar se um conjunto é um superconjunto ou subconjunto de outro conjunto, respectivamente, assim:"
      ]
    },
    {
      "cell_type": "code",
      "metadata": {
        "id": "8GsIJbfRWL2U"
      },
      "source": [
        "set(album_set1).issuperset(album_set2)   "
      ],
      "execution_count": null,
      "outputs": []
    },
    {
      "cell_type": "code",
      "metadata": {
        "id": "ctgu9oLKWL2U"
      },
      "source": [
        "set(album_set2).issubset(album_set1)     "
      ],
      "execution_count": null,
      "outputs": []
    },
    {
      "cell_type": "markdown",
      "metadata": {
        "id": "oWPNOQA3WL2U"
      },
      "source": [
        "Aqui está um exemplo em que ** issubset () ** é ** issuperset () ** é verdadeiro:"
      ]
    },
    {
      "cell_type": "code",
      "metadata": {
        "id": "M5-Au3PiWL2U"
      },
      "source": [
        "set({\"Back in Black\", \"AC/DC\"}).issubset(album_set1) "
      ],
      "execution_count": null,
      "outputs": []
    },
    {
      "cell_type": "code",
      "metadata": {
        "id": "F1krMecyWL2U"
      },
      "source": [
        "album_set1.issuperset({\"Back in Black\", \"AC/DC\"})   "
      ],
      "execution_count": null,
      "outputs": []
    },
    {
      "cell_type": "markdown",
      "metadata": {
        "id": "FYOWep7XWL2U"
      },
      "source": [
        "#### Crie um novo set “album_set3” que é a união do “album_set1” e do “album_set2”:"
      ]
    },
    {
      "cell_type": "code",
      "metadata": {
        "id": "Y5Mz0E4TWL2U"
      },
      "source": [
        ""
      ],
      "execution_count": null,
      "outputs": []
    },
    {
      "cell_type": "markdown",
      "metadata": {
        "id": "wDDou7oTWL2U"
      },
      "source": [
        "\n",
        "Duplo clique___aqui___ para solução\n",
        "<!-- Sua Resposta abaixo:\n",
        "album_set3=album_set1.union(album_set2)\n",
        "album_set3-->"
      ]
    },
    {
      "cell_type": "markdown",
      "metadata": {
        "id": "pxS8PBH5WL2U"
      },
      "source": [
        "#### Descubra se  \"album_set1\" é um subset de is \"album_set3\":"
      ]
    },
    {
      "cell_type": "code",
      "metadata": {
        "id": "-LZcu17aWL2U"
      },
      "source": [
        ""
      ],
      "execution_count": null,
      "outputs": []
    },
    {
      "cell_type": "markdown",
      "metadata": {
        "id": "05Qkm3xlWL2U"
      },
      "source": [
        "\n",
        "Duplo clique___aqui___ para solução\n",
        "<!-- Sua Resposta abaixo:\n",
        "album_set1.issubset(album_set3)  -->"
      ]
    },
    {
      "cell_type": "code",
      "metadata": {
        "id": "qj46-IE3WL2U"
      },
      "source": [
        ""
      ],
      "execution_count": null,
      "outputs": []
    },
    {
      "cell_type": "code",
      "metadata": {
        "id": "rA2eHfk3WL2U"
      },
      "source": [
        "Outros exemplos"
      ],
      "execution_count": null,
      "outputs": []
    },
    {
      "cell_type": "code",
      "metadata": {
        "id": "pomhFWbzWL2U"
      },
      "source": [
        "Sul=set([\"RS\",\"PR\",\"SC\"])"
      ],
      "execution_count": null,
      "outputs": []
    },
    {
      "cell_type": "code",
      "metadata": {
        "id": "O6IuZsBQWL2U"
      },
      "source": [
        "Sudeste=set([\"SP\",\"MG\",\"RJ\",\"ES\"])"
      ],
      "execution_count": null,
      "outputs": []
    },
    {
      "cell_type": "code",
      "metadata": {
        "id": "nwJaNqXEWL2U"
      },
      "source": [
        "Sul,Sudeste"
      ],
      "execution_count": null,
      "outputs": []
    },
    {
      "cell_type": "code",
      "metadata": {
        "id": "gzm5f00oWL2U"
      },
      "source": [
        "Centro_Oeste=set([\"MS\",\"MT\",\"GO\",\"TO\"])"
      ],
      "execution_count": null,
      "outputs": []
    },
    {
      "cell_type": "code",
      "metadata": {
        "id": "RkqxkQCeWL2U"
      },
      "source": [
        "Centro_Oeste.add(\"DF\")"
      ],
      "execution_count": null,
      "outputs": []
    },
    {
      "cell_type": "code",
      "metadata": {
        "id": "gAZLty-YWL2U"
      },
      "source": [
        "Centro_Oeste"
      ],
      "execution_count": null,
      "outputs": []
    },
    {
      "cell_type": "code",
      "metadata": {
        "id": "Xe2KbEZfWL2U"
      },
      "source": [
        "Sul.difference(Sudeste)"
      ],
      "execution_count": null,
      "outputs": []
    },
    {
      "cell_type": "code",
      "metadata": {
        "id": "UwHhyWdwWL2U"
      },
      "source": [
        "Sudeste.difference(Sul)"
      ],
      "execution_count": null,
      "outputs": []
    },
    {
      "cell_type": "code",
      "metadata": {
        "id": "d4Gx39mrWL2U"
      },
      "source": [
        "Sul.union(Sudeste)"
      ],
      "execution_count": null,
      "outputs": []
    },
    {
      "cell_type": "code",
      "metadata": {
        "id": "qK_AbKRiWL2U"
      },
      "source": [
        "Sul"
      ],
      "execution_count": null,
      "outputs": []
    },
    {
      "cell_type": "code",
      "metadata": {
        "id": "pWJwH96NWL2U"
      },
      "source": [
        "Regioes=Sul.union(Sudeste)"
      ],
      "execution_count": null,
      "outputs": []
    },
    {
      "cell_type": "code",
      "metadata": {
        "id": "R6FCGj3uWL2U"
      },
      "source": [
        "Regioes=Regioes.union(Centro_Oeste)"
      ],
      "execution_count": null,
      "outputs": []
    },
    {
      "cell_type": "code",
      "metadata": {
        "id": "jy1HmQtkWL2U"
      },
      "source": [
        "Regioes"
      ],
      "execution_count": null,
      "outputs": []
    },
    {
      "cell_type": "code",
      "metadata": {
        "id": "VJC8FBzmWL2U"
      },
      "source": [
        "Sul.intersection(Regioes)"
      ],
      "execution_count": null,
      "outputs": []
    },
    {
      "cell_type": "code",
      "metadata": {
        "id": "olqq8UDPWL2U"
      },
      "source": [
        "Regiões.diferença (Sul)"
      ],
      "execution_count": null,
      "outputs": []
    },
    {
      "cell_type": "code",
      "metadata": {
        "id": "PLa9PRbaWL2U"
      },
      "source": [
        ""
      ],
      "execution_count": null,
      "outputs": []
    }
  ]
}