{
  "nbformat": 4,
  "nbformat_minor": 0,
  "metadata": {
    "kernelspec": {
      "display_name": "Python 3",
      "language": "python",
      "name": "python3"
    },
    "language_info": {
      "codemirror_mode": {
        "name": "ipython",
        "version": 3
      },
      "file_extension": ".py",
      "mimetype": "text/x-python",
      "name": "python",
      "nbconvert_exporter": "python",
      "pygments_lexer": "ipython3",
      "version": "3.7.4"
    },
    "colab": {
      "name": "Cópia de aula_python_listas.ipynb",
      "provenance": [],
      "collapsed_sections": []
    }
  },
  "cells": [
    {
      "cell_type": "markdown",
      "metadata": {
        "id": "tp1GV-c2St2T"
      },
      "source": [
        "<div class=\"alert alert-block alert-info\" style=\"margin-top: 20px\">\n",
        "<img src = \"https://www.fiap.com.br/wp-content/themes/fiap2016/images/sharing/fiap.png\" width = 750, align = \"center\"></a>\n",
        "  <h1 align=center>"
      ]
    },
    {
      "cell_type": "markdown",
      "metadata": {
        "id": "Y9_XdQbZSt2T"
      },
      "source": [
        "<a id=\"ref1\"></a>\n",
        "<center><h2>LISTAS</h2></center>\n",
        "\n",
        "Vamos dar uma olhada nas listas em Python. Uma lista é uma coleção seqüenciada de objetos diferentes, como números inteiros, seqüências de caracteres e outras listas também.\n",
        "\n",
        "Logo podemos dizer que uma lista (= list) em Python é uma sequência ou coleção ordenada de valores de qualquer tipo ou classe tais como int, float, bool, str e mesmo list, entre outros.\n",
        "\n",
        " O endereço de cada elemento dentro de uma lista é chamado de 'índice'. Um índice é usado para acessar e se referir aos itens em uma lista.\n"
      ]
    },
    {
      "cell_type": "markdown",
      "metadata": {
        "id": "8OH6hKzVSt2T"
      },
      "source": [
        "<a ><img src = \"https://ibm.box.com/shared/static/eln445fv5nzv3wlm4u8dnfhbrcrv0hff.png\" width = 1000, align = \"center\"></a>\n",
        "  <h4 align=center> Representação de uma lista\n",
        "  </h4> \n",
        "\n",
        "\n",
        "\n"
      ]
    },
    {
      "cell_type": "markdown",
      "metadata": {
        "id": "2ieMVPjDSt2T"
      },
      "source": [
        "Para criar uma lista, digite a lista entre colchetes **[]**, com seu conteúdo entre parênteses e separado por vírgulas. Vamos tentar!"
      ]
    },
    {
      "cell_type": "code",
      "metadata": {
        "id": "Gi_kfeWqSt2U"
      },
      "source": [
        "L=[\"Michael Jackson\" , 10.1,1982]\n",
        "L"
      ],
      "execution_count": null,
      "outputs": []
    },
    {
      "cell_type": "markdown",
      "metadata": {
        "id": "gnzQWs-aSt2U"
      },
      "source": [
        "Podemos usar a indexação negativa e regular com uma lista:"
      ]
    },
    {
      "cell_type": "markdown",
      "metadata": {
        "id": "nzhk_PSRSt2U"
      },
      "source": [
        " <a ><img src = \"https://ibm.box.com/shared/static/a7ac9lnvmcaz29n86ffez4as27fl3n9m.png\" width = 1000, align = \"center\"></a>\n",
        "  <h4 align=center> Representação de uma lista\n",
        "  </h4> \n"
      ]
    },
    {
      "cell_type": "code",
      "metadata": {
        "id": "sGuSpzLWSt2U"
      },
      "source": [
        "print('o mesmo elemento usando a indexacao negativa e positiva: \\n Positivo:',L[0],\n",
        "'\\n Negativo:' , L[-3]  )\n",
        "print('o mesmo elemento usando a indexacao negativa e positiva: \\n Positivo:',L[1],\n",
        "'\\n Negativo:' , L[-2]  )\n",
        "print('o mesmo elemento usando a indexacao negativa e positiva: \\n Positivo:',L[2],\n",
        "'\\n Negativo:' , L[-1]  )"
      ],
      "execution_count": null,
      "outputs": []
    },
    {
      "cell_type": "markdown",
      "metadata": {
        "id": "T8H511lGSt2U"
      },
      "source": [
        "As listas podem conter strings, floats e inteiros. Podemos aninhar outras listas e também aninhar tuplas e outras estruturas de dados. As mesmas convenções de indexação se aplicam ao aninhamento:    \n"
      ]
    },
    {
      "cell_type": "code",
      "metadata": {
        "id": "bLZI_DkWSt2U"
      },
      "source": [
        "[ \"Michael Jackson\", 10.1,1982,[1,2],(\"A\",1) ]\n"
      ],
      "execution_count": null,
      "outputs": []
    },
    {
      "cell_type": "markdown",
      "metadata": {
        "id": "jdOIE0RlSt2U"
      },
      "source": [
        "Também podemos executar o corte em listas. Por exemplo, se queremos os dois últimos elementos, usamos o seguinte comando:"
      ]
    },
    {
      "cell_type": "code",
      "metadata": {
        "id": "d6S811EzSt2U"
      },
      "source": [
        "L=[ \"Michael Jackson\", 10.1,1982,\"MJ\",1]\n",
        "L"
      ],
      "execution_count": null,
      "outputs": []
    },
    {
      "cell_type": "markdown",
      "metadata": {
        "id": "wYcEDNblSt2U"
      },
      "source": [
        "\n",
        "<a ><img src = \"https://ibm.box.com/shared/static/pt3pfp1sg5okwuwwpy0dnj8e94fl2mwy.png\" width = 1000, align = \"center\"></a>\n",
        "  <h4 align=center> Representação da lista\n",
        "  </h4> "
      ]
    },
    {
      "cell_type": "code",
      "metadata": {
        "id": "qsE8MIPfSt2U"
      },
      "source": [
        "L[3:5]"
      ],
      "execution_count": null,
      "outputs": []
    },
    {
      "cell_type": "markdown",
      "metadata": {
        "id": "oAfQQzciSt2U"
      },
      "source": [
        "Podemos usar o método \"estender\" para adicionar novos elementos à lista:"
      ]
    },
    {
      "cell_type": "code",
      "metadata": {
        "id": "m6OTTkHuSt2U"
      },
      "source": [
        "L=[ \"Michael Jackson\", 10.2]\n",
        "L.extend(['pop',10])\n",
        "L"
      ],
      "execution_count": null,
      "outputs": []
    },
    {
      "cell_type": "markdown",
      "metadata": {
        "id": "8NKq_xmMSt2U"
      },
      "source": [
        "Outro método semelhante é 'anexado'. Se aplicarmos 'anexado' em vez de 'estendido', adicionaremos um elemento à lista:"
      ]
    },
    {
      "cell_type": "code",
      "metadata": {
        "id": "ofuTiSPBSt2U"
      },
      "source": [
        "L=[ \"Michael Jackson\", 10.2]\n",
        "L.append(['pop',10])\n",
        "L"
      ],
      "execution_count": null,
      "outputs": []
    },
    {
      "cell_type": "markdown",
      "metadata": {
        "id": "IqkhjmFeSt2U"
      },
      "source": [
        "Cada vez que aplicamos um método, a lista muda. Se aplicarmos \"estender\", adicionaremos dois novos elementos à lista. A lista L é então modificada adicionando dois novos elementos:"
      ]
    },
    {
      "cell_type": "code",
      "metadata": {
        "id": "NqgfhvqGSt2U"
      },
      "source": [
        "L=[ \"Michael Jackson\", 10.2]\n",
        "L.extend(['pop',10])\n",
        "L"
      ],
      "execution_count": null,
      "outputs": []
    },
    {
      "cell_type": "markdown",
      "metadata": {
        "id": "MCblXgS-St2U"
      },
      "source": [
        "Se anexarmos a lista **['a', 'b']**, teremos um novo elemento que consiste em uma lista aninhada:"
      ]
    },
    {
      "cell_type": "code",
      "metadata": {
        "id": "VNTsG9z4St2U"
      },
      "source": [
        "L.append(['a','b'])\n",
        "L"
      ],
      "execution_count": null,
      "outputs": []
    },
    {
      "cell_type": "markdown",
      "metadata": {
        "id": "Zjm6WKxGSt2U"
      },
      "source": [
        "Como as listas são mutáveis, podemos alterá-las. Por exemplo, podemos alterar o primeiro elemento da seguinte maneira:"
      ]
    },
    {
      "cell_type": "code",
      "metadata": {
        "id": "qZFkWDRXSt2U"
      },
      "source": [
        "A=[\"disco\",10,1.2]\n",
        "print('Antes da mudança:', A)\n",
        "A[0]='hard rock'\n",
        "print('Depois da mudança:', A)"
      ],
      "execution_count": null,
      "outputs": []
    },
    {
      "cell_type": "markdown",
      "metadata": {
        "id": "2xX3tJ-0St2U"
      },
      "source": [
        "Também podemos excluir um elemento de uma lista usando o comando **del**:"
      ]
    },
    {
      "cell_type": "code",
      "metadata": {
        "id": "TuH1CTf1St2U"
      },
      "source": [
        "print('Antes da mudança:', A)\n",
        "del(A[0])\n",
        "print('Depois da Mudança:', A)"
      ],
      "execution_count": null,
      "outputs": []
    },
    {
      "cell_type": "markdown",
      "metadata": {
        "id": "-0m6H_5DSt2U"
      },
      "source": [
        " Podemos converter uma string em uma lista usando 'split'. Por exemplo, o método **split** converte todos os grupos de caracteres separados por um espaço em um elemento em uma lista:\n",
        "\n",
        "\n"
      ]
    },
    {
      "cell_type": "code",
      "metadata": {
        "id": "x8YsikkuSt2U"
      },
      "source": [
        "'hard rock'.split()\n"
      ],
      "execution_count": null,
      "outputs": []
    },
    {
      "cell_type": "markdown",
      "metadata": {
        "id": "kP1EvLL7St2U"
      },
      "source": [
        "Podemos usar a função split para separar strings em um caractere específico. Passamos o personagem que gostaríamos de dividir no argumento, que neste caso é uma vírgula. O resultado é uma lista e cada elemento corresponde a um conjunto de caracteres que foram separados por vírgula:"
      ]
    },
    {
      "cell_type": "code",
      "metadata": {
        "id": "4K2ortX_St2U"
      },
      "source": [
        "'A,B,C,D'.split(',')\n"
      ],
      "execution_count": null,
      "outputs": []
    },
    {
      "cell_type": "markdown",
      "metadata": {
        "id": "fW2mvI53St2U"
      },
      "source": [
        "\n",
        " Quando definimos uma variável **B** igual a **A**; **A** e **B** estão referenciando a mesma lista na memória:\n",
        " "
      ]
    },
    {
      "cell_type": "code",
      "metadata": {
        "id": "hlgNVZUtSt2U"
      },
      "source": [
        "A=[\"hard rock\",10,1.2]\n",
        "B=A\n",
        "print('A:',A)\n",
        "print('B:',B)"
      ],
      "execution_count": null,
      "outputs": []
    },
    {
      "cell_type": "markdown",
      "metadata": {
        "id": "LCVnrxs1St2U"
      },
      "source": [
        " <a ><img src = 'https://ibm.box.com/shared/static/7g2u8hqqb4birdwn7m9uir4s9wfj8mko.png' width = 1000, align = \"center\"></a>\n",
        "  "
      ]
    },
    {
      "cell_type": "code",
      "metadata": {
        "id": "pFyMnpinSt2U"
      },
      "source": [
        ""
      ],
      "execution_count": null,
      "outputs": []
    },
    {
      "cell_type": "markdown",
      "metadata": {
        "id": "a3dL4PbbSt2U"
      },
      "source": [
        "Inicialmente, o valor do primeiro elemento em **B** é definido como hard rock. Se mudarmos o primeiro elemento de A **para 'banana', obtemos um efeito colateral inesperado. Como **A e B** estão fazendo referência à mesma lista, se alterarmos a lista **A, a lista B** também será alterada. Se verificarmos o primeiro elemento de ** B, obteremos banana em vez de hard rock:\n",
        "    "
      ]
    },
    {
      "cell_type": "code",
      "metadata": {
        "id": "-ik80E73St2U"
      },
      "source": [
        "print('B[0]:',B[0])\n",
        "A[0]=\"banana\"\n",
        "print('B[0]:',B[0])"
      ],
      "execution_count": null,
      "outputs": []
    },
    {
      "cell_type": "markdown",
      "metadata": {
        "id": "vis5MRfKSt2U"
      },
      "source": [
        "Isto está demonstrado na imagem a seguir:\n"
      ]
    },
    {
      "cell_type": "markdown",
      "metadata": {
        "id": "wKJUOIKBSt2U"
      },
      "source": [
        " <a ><img src = https://ibm.box.com/shared/static/thdu6y5pzh99qpun4tu2fjvj86st0hbu.gif width = 1000, align = \"center\"></a>\n",
        "\n",
        "\n"
      ]
    },
    {
      "cell_type": "markdown",
      "metadata": {
        "id": "6umyihTSSt2U"
      },
      "source": [
        "Você pode clonar a lista **A** usando a seguinte sintaxe:"
      ]
    },
    {
      "cell_type": "code",
      "metadata": {
        "id": "5jMkPunhSt2U"
      },
      "source": [
        "B=A[:]\n",
        "B"
      ],
      "execution_count": null,
      "outputs": []
    },
    {
      "cell_type": "markdown",
      "metadata": {
        "id": "-2F5oXB3St2V"
      },
      "source": [
        "A variável **B** faz referência a uma nova cópia ou clone da lista original; isso é demonstrado na figura a seguir:"
      ]
    },
    {
      "cell_type": "markdown",
      "metadata": {
        "id": "ULOiCjG8St2V"
      },
      "source": [
        "\n",
        " <a ><img src = https://ibm.box.com/shared/static/gwx86gaoeizqjvx7xj96cb8i9hn684ei.gif width = 1000, align = \"center\"></a>\n",
        "\n",
        "\n"
      ]
    },
    {
      "cell_type": "markdown",
      "metadata": {
        "id": "ZrcgmRAXSt2V"
      },
      "source": [
        "\n",
        "Agora se você mudar **A**, **B** não irá mudar:"
      ]
    },
    {
      "cell_type": "code",
      "metadata": {
        "id": "lFrY2skuSt2V"
      },
      "source": [
        "print('B[0]:',B[0])\n",
        "A[0]=\"banana\"\n",
        "print('B[0]:',B[0])"
      ],
      "execution_count": null,
      "outputs": []
    },
    {
      "cell_type": "code",
      "metadata": {
        "id": "bnLsoqqASt2V"
      },
      "source": [
        ""
      ],
      "execution_count": null,
      "outputs": []
    },
    {
      "cell_type": "markdown",
      "metadata": {
        "id": "G4cdsmEASt2V"
      },
      "source": [
        " <a id=\"ref2\"></a>\n",
        "<center><h2>Questionário</h2></center>"
      ]
    },
    {
      "cell_type": "markdown",
      "metadata": {
        "id": "2DIMyaUuSt2V"
      },
      "source": [
        "#### Crie uma lista 'a_list', com os seguintes elementos 1, “olá”, [1,2,3] e True."
      ]
    },
    {
      "cell_type": "code",
      "metadata": {
        "id": "fejQdSuJSt2V"
      },
      "source": [
        " "
      ],
      "execution_count": null,
      "outputs": []
    },
    {
      "cell_type": "markdown",
      "metadata": {
        "id": "vx0i1yNuSt2V"
      },
      "source": [
        "Duplo_clique __aqui__ para a solução.\n",
        "<!-- resposta abaixo:\n",
        "a_list=[1, 'hello', [1,2,3 ] , True]\n",
        "a_list\n",
        "-->"
      ]
    },
    {
      "cell_type": "markdown",
      "metadata": {
        "id": "AdSsTeMESt2V"
      },
      "source": [
        "####  Encontre o valor armazenado no índice 1 de 'a_list'."
      ]
    },
    {
      "cell_type": "code",
      "metadata": {
        "id": "Yon7rPf1St2V"
      },
      "source": [
        ""
      ],
      "execution_count": null,
      "outputs": []
    },
    {
      "cell_type": "markdown",
      "metadata": {
        "id": "_FGOBMd7St2V"
      },
      "source": [
        "\n",
        "Duplo_clique __aqui__ para a solução.\n",
        "<!-- resposta abaixo:\n",
        "a_list[1]\n",
        "-->"
      ]
    },
    {
      "cell_type": "markdown",
      "metadata": {
        "id": "1DfpBmC5St2V"
      },
      "source": [
        "####  Recupere os elementos armazenados no índice 1,2 e 3 de 'a_list'."
      ]
    },
    {
      "cell_type": "code",
      "metadata": {
        "id": "MUOBEl7wTyzY"
      },
      "source": [
        ""
      ],
      "execution_count": null,
      "outputs": []
    },
    {
      "cell_type": "code",
      "metadata": {
        "id": "q6QowOHfSt2V"
      },
      "source": [
        ""
      ],
      "execution_count": null,
      "outputs": []
    },
    {
      "cell_type": "markdown",
      "metadata": {
        "id": "akUahatSSt2V"
      },
      "source": [
        "\n",
        "Duplo_clique __aqui__ para a solução.\n",
        "<!-- resposta abaixo:\n",
        "a_list[1:3]\n",
        "--> "
      ]
    },
    {
      "cell_type": "markdown",
      "metadata": {
        "id": "di76C-avSt2V"
      },
      "source": [
        "#### 4) Concatene as seguintes listas A = [1, 'a'] abd B = [2,1, 'd']: "
      ]
    },
    {
      "cell_type": "code",
      "metadata": {
        "id": "rqpuzWAISt2V"
      },
      "source": [
        ""
      ],
      "execution_count": null,
      "outputs": []
    },
    {
      "cell_type": "markdown",
      "metadata": {
        "id": "BqAz000KVGF8"
      },
      "source": [
        "Duplo_clique __aqui__ para a solução.\n",
        "<!-- resposta abaixo:\n",
        "A=[1,'a'] \n",
        "B=[2,1,'d'] \n",
        "A+B\n",
        "--> "
      ]
    },
    {
      "cell_type": "code",
      "metadata": {
        "id": "ObPHu8nOSt2V"
      },
      "source": [
        ""
      ],
      "execution_count": null,
      "outputs": []
    },
    {
      "cell_type": "markdown",
      "metadata": {
        "id": "Dw4SxfGab37D"
      },
      "source": [
        "**Tupla** é um novo tipo de armazenamento de dados parecido comuma Lista imutável. \n",
        "\n",
        "Uma Tupla é definida da mesma forma que uma lista, o que as diferencias, são os caracteres que as delimitam. \n",
        "\n",
        "Uma Lista, tem seus elementos delimitados por colchetes, enquanto que a Tupla, tem seus elementos delimitados por parêntesis\n",
        "\n"
      ]
    },
    {
      "cell_type": "code",
      "metadata": {
        "id": "r1FQrfPZcTu9"
      },
      "source": [
        ""
      ],
      "execution_count": null,
      "outputs": []
    },
    {
      "cell_type": "code",
      "metadata": {
        "id": "7QDowDgvcT1C"
      },
      "source": [
        "tupla = 'a', 'b', 'c', 'd', 'e'"
      ],
      "execution_count": 1,
      "outputs": []
    },
    {
      "cell_type": "code",
      "metadata": {
        "colab": {
          "base_uri": "https://localhost:8080/"
        },
        "id": "f5aAtsi7cV57",
        "outputId": "860a6ec0-d61d-4529-997d-1899031911c3"
      },
      "source": [
        "type(tupla)"
      ],
      "execution_count": 2,
      "outputs": [
        {
          "output_type": "execute_result",
          "data": {
            "text/plain": [
              "tuple"
            ]
          },
          "metadata": {
            "tags": []
          },
          "execution_count": 2
        }
      ]
    },
    {
      "cell_type": "code",
      "metadata": {
        "id": "Go1kRxAicbhA"
      },
      "source": [
        "tupla2 = ('a', 'b', 'c', 'd', 'e')"
      ],
      "execution_count": 3,
      "outputs": []
    },
    {
      "cell_type": "code",
      "metadata": {
        "colab": {
          "base_uri": "https://localhost:8080/"
        },
        "id": "qhGoT3gCcgCq",
        "outputId": "bceadda1-3e15-457e-b94c-a60a97ec6939"
      },
      "source": [
        "type(tupla2)"
      ],
      "execution_count": 4,
      "outputs": [
        {
          "output_type": "execute_result",
          "data": {
            "text/plain": [
              "tuple"
            ]
          },
          "metadata": {
            "tags": []
          },
          "execution_count": 4
        }
      ]
    },
    {
      "cell_type": "code",
      "metadata": {
        "colab": {
          "base_uri": "https://localhost:8080/"
        },
        "id": "rR0I5DgcckSy",
        "outputId": "5a6c4640-ae75-4669-d60e-97e1a9771496"
      },
      "source": [
        "tupla[1:3]"
      ],
      "execution_count": 5,
      "outputs": [
        {
          "output_type": "execute_result",
          "data": {
            "text/plain": [
              "('b', 'c')"
            ]
          },
          "metadata": {
            "tags": []
          },
          "execution_count": 5
        }
      ]
    },
    {
      "cell_type": "code",
      "metadata": {
        "id": "TywOK4q_cv12"
      },
      "source": [
        "temperatura = 23,45"
      ],
      "execution_count": 6,
      "outputs": []
    },
    {
      "cell_type": "code",
      "metadata": {
        "colab": {
          "base_uri": "https://localhost:8080/"
        },
        "id": "lSumfgd_dGYs",
        "outputId": "84d3c77f-73bf-47d4-f461-78712f7d3d41"
      },
      "source": [
        "type(temperatura)"
      ],
      "execution_count": 7,
      "outputs": [
        {
          "output_type": "execute_result",
          "data": {
            "text/plain": [
              "tuple"
            ]
          },
          "metadata": {
            "tags": []
          },
          "execution_count": 7
        }
      ]
    },
    {
      "cell_type": "code",
      "metadata": {
        "colab": {
          "base_uri": "https://localhost:8080/"
        },
        "id": "mY0J8F7xdJu0",
        "outputId": "aeaf7235-de66-41f0-e1d1-5d71c74c0dd2"
      },
      "source": [
        "min(temperatura)"
      ],
      "execution_count": 8,
      "outputs": [
        {
          "output_type": "execute_result",
          "data": {
            "text/plain": [
              "23"
            ]
          },
          "metadata": {
            "tags": []
          },
          "execution_count": 8
        }
      ]
    },
    {
      "cell_type": "code",
      "metadata": {
        "colab": {
          "base_uri": "https://localhost:8080/"
        },
        "id": "UjmMIr7ldOfG",
        "outputId": "15f136f8-6ecb-4873-e997-b3172db0e20c"
      },
      "source": [
        "max(temperatura)"
      ],
      "execution_count": 9,
      "outputs": [
        {
          "output_type": "execute_result",
          "data": {
            "text/plain": [
              "45"
            ]
          },
          "metadata": {
            "tags": []
          },
          "execution_count": 9
        }
      ]
    },
    {
      "cell_type": "code",
      "metadata": {
        "id": "zEVAchNHdQlN"
      },
      "source": [
        ""
      ],
      "execution_count": null,
      "outputs": []
    }
  ]
}